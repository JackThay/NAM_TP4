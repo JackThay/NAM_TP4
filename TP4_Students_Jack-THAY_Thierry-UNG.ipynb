{
 "cells": [
  {
   "cell_type": "markdown",
   "metadata": {},
   "source": [
    "# Lab Work 4 (student version): standard graph models\n",
    "\n",
    "## Students:\n",
    "## Jack Thay - 21201079\n",
    "## Thierry Ung - 3804472\n",
    "\n",
    "We can use the following libraries."
   ]
  },
  {
   "cell_type": "code",
   "execution_count": 1,
   "metadata": {},
   "outputs": [
    {
     "name": "stdout",
     "output_type": "stream",
     "text": [
      "3.8.6 (tags/v3.8.6:db45529, Sep 23 2020, 15:52:53) [MSC v.1927 64 bit (AMD64)]\n"
     ]
    }
   ],
   "source": [
    "import numpy as np\n",
    "import matplotlib.pyplot as plt\n",
    "import math\n",
    "import sys\n",
    "import random\n",
    "import time\n",
    "\n",
    "from collections import deque # Used as queue\n",
    "print(sys.version)"
   ]
  },
  {
   "cell_type": "markdown",
   "metadata": {},
   "source": [
    "This lab work will spread over sessions 5 and 6. "
   ]
  },
  {
   "cell_type": "markdown",
   "metadata": {},
   "source": [
    "## Exercise 1: Preliminary work"
   ]
  },
  {
   "cell_type": "markdown",
   "metadata": {},
   "source": [
    "### Question 1\n",
    "\n",
    "Download the graph as_caida.txt (CAIDA) on Moodle and load it in memory as a dictionary of lists (as usual). This graph is a partial map of the Internet at the AS level as obtained using BGP tables during the CAIDA project in 2007. \n",
    "\n",
    "Download also the graph ip_inet.txt (INET) on Moodle and load it in memory as a dictionary of lists. This graph is a partial map of the Internet at the IP level. \n",
    "\n",
    "Both will be used during the rest of this practical work. \n",
    "\n",
    "Apply the codes seen in the previous labs to:\n",
    "- count its number of nodes and links, \n",
    "- plot its degree distribution,\n",
    "- compute its number of triangles,\n",
    "- give an approximation of its diameter.\n"
   ]
  },
  {
   "cell_type": "code",
   "execution_count": 2,
   "metadata": {},
   "outputs": [],
   "source": [
    "# Code taken from our TP1\n",
    "\n",
    "def load_graph(filename):\n",
    "    # Initialize an empty dictionary for the adjacency list.\n",
    "    adjacency_list = {}\n",
    "    \n",
    "    # Open the specified file for reading.\n",
    "    with open(filename, 'r') as file:\n",
    "        # Loop through each line in the file.\n",
    "        for line in file:\n",
    "            # Check if the line does not start with '#' (comments)\n",
    "            if not line.startswith('#'):\n",
    "                # Split the line into two nodes representing an edge.\n",
    "                edge_info = line.strip().split()\n",
    "                node1, node2 = edge_info[0], edge_info[1]\n",
    "                # Check if node1 is not already in the adjacency list.\n",
    "                if node1 not in adjacency_list:\n",
    "                    # Initialize an empty list for node1 in the adjacency list.\n",
    "                    adjacency_list[node1] = []\n",
    "                # Check if node2 is not already in the adjacency list.\n",
    "                if node2 not in adjacency_list:\n",
    "                    # Initialize an empty list for node2 in the adjacency list.\n",
    "                    adjacency_list[node2] = []\n",
    "                # Add node2 to the adjacency list of node1 (representing an undirected edge).\n",
    "                adjacency_list[node1].append(node2)\n",
    "                # Add node1 to the adjacency list of node2 (since it's an undirected edge).\n",
    "                adjacency_list[node2].append(node1)\n",
    "\n",
    "    # Return the adjacency list representing the undirected graph.\n",
    "    return adjacency_list"
   ]
  },
  {
   "cell_type": "code",
   "execution_count": 3,
   "metadata": {},
   "outputs": [],
   "source": [
    "# Code taken from our TP1\n",
    "\n",
    "def count_nodes_edges(filename):\n",
    "    # Initialize an empty set to store unique nodes\n",
    "    nodes = set()\n",
    "    # Initialize a variable to count the number of edges\n",
    "    edges = 0\n",
    "\n",
    "    # Open the specified file in read ('read only') mode\n",
    "    with open(filename, 'r') as file:\n",
    "        # Iterate through each line in the file\n",
    "        for line in file:\n",
    "            # Remove leading and trailing whitespace and split the line into parts\n",
    "            edge_info = line.strip().split()\n",
    "            # Check if the line does not contain exactly two values (node identifiers)\n",
    "            if len(edge_info) != 2:\n",
    "                # Skip lines that don't have two values, they might be comments or errors\n",
    "                continue\n",
    "            # Add both node identifiers to the 'nodes' set\n",
    "            nodes.update(edge_info)\n",
    "            # Increment the edge count\n",
    "            edges += 1\n",
    "\n",
    "    # Calculate the number of unique nodes by finding the length of the 'nodes' set\n",
    "    num_nodes = len(nodes)\n",
    "    # final count for edges\n",
    "    num_edges = edges\n",
    "\n",
    "    # Return the counts of nodes and edges as a tuple\n",
    "    return num_nodes, num_edges"
   ]
  },
  {
   "cell_type": "code",
   "execution_count": 4,
   "metadata": {},
   "outputs": [],
   "source": [
    "# Code taken from our TP1\n",
    "\n",
    "def test_count_nodes_edges(filename):\n",
    "    start_time = time.time()\n",
    "    num_nodes, num_edges = count_nodes_edges(filename)\n",
    "    print(f\"Number of nodes: {num_nodes}\")\n",
    "    print(f\"Number of edges: {num_edges}\")\n",
    "    print(f\"Nodes and edges counted in {time.time() - start_time:.5f} seconds\")"
   ]
  },
  {
   "cell_type": "code",
   "execution_count": 5,
   "metadata": {},
   "outputs": [],
   "source": [
    "# Code taken from our TP1\n",
    "\n",
    "def compute_degree_distribution(adjacency_list):\n",
    "    # Initialize an empty dictionary to store the degree distribution.\n",
    "    degree_distribution = {}\n",
    "    \n",
    "    # Iterate through each node in the adjacency list along with its neighbors.\n",
    "    for node, neighbors in adjacency_list.items():\n",
    "        # Calculate the degree of the current node by finding the number of its neighbors.\n",
    "        degree = len(neighbors)\n",
    "        # Check if the degree already exists as a key in the degree_distribution dictionary.\n",
    "        if degree in degree_distribution:\n",
    "            # If it exists, increment the count for that degree by 1.\n",
    "            degree_distribution[degree] += 1\n",
    "        else:\n",
    "            # If it doesn't exist, add it to the degree_distribution dictionary with a count of 1.\n",
    "            degree_distribution[degree] = 1\n",
    "    \n",
    "    # Return the degree_distribution dictionary, which represents the degree distribution of nodes\n",
    "    # in the input graph, where keys are degrees, and values are the number of nodes with that degree.\n",
    "    return degree_distribution"
   ]
  },
  {
   "cell_type": "code",
   "execution_count": 6,
   "metadata": {},
   "outputs": [],
   "source": [
    "def plot_degree_distribution(adjacency_list):\n",
    "    degree_distribution = compute_degree_distribution(adjacency_list)\n",
    "\n",
    "    # Extract degrees and counts for plotting.\n",
    "    degrees = list(degree_distribution.keys())\n",
    "    counts = list(degree_distribution.values())\n",
    "    \n",
    "    # Set the y-axis to a logarithmic scale for better visualization.\n",
    "    plt.yscale('log')\n",
    "    # Set the x-axis to a logarithmic scale for better visualization.\n",
    "    plt.xscale('log')\n",
    "\n",
    "    # Plot the degree distribution with adjusted axis limits.\n",
    "    plt.scatter(degrees, counts, color='skyblue')\n",
    "    plt.xlabel('Degree')\n",
    "    plt.ylabel('Number of Nodes')\n",
    "    plt.title('Degree Distribution of the Graph')\n",
    "\n",
    "    plt.show()"
   ]
  },
  {
   "cell_type": "code",
   "execution_count": 7,
   "metadata": {},
   "outputs": [],
   "source": [
    "# Code taken from our TP2\n",
    "\n",
    "def improved_triangle_counting(graph):\n",
    "    # Initialize a counter for the number of triangles\n",
    "    nb = 0\n",
    "\n",
    "    # Iterate over all edges (u, v) where u < v\n",
    "    for u in set(graph):\n",
    "        for v in set(graph[u]):\n",
    "            # Ensure u is less than v to avoid duplicate counts\n",
    "            if u < v:\n",
    "                # Find common neighbors of u and v\n",
    "                common_neighbors = set(graph[u]) & set(graph[v])\n",
    "                # Iterate over common neighbors (w) where v < w\n",
    "                for w in common_neighbors:\n",
    "                    if v < w:\n",
    "                        # Increment the triangle counter\n",
    "                        nb += 1\n",
    "\n",
    "    # Return the total count of triangles\n",
    "    return nb"
   ]
  },
  {
   "cell_type": "code",
   "execution_count": 8,
   "metadata": {},
   "outputs": [],
   "source": [
    "# Code taken from our TP2\n",
    "\n",
    "def test_improved_triangle_count(graph):\n",
    "    start_time = time.time()\n",
    "    result = improved_triangle_counting(graph)\n",
    "    print(\"Number of triangles:\", result)\n",
    "    print(f\"Calculating triangle done in {time.time() - start_time:.5f} seconds\")"
   ]
  },
  {
   "cell_type": "code",
   "execution_count": 9,
   "metadata": {},
   "outputs": [],
   "source": [
    "# Code taken from our TP2\n",
    "\n",
    "def compute_distances(graph, start_node):\n",
    "    # Check if the starting node exists in the graph\n",
    "    if start_node not in graph: # In case someone decides to be funny and use a non-existing node\n",
    "        print(f\"<!>Error<!>: The starting node '{start_node}' not found in the graph.\")\n",
    "        print(f\"<!>Error<!>: Are you sure you didn't make a typo?\")\n",
    "        return\n",
    "    \n",
    "    # Initialize a dictionary to store distances from the start node to other nodes\n",
    "    distances = {}\n",
    "    # Initialize a deque (double-ended queue) and add the starting node\n",
    "    queue = deque()\n",
    "    queue.append(start_node)\n",
    "    # Set the distance from the start node to itself to be 0\n",
    "    distances[start_node] = 0\n",
    "\n",
    "    # Main BFS loop to compute distances\n",
    "    while queue:\n",
    "        # Get the current node from the front of the queue\n",
    "        current_node = queue.popleft()\n",
    "        # Iterate through neighbors of the current node\n",
    "        for neighbor in graph[current_node]:\n",
    "            # Check if the neighbor has not been assigned a distance\n",
    "            if neighbor not in distances:\n",
    "                # Add the neighbor to the queue\n",
    "                queue.append(neighbor)\n",
    "                # Set the distance from the start node to the neighbor\n",
    "                distances[neighbor] = distances[current_node] + 1\n",
    "\n",
    "    # Return the computed distances\n",
    "    return distances"
   ]
  },
  {
   "cell_type": "code",
   "execution_count": 10,
   "metadata": {},
   "outputs": [],
   "source": [
    "# Code taken from our TP2\n",
    "\n",
    "def lower_bound_diameter(graph, sample_size=None):\n",
    "    # Initialize the lower bound to 0\n",
    "    lower_bound = 0\n",
    "\n",
    "    # If sample_size is None, use all nodes for BFS, otherwise, use a sample\n",
    "    nodes_to_sample = list(graph.keys())\n",
    "\n",
    "    # If a sample size is specified and greater than 0\n",
    "    if sample_size is not None and sample_size > 0:\n",
    "        # Ensure that the sample size is not greater than the population size\n",
    "        sample_size = min(sample_size, len(nodes_to_sample))\n",
    "        # Randomly sample nodes for BFS\n",
    "        nodes_to_sample = random.sample(nodes_to_sample, sample_size)\n",
    "\n",
    "    # Compute distances for sampled nodes in a single BFS traversal\n",
    "    all_distances = {}\n",
    "    for start_node in nodes_to_sample:\n",
    "        # Use a BFS to compute distances from the start node to all other nodes\n",
    "        distances = compute_distances(graph, start_node)\n",
    "        all_distances[start_node] = distances\n",
    "\n",
    "    # Iterate over each node to determine eccentricity\n",
    "    for start_node, distances in all_distances.items():\n",
    "        # Find the maximum distance, representing the eccentricity of the node\n",
    "        eccentricity = max(distances.values())\n",
    "        # Update the lower bound if the eccentricity is greater\n",
    "        lower_bound = max(lower_bound, eccentricity)\n",
    "\n",
    "    # Return the computed lower bound for the diameter\n",
    "    return lower_bound"
   ]
  },
  {
   "cell_type": "code",
   "execution_count": 11,
   "metadata": {},
   "outputs": [],
   "source": [
    "# Code taken from our TP2\n",
    "\n",
    "def test_lower_bound_diameter(graph, sample_size=None):\n",
    "    start_time = time.time()\n",
    "    lower_bound = lower_bound_diameter(graph, sample_size=sample_size)\n",
    "    print(f\"Lower bound for diameter: {lower_bound}\")\n",
    "    print(f\"Calculating lower bound done in {time.time() - start_time:.5f} seconds\")"
   ]
  },
  {
   "cell_type": "code",
   "execution_count": 12,
   "metadata": {},
   "outputs": [
    {
     "name": "stdout",
     "output_type": "stream",
     "text": [
      "Number of nodes: 26475\n",
      "Number of edges: 53381\n",
      "Nodes and edges counted in 0.03303 seconds\n"
     ]
    }
   ],
   "source": [
    "filename = 'as_caida.txt'\n",
    "result = test_count_nodes_edges(filename)"
   ]
  },
  {
   "cell_type": "code",
   "execution_count": 13,
   "metadata": {},
   "outputs": [
    {
     "name": "stdout",
     "output_type": "stream",
     "text": [
      "Graph loaded in 0.04805 seconds\n"
     ]
    }
   ],
   "source": [
    "filename = 'as_caida.txt'\n",
    "start_time = time.time()\n",
    "caida_graph = load_graph(filename)\n",
    "print(f\"Graph loaded in {time.time() - start_time:.5f} seconds\")"
   ]
  },
  {
   "cell_type": "code",
   "execution_count": 14,
   "metadata": {},
   "outputs": [
    {
     "name": "stdout",
     "output_type": "stream",
     "text": [
      "{3: 2509, 227: 1, 2: 10465, 913: 1, 518: 1, 1631: 1, 2628: 1, 999: 1, 271: 1, 176: 1, 47: 6, 239: 1, 14: 62, 42: 8, 9: 129, 59: 2, 1: 9937, 50: 3, 7: 237, 30: 11, 4: 1028, 6: 341, 36: 7, 11: 98, 5: 535, 49: 6, 34: 7, 13: 60, 8: 171, 16: 40, 19: 35, 12: 75, 564: 2, 26: 14, 405: 1, 497: 1, 1699: 1, 2052: 1, 113: 1, 290: 1, 292: 1, 89: 2, 615: 1, 498: 1, 1677: 1, 220: 1, 308: 1, 319: 1, 177: 1, 311: 1, 695: 1, 20: 32, 61: 3, 124: 1, 40: 7, 222: 1, 169: 2, 72: 2, 233: 2, 95: 1, 135: 1, 540: 1, 10: 128, 156: 2, 143: 1, 327: 2, 417: 1, 142: 1, 487: 1, 52: 7, 159: 1, 38: 8, 45: 9, 31: 10, 96: 2, 17: 44, 35: 11, 102: 1, 128: 1, 23: 21, 71: 6, 99: 2, 24: 19, 21: 21, 15: 41, 27: 11, 469: 1, 129: 1, 198: 2, 426: 1, 437: 1, 111: 2, 37: 6, 68: 2, 88: 2, 182: 1, 109: 2, 51: 6, 56: 5, 104: 2, 67: 4, 127: 1, 190: 1, 53: 3, 282: 1, 22: 24, 32: 9, 33: 4, 25: 13, 28: 14, 94: 1, 65: 2, 44: 3, 82: 2, 78: 1, 18: 36, 43: 8, 83: 5, 29: 13, 58: 2, 91: 2, 184: 1, 1272: 1, 63: 4, 114: 1, 41: 8, 60: 2, 77: 2, 66: 1, 106: 1, 39: 13, 48: 1, 87: 2, 126: 1, 166: 1, 193: 1, 55: 4, 80: 2, 123: 1, 154: 1, 57: 2, 376: 1, 62: 2, 69: 2, 54: 3, 140: 1, 194: 1, 64: 2, 174: 1, 125: 1, 107: 1, 155: 2, 133: 1, 76: 1, 108: 1, 122: 1, 84: 1, 101: 1}\n"
     ]
    }
   ],
   "source": [
    "degree_distribution = compute_degree_distribution(caida_graph)\n",
    "print(degree_distribution)"
   ]
  },
  {
   "cell_type": "code",
   "execution_count": 15,
   "metadata": {},
   "outputs": [
    {
     "data": {
      "image/png": "[encoded data removed]",
      "text/plain": [
       "<Figure size 432x288 with 1 Axes>"
      ]
     },
     "metadata": {
      "needs_background": "light"
     },
     "output_type": "display_data"
    }
   ],
   "source": [
    "plot_degree_distribution(caida_graph)"
   ]
  },
  {
   "cell_type": "code",
   "execution_count": 16,
   "metadata": {},
   "outputs": [
    {
     "name": "stdout",
     "output_type": "stream",
     "text": [
      "Number of triangles: 36365\n",
      "Calculating triangle done in 1.20193 seconds\n"
     ]
    }
   ],
   "source": [
    "graph = caida_graph\n",
    "result = test_improved_triangle_count(graph)"
   ]
  },
  {
   "cell_type": "code",
   "execution_count": 17,
   "metadata": {},
   "outputs": [
    {
     "name": "stdout",
     "output_type": "stream",
     "text": [
      "Lower bound for diameter: 17\n",
      "Calculating lower bound done in 25.33864 seconds\n"
     ]
    }
   ],
   "source": [
    "graph = caida_graph\n",
    "sample_size = 1500\n",
    "result = test_lower_bound_diameter(graph, sample_size=sample_size)"
   ]
  },
  {
   "cell_type": "code",
   "execution_count": 18,
   "metadata": {},
   "outputs": [
    {
     "name": "stdout",
     "output_type": "stream",
     "text": [
      "Number of nodes: 9740\n",
      "Number of edges: 35567\n",
      "Nodes and edges counted in 0.02348 seconds\n"
     ]
    }
   ],
   "source": [
    "filename = 'ip_inet.txt'\n",
    "result = test_count_nodes_edges(filename)"
   ]
  },
  {
   "cell_type": "code",
   "execution_count": 19,
   "metadata": {},
   "outputs": [
    {
     "name": "stdout",
     "output_type": "stream",
     "text": [
      "Graph loaded in 0.04583 seconds\n"
     ]
    }
   ],
   "source": [
    "filename = 'ip_inet.txt'\n",
    "start_time = time.time()\n",
    "inet_graph = load_graph(filename)\n",
    "print(f\"Graph loaded in {time.time() - start_time:.5f} seconds\")"
   ]
  },
  {
   "cell_type": "code",
   "execution_count": 20,
   "metadata": {},
   "outputs": [
    {
     "name": "stdout",
     "output_type": "stream",
     "text": [
      "{4: 740, 7: 326, 20: 40, 1: 1963, 3: 1121, 5: 466, 2: 2093, 11: 167, 6: 412, 9: 217, 8: 273, 27: 37, 17: 98, 16: 88, 14: 111, 10: 191, 12: 141, 13: 158, 15: 126, 19: 51, 22: 53, 40: 6, 39: 10, 23: 17, 26: 25, 24: 8, 32: 31, 18: 106, 28: 40, 31: 68, 30: 8, 58: 5, 57: 53, 21: 31, 35: 34, 25: 30, 36: 8, 41: 68, 37: 33, 33: 60, 29: 63, 44: 8, 43: 16, 45: 39, 52: 2, 51: 2, 54: 1, 38: 10, 47: 21, 50: 35, 42: 6, 34: 23, 53: 1}\n"
     ]
    }
   ],
   "source": [
    "degree_distribution = compute_degree_distribution(inet_graph)\n",
    "print(degree_distribution)"
   ]
  },
  {
   "cell_type": "code",
   "execution_count": 21,
   "metadata": {},
   "outputs": [
    {
     "data": {
      "image/png": "[encoded data removed]",
      "text/plain": [
       "<Figure size 432x288 with 1 Axes>"
      ]
     },
     "metadata": {
      "needs_background": "light"
     },
     "output_type": "display_data"
    }
   ],
   "source": [
    "plot_degree_distribution(inet_graph)"
   ]
  },
  {
   "cell_type": "code",
   "execution_count": 22,
   "metadata": {},
   "outputs": [
    {
     "name": "stdout",
     "output_type": "stream",
     "text": [
      "Number of triangles: 206909\n",
      "Calculating triangle done in 0.17213 seconds\n"
     ]
    }
   ],
   "source": [
    "graph = inet_graph\n",
    "result = test_improved_triangle_count(graph)"
   ]
  },
  {
   "cell_type": "code",
   "execution_count": 23,
   "metadata": {},
   "outputs": [
    {
     "name": "stdout",
     "output_type": "stream",
     "text": [
      "Lower bound for diameter: 33\n",
      "Calculating lower bound done in 7.72995 seconds\n"
     ]
    }
   ],
   "source": [
    "graph = inet_graph\n",
    "sample_size = 1500\n",
    "result = test_lower_bound_diameter(graph, sample_size=sample_size)"
   ]
  },
  {
   "cell_type": "markdown",
   "metadata": {},
   "source": [
    "## Exercise 2: Erdös-Rényi model"
   ]
  },
  {
   "cell_type": "markdown",
   "metadata": {},
   "source": [
    "### Question 2\n",
    "\n",
    "Create an Erdös-Rényi graph with the same number of nodes and links as the CAIDA graph. Same for the INET graph."
   ]
  },
  {
   "cell_type": "code",
   "execution_count": 24,
   "metadata": {},
   "outputs": [],
   "source": [
    "def erdos_renyi_graph(node_count, link_count):\n",
    "    \"\"\"\n",
    "    Generate an Erdos-Renyi random graph with a specified number of nodes and links.\n",
    "\n",
    "    Parameters:\n",
    "    - node_count: Number of nodes in the graph\n",
    "    - link_count: Number of links to randomly connect nodes\n",
    "\n",
    "    Returns:\n",
    "    - graph: Dictionary representing the generated graph (adjacency list)\n",
    "    \"\"\"\n",
    "    # Initialize an empty graph with nodes\n",
    "    graph = {node_index: [] for node_index in range(node_count)}\n",
    "    # Randomly connect nodes until the desired link count is reached\n",
    "    while link_count > 0:\n",
    "        node1, node2 = random.randint(0, node_count - 1), random.randint(0, node_count - 1)\n",
    "        # Ensure nodes are distinct and not already connected\n",
    "        if node1 != node2 and node1 not in graph[node2]:\n",
    "            # Add edges in both directions\n",
    "            graph[node1].append(node2)\n",
    "            graph[node2].append(node1)\n",
    "            link_count -= 1\n",
    "    \n",
    "    return graph"
   ]
  },
  {
   "cell_type": "code",
   "execution_count": 25,
   "metadata": {},
   "outputs": [],
   "source": [
    "def erdos_renyi(node_count, link_count, filename):\n",
    "    # Initialize an empty graph with nodes\n",
    "    graph = {node_index: [] for node_index in range(node_count)}\n",
    "    # Randomly connect nodes until the desired link count is reached\n",
    "    while link_count > 0:\n",
    "        node1, node2 = random.randint(0, node_count - 1), random.randint(0, node_count - 1)\n",
    "        \n",
    "        # Ensure nodes are distinct and not already connected\n",
    "        if node1 != node2 and node1 not in graph[node2]:\n",
    "            # Add edges in both directions\n",
    "            graph[node1].append(node2)\n",
    "            graph[node2].append(node1)\n",
    "            link_count -= 1\n",
    "    \n",
    "    # Save the graph to a text file\n",
    "    with open(filename, 'w') as file:\n",
    "        for node, neighbors in graph.items():\n",
    "            file.write(f\"{node}: {', '.join(map(str, neighbors))}\\n\")"
   ]
  },
  {
   "cell_type": "markdown",
   "metadata": {},
   "source": [
    "### Sidenote:\n",
    "\n",
    "We updated our count_nodes_edges() function to suits our need in this lab"
   ]
  },
  {
   "cell_type": "code",
   "execution_count": 26,
   "metadata": {},
   "outputs": [],
   "source": [
    "def count_nodes_edges_v2(filename):\n",
    "    # Initialize an empty set to store unique nodes\n",
    "    nodes = set()\n",
    "    # Initialize a set to store unique edges\n",
    "    unique_edges = set()\n",
    "\n",
    "    # Open the specified file in read ('read only') mode\n",
    "    with open(filename, 'r') as file:\n",
    "        # Iterate through each line in the file\n",
    "        for line in file:\n",
    "            # Remove leading and trailing whitespace and split the line into parts\n",
    "            parts = line.strip().split(':')\n",
    "            \n",
    "            # Check if the line does not contain exactly two values (node and its adjacents)\n",
    "            if len(parts) != 2:\n",
    "                # Skip lines that don't have two values, they might be comments or errors\n",
    "                continue\n",
    "\n",
    "            # Extract the node and its adjacent nodes\n",
    "            node = int(parts[0])\n",
    "            adjacents = [int(adj) for adj in parts[1].split(',') if adj.strip()]\n",
    "\n",
    "            # Add the node to the 'nodes' set\n",
    "            nodes.add(node)\n",
    "\n",
    "            # Iterate through adjacent nodes and add unique edges to the 'unique_edges' set\n",
    "            for adjacent in adjacents:\n",
    "                edge = (min(node, adjacent), max(node, adjacent))\n",
    "                unique_edges.add(edge)\n",
    "\n",
    "    # Calculate the number of unique nodes by finding the length of the 'nodes' set\n",
    "    num_nodes = len(nodes)\n",
    "    # Calculate the number of unique edges by finding the length of the 'unique_edges' set\n",
    "    num_edges = len(unique_edges)\n",
    "\n",
    "    # Return the counts of nodes and edges as a tuple\n",
    "    return num_nodes, num_edges"
   ]
  },
  {
   "cell_type": "code",
   "execution_count": 27,
   "metadata": {},
   "outputs": [],
   "source": [
    "def test_count_nodes_edges_v2(filename):\n",
    "    start_time = time.time()\n",
    "    num_nodes, num_edges = count_nodes_edges_v2(filename)\n",
    "    print(f\"Number of nodes: {num_nodes}\")\n",
    "    print(f\"Number of edges: {num_edges}\")\n",
    "    print(f\"Nodes and edges counted in {time.time() - start_time:.5f} seconds\")"
   ]
  },
  {
   "cell_type": "code",
   "execution_count": 28,
   "metadata": {},
   "outputs": [],
   "source": [
    "node_count = 26475\n",
    "link_count = 53381\n",
    "filename = 'erdos_renyi_caida_graph.txt'\n",
    "erdos_renyi(node_count, link_count, filename)"
   ]
  },
  {
   "cell_type": "code",
   "execution_count": 29,
   "metadata": {},
   "outputs": [
    {
     "name": "stdout",
     "output_type": "stream",
     "text": [
      "Number of nodes: 26475\n",
      "Number of edges: 53381\n",
      "Nodes and edges counted in 0.11799 seconds\n"
     ]
    }
   ],
   "source": [
    "filename = 'erdos_renyi_caida_graph.txt'\n",
    "result = test_count_nodes_edges_v2(filename)"
   ]
  },
  {
   "cell_type": "code",
   "execution_count": 30,
   "metadata": {},
   "outputs": [],
   "source": [
    "node_count = 9740\n",
    "link_count = 35567\n",
    "filename = 'erdos_renyi_inet_graph.txt'\n",
    "erdos_renyi(node_count, link_count, filename)"
   ]
  },
  {
   "cell_type": "code",
   "execution_count": 31,
   "metadata": {},
   "outputs": [
    {
     "name": "stdout",
     "output_type": "stream",
     "text": [
      "Number of nodes: 9740\n",
      "Number of edges: 35567\n",
      "Nodes and edges counted in 0.06939 seconds\n"
     ]
    }
   ],
   "source": [
    "filename = 'erdos_renyi_inet_graph.txt'\n",
    "result = test_count_nodes_edges_v2(filename)"
   ]
  },
  {
   "cell_type": "markdown",
   "metadata": {},
   "source": [
    "### Question 3\n",
    "\n",
    "For both graphs, compare the degree distribution, the number of triangles, the approximate diameter (of the largest component) of the model to the ones of the original graph."
   ]
  },
  {
   "cell_type": "code",
   "execution_count": 32,
   "metadata": {},
   "outputs": [],
   "source": [
    "node_count = 26475\n",
    "link_count = 53381\n",
    "er_caida_graph = erdos_renyi_graph(node_count,link_count)"
   ]
  },
  {
   "cell_type": "code",
   "execution_count": 33,
   "metadata": {},
   "outputs": [
    {
     "name": "stdout",
     "output_type": "stream",
     "text": [
      "{4: 5218, 3: 5106, 5: 4074, 1: 1887, 7: 1590, 8: 820, 10: 146, 6: 2898, 2: 3820, 9: 370, 0: 474, 11: 59, 12: 11, 13: 2}\n"
     ]
    }
   ],
   "source": [
    "degree_distribution = compute_degree_distribution(er_caida_graph)\n",
    "print(degree_distribution)"
   ]
  },
  {
   "cell_type": "code",
   "execution_count": 34,
   "metadata": {},
   "outputs": [
    {
     "data": {
      "image/png": "[encoded data removed]",
      "text/plain": [
       "<Figure size 432x288 with 1 Axes>"
      ]
     },
     "metadata": {
      "needs_background": "light"
     },
     "output_type": "display_data"
    }
   ],
   "source": [
    "plot_degree_distribution(er_caida_graph)"
   ]
  },
  {
   "cell_type": "code",
   "execution_count": 35,
   "metadata": {},
   "outputs": [
    {
     "name": "stdout",
     "output_type": "stream",
     "text": [
      "Number of triangles: 12\n",
      "Calculating triangle done in 0.10930 seconds\n"
     ]
    }
   ],
   "source": [
    "graph = er_caida_graph\n",
    "result = test_improved_triangle_count(graph)"
   ]
  },
  {
   "cell_type": "code",
   "execution_count": 36,
   "metadata": {},
   "outputs": [
    {
     "name": "stdout",
     "output_type": "stream",
     "text": [
      "Lower bound for diameter: 15\n",
      "Calculating lower bound done in 32.01322 seconds\n"
     ]
    }
   ],
   "source": [
    "graph = er_caida_graph\n",
    "sample_size = 1500\n",
    "result = test_lower_bound_diameter(graph, sample_size=sample_size)"
   ]
  },
  {
   "cell_type": "code",
   "execution_count": 37,
   "metadata": {},
   "outputs": [],
   "source": [
    "node_count = 9740\n",
    "link_count = 35567\n",
    "er_inet_graph = erdos_renyi_graph(node_count,link_count)"
   ]
  },
  {
   "cell_type": "code",
   "execution_count": 38,
   "metadata": {},
   "outputs": [
    {
     "name": "stdout",
     "output_type": "stream",
     "text": [
      "{6: 1437, 8: 1313, 11: 515, 7: 1469, 10: 809, 3: 429, 4: 771, 9: 1055, 5: 1083, 12: 314, 1: 48, 15: 46, 2: 160, 13: 180, 14: 77, 16: 17, 17: 8, 0: 7, 18: 1, 19: 1}\n"
     ]
    }
   ],
   "source": [
    "degree_distribution = compute_degree_distribution(er_inet_graph)\n",
    "print(degree_distribution)"
   ]
  },
  {
   "cell_type": "code",
   "execution_count": 39,
   "metadata": {},
   "outputs": [
    {
     "data": {
      "image/png": "[encoded data removed]",
      "text/plain": [
       "<Figure size 432x288 with 1 Axes>"
      ]
     },
     "metadata": {
      "needs_background": "light"
     },
     "output_type": "display_data"
    }
   ],
   "source": [
    "plot_degree_distribution(er_inet_graph)"
   ]
  },
  {
   "cell_type": "code",
   "execution_count": 40,
   "metadata": {},
   "outputs": [
    {
     "name": "stdout",
     "output_type": "stream",
     "text": [
      "Number of triangles: 60\n",
      "Calculating triangle done in 0.07161 seconds\n"
     ]
    }
   ],
   "source": [
    "graph = er_inet_graph\n",
    "result = test_improved_triangle_count(graph)"
   ]
  },
  {
   "cell_type": "code",
   "execution_count": 41,
   "metadata": {},
   "outputs": [
    {
     "name": "stdout",
     "output_type": "stream",
     "text": [
      "Lower bound for diameter: 8\n",
      "Calculating lower bound done in 13.23558 seconds\n"
     ]
    }
   ],
   "source": [
    "graph = er_inet_graph\n",
    "sample_size = 1500\n",
    "result = test_lower_bound_diameter(graph, sample_size=sample_size)"
   ]
  },
  {
   "cell_type": "markdown",
   "metadata": {},
   "source": [
    "### Answer:\n",
    "\n",
    "Sadly, even though the Erdös-Rényi model can replicate the exact number of nodes and links, it's not able to do the same for the number of triangles present in the generated graph, as we can see from the comparison just above."
   ]
  },
  {
   "cell_type": "markdown",
   "metadata": {},
   "source": [
    "## Exercise 3: Barabasi-Albert model\n"
   ]
  },
  {
   "cell_type": "markdown",
   "metadata": {},
   "source": [
    "### Question 4\n",
    "\n",
    "Create a Barabasi-Albert graph with a number of links and nodes comparable to the CAIDA graph. We remind that in a BA model with $n$ nodes, the number of links $m$ is (approximately) equal to $\\alpha n$ where $ \\alpha $ is the parameter of the model. \n",
    "\n",
    "Same question for the INET graph."
   ]
  },
  {
   "cell_type": "code",
   "execution_count": 42,
   "metadata": {},
   "outputs": [],
   "source": [
    "def barabasi_albert_graph(n, m):\n",
    "    \"\"\"\n",
    "    Generate a Barabasi-Albert graph using preferential attachment.\n",
    "\n",
    "    Parameters:\n",
    "    - n: Number of nodes in the graph\n",
    "    - m: Number of edges to attach from a new node to existing nodes\n",
    "\n",
    "    Returns:\n",
    "    - graph: Dictionary representing the generated graph (adjacency list)\n",
    "    \"\"\"\n",
    "    # Initialize the graph with a fully connected initial small graph (m nodes)\n",
    "    graph = {i: set(range(i)) - {i} for i in range(m)}\n",
    "    \n",
    "    # Calculate the initial total nodes for preferential attachment\n",
    "    total_nodes = m * (m - 1) // 2  \n",
    "\n",
    "    # Generate the Barabasi-Albert graph\n",
    "    for new_node in range(m, n):\n",
    "        # Calculate probabilities for attaching edges to existing nodes\n",
    "        probabilities = [len(neighbors) for neighbors in graph.values()]\n",
    "        total_nodes += m\n",
    "\n",
    "        # Attach m edges to existing nodes based on probabilities\n",
    "        selected_nodes = random.choices(list(graph), weights=probabilities, k=m)\n",
    "        graph[new_node] = set(selected_nodes)\n",
    "        \n",
    "        # Update neighbors of existing nodes\n",
    "        for selected_node in selected_nodes:\n",
    "            graph[selected_node].add(new_node)\n",
    "\n",
    "    return graph"
   ]
  },
  {
   "cell_type": "code",
   "execution_count": 43,
   "metadata": {},
   "outputs": [],
   "source": [
    "def barabasi_albert(n, m, filename):\n",
    "    # Initialize the graph with a fully connected initial small graph (m nodes)\n",
    "    graph = {i: set(range(i)) - {i} for i in range(m)}\n",
    "    \n",
    "    # Calculate the initial total nodes for preferential attachment\n",
    "    total_nodes = m * (m - 1) // 2  \n",
    "\n",
    "    # Generate the Barabasi-Albert graph\n",
    "    for new_node in range(m, n):\n",
    "        # Calculate probabilities for attaching edges to existing nodes\n",
    "        probabilities = [len(neighbors) for neighbors in graph.values()]\n",
    "        total_nodes += m\n",
    "\n",
    "        # Attach m edges to existing nodes based on probabilities\n",
    "        selected_nodes = random.choices(list(graph), weights=probabilities, k=m)\n",
    "        graph[new_node] = set(selected_nodes)\n",
    "        \n",
    "        # Update neighbors of existing nodes\n",
    "        for selected_node in selected_nodes:\n",
    "            graph[selected_node].add(new_node)\n",
    "\n",
    "    # Save the graph to a text file\n",
    "    with open(filename, 'w') as file:\n",
    "        for node, neighbors in graph.items():\n",
    "            file.write(f\"{node}: {', '.join(map(str, neighbors))}\\n\")"
   ]
  },
  {
   "cell_type": "code",
   "execution_count": 44,
   "metadata": {},
   "outputs": [],
   "source": [
    "node_count = 26475\n",
    "m = 2\n",
    "filename = 'barabasi_albert_caida_graph.txt'\n",
    "barabasi_albert(node_count, m, filename)"
   ]
  },
  {
   "cell_type": "code",
   "execution_count": 45,
   "metadata": {},
   "outputs": [
    {
     "name": "stdout",
     "output_type": "stream",
     "text": [
      "Number of nodes: 26475\n",
      "Number of edges: 52924\n",
      "Nodes and edges counted in 0.16815 seconds\n"
     ]
    }
   ],
   "source": [
    "filename = 'barabasi_albert_caida_graph.txt'\n",
    "result = test_count_nodes_edges_v2(filename)"
   ]
  },
  {
   "cell_type": "code",
   "execution_count": 46,
   "metadata": {},
   "outputs": [],
   "source": [
    "node_count = 9740\n",
    "m = 4\n",
    "filename = 'barabasi_albert_inet_graph.txt'\n",
    "barabasi_albert(node_count, m, filename)"
   ]
  },
  {
   "cell_type": "code",
   "execution_count": 47,
   "metadata": {},
   "outputs": [
    {
     "name": "stdout",
     "output_type": "stream",
     "text": [
      "Number of nodes: 9740\n",
      "Number of edges: 38870\n",
      "Nodes and edges counted in 0.07977 seconds\n"
     ]
    }
   ],
   "source": [
    "filename = 'barabasi_albert_inet_graph.txt'\n",
    "result = test_count_nodes_edges_v2(filename)"
   ]
  },
  {
   "cell_type": "markdown",
   "metadata": {},
   "source": [
    "### Question 5\n",
    "\n",
    "For both graphs, compare the degree distribution, the number of triangles, the approximate diameter (of the largest component) of the model to the ones of the original graph."
   ]
  },
  {
   "cell_type": "code",
   "execution_count": 48,
   "metadata": {},
   "outputs": [],
   "source": [
    "node_count = 26475\n",
    "m = 2\n",
    "ba_caida_graph = barabasi_albert_graph(node_count,m)"
   ]
  },
  {
   "cell_type": "code",
   "execution_count": 49,
   "metadata": {},
   "outputs": [
    {
     "name": "stdout",
     "output_type": "stream",
     "text": [
      "{0: 1, 563: 1, 289: 1, 63: 2, 312: 1, 120: 1, 229: 1, 84: 2, 8: 427, 75: 1, 97: 1, 136: 2, 57: 2, 280: 1, 23: 26, 61: 3, 144: 1, 28: 12, 15: 87, 54: 1, 116: 1, 91: 2, 83: 1, 85: 2, 20: 30, 89: 2, 32: 10, 38: 3, 12: 149, 141: 1, 78: 2, 137: 1, 7: 623, 51: 3, 17: 60, 104: 1, 55: 3, 47: 2, 39: 9, 50: 2, 22: 30, 73: 2, 27: 15, 24: 20, 43: 3, 58: 2, 65: 1, 113: 1, 19: 34, 64: 1, 5: 1486, 69: 1, 37: 9, 29: 13, 56: 2, 25: 11, 14: 110, 82: 2, 33: 7, 6: 908, 18: 71, 30: 12, 45: 5, 36: 3, 41: 4, 95: 2, 3: 5419, 34: 9, 62: 1, 48: 3, 13: 114, 10: 241, 114: 1, 59: 1, 98: 1, 44: 2, 16: 65, 42: 3, 11: 161, 1: 10, 4: 2574, 2: 13236, 21: 18, 40: 6, 9: 337, 96: 1, 72: 1, 74: 1, 26: 18, 49: 2, 35: 3, 68: 1, 31: 8, 46: 2}\n"
     ]
    }
   ],
   "source": [
    "degree_distribution = compute_degree_distribution(ba_caida_graph)\n",
    "print(degree_distribution)"
   ]
  },
  {
   "cell_type": "code",
   "execution_count": 50,
   "metadata": {},
   "outputs": [
    {
     "data": {
      "image/png": "[encoded data removed]",
      "text/plain": [
       "<Figure size 432x288 with 1 Axes>"
      ]
     },
     "metadata": {
      "needs_background": "light"
     },
     "output_type": "display_data"
    }
   ],
   "source": [
    "plot_degree_distribution(ba_caida_graph)"
   ]
  },
  {
   "cell_type": "code",
   "execution_count": 51,
   "metadata": {},
   "outputs": [
    {
     "name": "stdout",
     "output_type": "stream",
     "text": [
      "Number of triangles: 196\n",
      "Calculating triangle done in 0.10045 seconds\n"
     ]
    }
   ],
   "source": [
    "graph = ba_caida_graph\n",
    "result = test_improved_triangle_count(graph)"
   ]
  },
  {
   "cell_type": "code",
   "execution_count": 52,
   "metadata": {},
   "outputs": [
    {
     "name": "stdout",
     "output_type": "stream",
     "text": [
      "Lower bound for diameter: 9\n",
      "Calculating lower bound done in 33.47639 seconds\n"
     ]
    }
   ],
   "source": [
    "graph = ba_caida_graph\n",
    "sample_size = 1500\n",
    "result = test_lower_bound_diameter(graph, sample_size=sample_size)"
   ]
  },
  {
   "cell_type": "code",
   "execution_count": 53,
   "metadata": {},
   "outputs": [],
   "source": [
    "node_count = 9740\n",
    "m = 4\n",
    "ba_inet_graph = barabasi_albert_graph(node_count,m)"
   ]
  },
  {
   "cell_type": "code",
   "execution_count": 54,
   "metadata": {},
   "outputs": [
    {
     "name": "stdout",
     "output_type": "stream",
     "text": [
      "{0: 1, 82: 1, 155: 1, 234: 1, 236: 1, 291: 1, 184: 1, 266: 1, 98: 1, 73: 2, 20: 45, 253: 1, 106: 1, 115: 1, 198: 1, 25: 21, 219: 1, 79: 3, 211: 1, 185: 1, 146: 1, 59: 1, 138: 1, 29: 20, 32: 11, 112: 1, 118: 1, 40: 6, 124: 1, 70: 2, 68: 1, 51: 5, 45: 3, 44: 3, 52: 5, 30: 13, 135: 1, 100: 1, 48: 2, 69: 2, 67: 1, 83: 1, 121: 1, 18: 53, 28: 19, 17: 68, 95: 2, 54: 1, 31: 20, 49: 3, 61: 3, 87: 2, 97: 1, 64: 1, 21: 40, 223: 1, 24: 27, 38: 9, 39: 9, 46: 6, 34: 12, 35: 15, 23: 30, 36: 5, 58: 1, 76: 2, 33: 12, 19: 51, 55: 3, 16: 94, 71: 1, 96: 1, 53: 1, 41: 3, 10: 326, 14: 126, 50: 1, 26: 12, 22: 31, 12: 165, 42: 3, 27: 12, 65: 1, 57: 1, 43: 2, 9: 365, 15: 82, 13: 143, 11: 230, 66: 1, 77: 1, 37: 1, 5: 1837, 47: 1, 8: 581, 72: 1, 7: 755, 62: 1, 6: 1094, 4: 3290, 3: 10}\n"
     ]
    }
   ],
   "source": [
    "degree_distribution = compute_degree_distribution(ba_inet_graph)\n",
    "print(degree_distribution)"
   ]
  },
  {
   "cell_type": "code",
   "execution_count": 55,
   "metadata": {},
   "outputs": [
    {
     "data": {
      "image/png": "[encoded data removed]",
      "text/plain": [
       "<Figure size 432x288 with 1 Axes>"
      ]
     },
     "metadata": {
      "needs_background": "light"
     },
     "output_type": "display_data"
    }
   ],
   "source": [
    "plot_degree_distribution(ba_inet_graph)"
   ]
  },
  {
   "cell_type": "code",
   "execution_count": 56,
   "metadata": {},
   "outputs": [
    {
     "name": "stdout",
     "output_type": "stream",
     "text": [
      "Number of triangles: 1065\n",
      "Calculating triangle done in 0.07096 seconds\n"
     ]
    }
   ],
   "source": [
    "graph = ba_inet_graph\n",
    "result = test_improved_triangle_count(graph)"
   ]
  },
  {
   "cell_type": "code",
   "execution_count": 57,
   "metadata": {},
   "outputs": [
    {
     "name": "stdout",
     "output_type": "stream",
     "text": [
      "Lower bound for diameter: 6\n",
      "Calculating lower bound done in 11.97624 seconds\n"
     ]
    }
   ],
   "source": [
    "graph = ba_inet_graph\n",
    "sample_size = 1500\n",
    "result = test_lower_bound_diameter(graph, sample_size=sample_size)"
   ]
  },
  {
   "cell_type": "markdown",
   "metadata": {},
   "source": [
    "Answer"
   ]
  },
  {
   "cell_type": "markdown",
   "metadata": {},
   "source": [
    "## Exercise 4: Watts-Strogatz model"
   ]
  },
  {
   "cell_type": "markdown",
   "metadata": {},
   "source": [
    "### Question 6\n",
    "\n",
    "Create a regular graph with a number of nodes $n$ equals to the one of the initial CAIDA graph. We have these constraints:\n",
    "\n",
    "* all nodes of a regular graph have the same degree $k$, choose $k$ so that the number $m$ of edges is close to the one of the CAIDA graph,\n",
    "\n",
    "* each node is connected to the nodes with the closest index, for example, if $k=6$, node $i$ will be connected to nodes $ i-1 $, $ i-2 $, $ i-3$ and $ i+1 $, $ i+2 $, $ i+3 $.\n",
    "\n",
    "Same question for the INET graph."
   ]
  },
  {
   "cell_type": "code",
   "execution_count": 58,
   "metadata": {},
   "outputs": [],
   "source": [
    "def create_regular_graph(n, k):\n",
    "    \"\"\"\n",
    "    Create a regular graph with a specified number of nodes and degree.\n",
    "\n",
    "    Parameters:\n",
    "    - n: Number of nodes in the graph\n",
    "    - k: Degree of each node (even number for regularity)\n",
    "\n",
    "    Returns:\n",
    "    - graph: Dictionary representing the generated regular graph (adjacency list)\n",
    "    \"\"\"\n",
    "    # Initialize an empty graph with nodes\n",
    "    graph = {i: set() for i in range(n)}\n",
    "\n",
    "    # Connect each node to the nodes with the closest indices\n",
    "    for node in range(n):\n",
    "        for offset in range(1, (k // 2) + 1):\n",
    "            # Calculate indices of neighbors on both sides\n",
    "            neighbor_left = (node - offset) % n\n",
    "            neighbor_right = (node + offset) % n\n",
    "\n",
    "            # Connect the node to its neighbors\n",
    "            graph[node].add(neighbor_left)\n",
    "            graph[node].add(neighbor_right)\n",
    "\n",
    "            # Add reciprocal connections to neighbors\n",
    "            graph[neighbor_left].add(node)\n",
    "            graph[neighbor_right].add(node)\n",
    "\n",
    "    return graph"
   ]
  },
  {
   "cell_type": "code",
   "execution_count": 59,
   "metadata": {},
   "outputs": [],
   "source": [
    "def create_regular(n, k, filename):\n",
    "    # Initialize an empty graph with nodes\n",
    "    graph = {i: set() for i in range(n)}\n",
    "\n",
    "    # Connect each node to the nodes with the closest indices\n",
    "    for node in range(n):\n",
    "        for offset in range(1, (k // 2) + 1):\n",
    "            # Calculate indices of neighbors on both sides\n",
    "            neighbor_left = (node - offset) % n\n",
    "            neighbor_right = (node + offset) % n\n",
    "\n",
    "            # Connect the node to its neighbors\n",
    "            graph[node].add(neighbor_left)\n",
    "            graph[node].add(neighbor_right)\n",
    "\n",
    "            # Add reciprocal connections to neighbors\n",
    "            graph[neighbor_left].add(node)\n",
    "            graph[neighbor_right].add(node)\n",
    "\n",
    "    # Save the graph to a text file\n",
    "    with open(filename, 'w') as file:\n",
    "        for node, neighbors in graph.items():\n",
    "            neighbors_str = ', '.join(map(str, neighbors))\n",
    "            file.write(f\"{node}: {neighbors_str}\\n\")"
   ]
  },
  {
   "cell_type": "code",
   "execution_count": 60,
   "metadata": {},
   "outputs": [],
   "source": [
    "node_count = 26475\n",
    "k = 4\n",
    "filename = 'regular_graph_caida_graph.txt'\n",
    "create_regular(node_count, k, filename)"
   ]
  },
  {
   "cell_type": "code",
   "execution_count": 61,
   "metadata": {},
   "outputs": [
    {
     "name": "stdout",
     "output_type": "stream",
     "text": [
      "Number of nodes: 26475\n",
      "Number of edges: 52950\n",
      "Nodes and edges counted in 0.10745 seconds\n"
     ]
    }
   ],
   "source": [
    "filename = 'regular_graph_caida_graph.txt'\n",
    "result = test_count_nodes_edges_v2(filename)"
   ]
  },
  {
   "cell_type": "code",
   "execution_count": 62,
   "metadata": {},
   "outputs": [],
   "source": [
    "node_count = 9740\n",
    "k = 8\n",
    "filename = 'regular_graph_inet_graph.txt'\n",
    "create_regular(node_count, k, filename)"
   ]
  },
  {
   "cell_type": "code",
   "execution_count": 63,
   "metadata": {},
   "outputs": [
    {
     "name": "stdout",
     "output_type": "stream",
     "text": [
      "Number of nodes: 9740\n",
      "Number of edges: 38960\n",
      "Nodes and edges counted in 0.06076 seconds\n"
     ]
    }
   ],
   "source": [
    "filename = 'regular_graph_inet_graph.txt'\n",
    "result = test_count_nodes_edges_v2(filename)"
   ]
  },
  {
   "cell_type": "markdown",
   "metadata": {},
   "source": [
    "### Question 7\n",
    "\n",
    "Starting from the graph created in the previous question, generate Watts-Strogatz models with several values of the parameter $p$: 0.01, 0.1, 0.3."
   ]
  },
  {
   "cell_type": "code",
   "execution_count": 64,
   "metadata": {},
   "outputs": [],
   "source": [
    "def ws_generation(graph, p):\n",
    "    \"\"\"\n",
    "    Generate a Watts-Strogatz model by rewiring edges in a given graph.\n",
    "\n",
    "    Parameters:\n",
    "    - graph: Dictionary representing the input graph (adjacency list)\n",
    "    - p: Rewiring probability, a value between 0 and 1\n",
    "\n",
    "    Returns:\n",
    "    - new_graph: Dictionary representing the generated Watts-Strogatz model (adjacency list)\n",
    "    \"\"\"\n",
    "    # Create a new graph with the same initial structure\n",
    "    new_graph = {node: set(neighbors) for node, neighbors in graph.items()}\n",
    "\n",
    "    # Iterate through each node and its neighbors in the original graph\n",
    "    for node in graph:\n",
    "        for neighbor in graph[node]:\n",
    "            # Rewire edges with probability p\n",
    "            if random.random() < p:\n",
    "                # Choose a new neighbor not already connected to the node\n",
    "                new_neighbor = random.choice(list(set(graph.keys()) - new_graph[node] - {node}))\n",
    "                \n",
    "                # Update the new graph by removing the original edge and adding the rewired edge\n",
    "                new_graph[node].remove(neighbor)\n",
    "                new_graph[new_neighbor].add(node)\n",
    "\n",
    "    return new_graph"
   ]
  },
  {
   "cell_type": "code",
   "execution_count": 65,
   "metadata": {},
   "outputs": [],
   "source": [
    "node_count = 26475\n",
    "k = 4\n",
    "rg_caida_graph= create_regular_graph(node_count, k)"
   ]
  },
  {
   "cell_type": "code",
   "execution_count": 66,
   "metadata": {},
   "outputs": [],
   "source": [
    "p = 0.01\n",
    "caida_ws_model_001 = ws_generation(rg_caida_graph, p)"
   ]
  },
  {
   "cell_type": "code",
   "execution_count": 67,
   "metadata": {},
   "outputs": [],
   "source": [
    "p = 0.1\n",
    "caida_ws_model_01 = ws_generation(rg_caida_graph, p)"
   ]
  },
  {
   "cell_type": "code",
   "execution_count": 68,
   "metadata": {},
   "outputs": [],
   "source": [
    "p = 0.3\n",
    "caida_ws_model_03 = ws_generation(rg_caida_graph, p)"
   ]
  },
  {
   "cell_type": "code",
   "execution_count": 69,
   "metadata": {},
   "outputs": [],
   "source": [
    "node_count = 9740\n",
    "k = 8\n",
    "rg_inet_graph = create_regular_graph(node_count,k)"
   ]
  },
  {
   "cell_type": "code",
   "execution_count": 70,
   "metadata": {},
   "outputs": [],
   "source": [
    "p = 0.01\n",
    "inet_ws_model_001 = ws_generation(rg_inet_graph, p)"
   ]
  },
  {
   "cell_type": "code",
   "execution_count": 71,
   "metadata": {},
   "outputs": [],
   "source": [
    "p = 0.1\n",
    "inet_ws_model_01 = ws_generation(rg_inet_graph, p)"
   ]
  },
  {
   "cell_type": "code",
   "execution_count": 72,
   "metadata": {},
   "outputs": [],
   "source": [
    "p = 0.3\n",
    "inet_ws_model_03 = ws_generation(rg_inet_graph, p)"
   ]
  },
  {
   "cell_type": "markdown",
   "metadata": {},
   "source": [
    "### Question 8\n",
    "\n",
    "For both graphs, compare the degree distribution, the number of triangles, the approximate diameter (of the largest component) of the model to the ones of the original graph."
   ]
  },
  {
   "cell_type": "code",
   "execution_count": 73,
   "metadata": {},
   "outputs": [
    {
     "name": "stdout",
     "output_type": "stream",
     "text": [
      "{4: 24458, 3: 998, 5: 980, 2: 15, 6: 24}\n"
     ]
    }
   ],
   "source": [
    "degree_distribution = compute_degree_distribution(caida_ws_model_001)\n",
    "print(degree_distribution)"
   ]
  },
  {
   "cell_type": "code",
   "execution_count": 74,
   "metadata": {},
   "outputs": [
    {
     "data": {
      "image/png": "[encoded data removed]",
      "text/plain": [
       "<Figure size 432x288 with 1 Axes>"
      ]
     },
     "metadata": {
      "needs_background": "light"
     },
     "output_type": "display_data"
    }
   ],
   "source": [
    "plot_degree_distribution(caida_ws_model_001)"
   ]
  },
  {
   "cell_type": "code",
   "execution_count": 75,
   "metadata": {},
   "outputs": [
    {
     "name": "stdout",
     "output_type": "stream",
     "text": [
      "Number of triangles: 25698\n",
      "Calculating triangle done in 0.07321 seconds\n"
     ]
    }
   ],
   "source": [
    "graph = caida_ws_model_001\n",
    "result = test_improved_triangle_count(graph)"
   ]
  },
  {
   "cell_type": "code",
   "execution_count": 76,
   "metadata": {},
   "outputs": [
    {
     "name": "stdout",
     "output_type": "stream",
     "text": [
      "Lower bound for diameter: 160\n",
      "Calculating lower bound done in 21.54746 seconds\n"
     ]
    }
   ],
   "source": [
    "graph = caida_ws_model_001\n",
    "sample_size = 1500\n",
    "result = test_lower_bound_diameter(graph, sample_size=sample_size)"
   ]
  },
  {
   "cell_type": "code",
   "execution_count": 77,
   "metadata": {},
   "outputs": [
    {
     "name": "stdout",
     "output_type": "stream",
     "text": [
      "{4: 13990, 5: 5061, 3: 5399, 2: 865, 6: 941, 8: 22, 7: 115, 1: 81, 0: 1}\n"
     ]
    }
   ],
   "source": [
    "degree_distribution = compute_degree_distribution(caida_ws_model_01)\n",
    "print(degree_distribution)"
   ]
  },
  {
   "cell_type": "code",
   "execution_count": 78,
   "metadata": {},
   "outputs": [
    {
     "data": {
      "image/png": "[encoded data removed]",
      "text/plain": [
       "<Figure size 432x288 with 1 Axes>"
      ]
     },
     "metadata": {
      "needs_background": "light"
     },
     "output_type": "display_data"
    }
   ],
   "source": [
    "plot_degree_distribution(caida_ws_model_01)"
   ]
  },
  {
   "cell_type": "code",
   "execution_count": 79,
   "metadata": {},
   "outputs": [
    {
     "name": "stdout",
     "output_type": "stream",
     "text": [
      "Number of triangles: 19393\n",
      "Calculating triangle done in 0.05189 seconds\n"
     ]
    }
   ],
   "source": [
    "graph = caida_ws_model_01\n",
    "result = test_improved_triangle_count(graph)"
   ]
  },
  {
   "cell_type": "code",
   "execution_count": 80,
   "metadata": {},
   "outputs": [
    {
     "name": "stdout",
     "output_type": "stream",
     "text": [
      "Lower bound for diameter: 30\n",
      "Calculating lower bound done in 28.51330 seconds\n"
     ]
    }
   ],
   "source": [
    "graph = caida_ws_model_01\n",
    "sample_size = 1500\n",
    "result = test_lower_bound_diameter(graph, sample_size=sample_size)"
   ]
  },
  {
   "cell_type": "code",
   "execution_count": 81,
   "metadata": {},
   "outputs": [
    {
     "name": "stdout",
     "output_type": "stream",
     "text": [
      "{3: 6243, 5: 5303, 4: 7599, 1: 677, 2: 2893, 7: 887, 6: 2534, 8: 230, 10: 10, 0: 50, 9: 48, 11: 1}\n"
     ]
    }
   ],
   "source": [
    "degree_distribution = compute_degree_distribution(caida_ws_model_03)\n",
    "print(degree_distribution)"
   ]
  },
  {
   "cell_type": "code",
   "execution_count": 82,
   "metadata": {},
   "outputs": [
    {
     "data": {
      "image/png": "[encoded data removed]",
      "text/plain": [
       "<Figure size 432x288 with 1 Axes>"
      ]
     },
     "metadata": {
      "needs_background": "light"
     },
     "output_type": "display_data"
    }
   ],
   "source": [
    "plot_degree_distribution(caida_ws_model_03)"
   ]
  },
  {
   "cell_type": "code",
   "execution_count": 83,
   "metadata": {},
   "outputs": [
    {
     "name": "stdout",
     "output_type": "stream",
     "text": [
      "Number of triangles: 9153\n",
      "Calculating triangle done in 0.06824 seconds\n"
     ]
    }
   ],
   "source": [
    "graph = caida_ws_model_03\n",
    "result = test_improved_triangle_count(graph)"
   ]
  },
  {
   "cell_type": "code",
   "execution_count": 84,
   "metadata": {},
   "outputs": [
    {
     "name": "stdout",
     "output_type": "stream",
     "text": [
      "Lower bound for diameter: 17\n",
      "Calculating lower bound done in 35.33622 seconds\n"
     ]
    }
   ],
   "source": [
    "graph = caida_ws_model_03\n",
    "sample_size = 1500\n",
    "result = test_lower_bound_diameter(graph, sample_size=sample_size)"
   ]
  },
  {
   "cell_type": "code",
   "execution_count": 85,
   "metadata": {},
   "outputs": [
    {
     "name": "stdout",
     "output_type": "stream",
     "text": [
      "{8: 8369, 7: 660, 9: 658, 6: 26, 10: 27}\n"
     ]
    }
   ],
   "source": [
    "degree_distribution = compute_degree_distribution(inet_ws_model_001)\n",
    "print(degree_distribution)"
   ]
  },
  {
   "cell_type": "code",
   "execution_count": 86,
   "metadata": {},
   "outputs": [
    {
     "data": {
      "image/png": "[encoded data removed]",
      "text/plain": [
       "<Figure size 432x288 with 1 Axes>"
      ]
     },
     "metadata": {
      "needs_background": "light"
     },
     "output_type": "display_data"
    }
   ],
   "source": [
    "plot_degree_distribution(inet_ws_model_001)"
   ]
  },
  {
   "cell_type": "code",
   "execution_count": 87,
   "metadata": {},
   "outputs": [
    {
     "name": "stdout",
     "output_type": "stream",
     "text": [
      "Number of triangles: 56704\n",
      "Calculating triangle done in 0.06756 seconds\n"
     ]
    }
   ],
   "source": [
    "graph = inet_ws_model_001\n",
    "result = test_improved_triangle_count(graph)"
   ]
  },
  {
   "cell_type": "code",
   "execution_count": 88,
   "metadata": {},
   "outputs": [
    {
     "name": "stdout",
     "output_type": "stream",
     "text": [
      "Lower bound for diameter: 43\n",
      "Calculating lower bound done in 11.05019 seconds\n"
     ]
    }
   ],
   "source": [
    "graph = inet_ws_model_001\n",
    "sample_size = 1500\n",
    "result = test_lower_bound_diameter(graph, sample_size=sample_size)"
   ]
  },
  {
   "cell_type": "code",
   "execution_count": 89,
   "metadata": {},
   "outputs": [
    {
     "name": "stdout",
     "output_type": "stream",
     "text": [
      "{8: 3421, 11: 218, 7: 2218, 9: 2078, 10: 770, 6: 795, 5: 174, 4: 26, 13: 11, 12: 28, 3: 1}\n"
     ]
    }
   ],
   "source": [
    "degree_distribution = compute_degree_distribution(inet_ws_model_01)\n",
    "print(degree_distribution)"
   ]
  },
  {
   "cell_type": "code",
   "execution_count": 90,
   "metadata": {},
   "outputs": [
    {
     "data": {
      "image/png": "[encoded data removed]",
      "text/plain": [
       "<Figure size 432x288 with 1 Axes>"
      ]
     },
     "metadata": {
      "needs_background": "light"
     },
     "output_type": "display_data"
    }
   ],
   "source": [
    "plot_degree_distribution(inet_ws_model_01)"
   ]
  },
  {
   "cell_type": "code",
   "execution_count": 91,
   "metadata": {},
   "outputs": [
    {
     "name": "stdout",
     "output_type": "stream",
     "text": [
      "Number of triangles: 42808\n",
      "Calculating triangle done in 0.07867 seconds\n"
     ]
    }
   ],
   "source": [
    "graph = inet_ws_model_01\n",
    "result = test_improved_triangle_count(graph)"
   ]
  },
  {
   "cell_type": "code",
   "execution_count": 92,
   "metadata": {},
   "outputs": [
    {
     "name": "stdout",
     "output_type": "stream",
     "text": [
      "Lower bound for diameter: 12\n",
      "Calculating lower bound done in 12.53448 seconds\n"
     ]
    }
   ],
   "source": [
    "graph = inet_ws_model_01\n",
    "sample_size = 1500\n",
    "result = test_lower_bound_diameter(graph, sample_size=sample_size)"
   ]
  },
  {
   "cell_type": "code",
   "execution_count": 93,
   "metadata": {},
   "outputs": [
    {
     "name": "stdout",
     "output_type": "stream",
     "text": [
      "{6: 1269, 9: 1602, 7: 1795, 12: 285, 11: 621, 10: 1103, 8: 1928, 5: 650, 13: 109, 3: 62, 2: 7, 4: 258, 14: 38, 15: 11, 17: 1, 1: 1}\n"
     ]
    }
   ],
   "source": [
    "degree_distribution = compute_degree_distribution(inet_ws_model_03)\n",
    "print(degree_distribution)"
   ]
  },
  {
   "cell_type": "code",
   "execution_count": 94,
   "metadata": {},
   "outputs": [
    {
     "data": {
      "image/png": "[encoded data removed]",
      "text/plain": [
       "<Figure size 432x288 with 1 Axes>"
      ]
     },
     "metadata": {
      "needs_background": "light"
     },
     "output_type": "display_data"
    }
   ],
   "source": [
    "plot_degree_distribution(inet_ws_model_03)"
   ]
  },
  {
   "cell_type": "code",
   "execution_count": 95,
   "metadata": {},
   "outputs": [
    {
     "name": "stdout",
     "output_type": "stream",
     "text": [
      "Number of triangles: 19938\n",
      "Calculating triangle done in 0.06435 seconds\n"
     ]
    }
   ],
   "source": [
    "graph = inet_ws_model_03\n",
    "result = test_improved_triangle_count(graph)"
   ]
  },
  {
   "cell_type": "code",
   "execution_count": 96,
   "metadata": {},
   "outputs": [
    {
     "name": "stdout",
     "output_type": "stream",
     "text": [
      "Lower bound for diameter: 8\n",
      "Calculating lower bound done in 14.05874 seconds\n"
     ]
    }
   ],
   "source": [
    "graph = inet_ws_model_03\n",
    "sample_size = 1500\n",
    "result = test_lower_bound_diameter(graph, sample_size=sample_size)"
   ]
  },
  {
   "cell_type": "markdown",
   "metadata": {},
   "source": [
    "Answer"
   ]
  },
  {
   "cell_type": "markdown",
   "metadata": {},
   "source": [
    "## Exercise 5: configuration model"
   ]
  },
  {
   "cell_type": "markdown",
   "metadata": {},
   "source": [
    "### Question 9\n",
    "\n",
    "For both graphs, create a Configuration Model of the graph with the same degree sequence as the original graph.\n",
    "\n",
    "Unfortunately, the version \"with rejection\" runs too slowly to be used here, so implement the version \"with loops and multi-edges deletion\" seen in the course."
   ]
  },
  {
   "cell_type": "code",
   "execution_count": 97,
   "metadata": {},
   "outputs": [],
   "source": [
    "def configuration_model_with_deletion(degree_sequence):\n",
    "    \"\"\"\n",
    "    Generate a configuration model of a graph with loops and multi-edges deletion.\n",
    "\n",
    "    Parameters:\n",
    "    - degree_sequence: List of node degrees for the desired configuration\n",
    "\n",
    "    Returns:\n",
    "    - graph: Dictionary representing the generated graph (adjacency list)\n",
    "    \"\"\"\n",
    "    # Check if the sum of degrees is even\n",
    "    if sum(degree_sequence) % 2 != 0:\n",
    "        raise ValueError(\"Sum of degrees must be even for a valid graph\")\n",
    "\n",
    "    # Create a list of stubs (half-edges) for each node based on its degree\n",
    "    stubs = [node for node, degree in enumerate(degree_sequence) for _ in range(degree)]\n",
    "\n",
    "    # Randomly match the stubs to form edges\n",
    "    random.shuffle(stubs)\n",
    "    edges = set()\n",
    "\n",
    "    # Iterate until there are at least 2 stubs\n",
    "    while len(stubs) >= 2:\n",
    "        u = stubs.pop()\n",
    "        v = stubs.pop()\n",
    "\n",
    "        # Avoid self-loops and multi-edges\n",
    "        while u == v or (u, v) in edges or (v, u) in edges:\n",
    "            if len(stubs) < 2:\n",
    "                raise ValueError(\"Unable to create a valid graph\")\n",
    "            v = stubs.pop()\n",
    "\n",
    "        edges.add((u, v))\n",
    "\n",
    "    # Create the graph from the edges\n",
    "    graph = {u: set() for u, _ in enumerate(degree_sequence)}\n",
    "    for u, v in edges:\n",
    "        graph[u].add(v)\n",
    "        graph[v].add(u)\n",
    "\n",
    "    return graph"
   ]
  },
  {
   "cell_type": "code",
   "execution_count": 98,
   "metadata": {},
   "outputs": [],
   "source": [
    "def find_degree_sequence(graph):\n",
    "    \"\"\"\n",
    "    Find the degree sequence of a graph.\n",
    "\n",
    "    Parameters:\n",
    "    - graph: Dictionary representing the input graph (adjacency list)\n",
    "\n",
    "    Returns:\n",
    "    - degree_sequence: List containing the degree of each node in the graph\n",
    "    \"\"\"\n",
    "    # Calculate the degree of each node and create the degree sequence\n",
    "    degree_sequence = [len(neighbors) for neighbors in graph.values()]\n",
    "    return degree_sequence"
   ]
  },
  {
   "cell_type": "code",
   "execution_count": 99,
   "metadata": {},
   "outputs": [
    {
     "name": "stdout",
     "output_type": "stream",
     "text": [
      "Degree Sequence: [3, 227, 2, 913, 518, 1631, 2628, 999, 271, 176, 3, 47, 2, 47, 239, 3, 14, 42, 9, 59, 1, 1, 2, 14, 50, 3, 7, 30, 2, 4, 6, 30, 36, 11, 2, 1, 11, 2, 30, 5, 3, 49, 3, 5, 4, 3, 34, 4, 13, 8, 16, 1, 30, 2, 3, 2, 2, 2, 5, 3, 2, 7, 4, 14, 5, 2, 3, 8, 4, 4, 5, 2, 9, 11, 2, 19, 3, 2, 2, 2, 1, 9, 2, 3, 2, 5, 2, 2, 4, 2, 1, 2, 3, 2, 3, 4, 13, 2, 2, 5, 2, 1, 1, 1, 4, 3, 1, 6, 9, 3, 3, 2, 5, 2, 4, 2, 1, 6, 2, 3, 5, 3, 2, 1, 6, 3, 7, 4, 2, 8, 6, 2, 3, 2, 3, 7, 2, 2, 2, 5, 2, 3, 1, 2, 1, 2, 3, 8, 2, 2, 1, 2, 2, 2, 2, 2, 2, 2, 2, 3, 3, 4, 4, 2, 1, 2, 12, 2, 2, 2, 3, 2, 4, 2, 2, 2, 2, 1, 2, 2, 2, 2, 3, 2, 2, 1, 1, 1, 1, 2, 1, 2, 1, 2, 1, 1, 1, 1, 1, 1, 2, 1, 1, 1, 3, 1, 3, 1, 1, 2, 1, 1, 1, 1, 3, 2, 2, 2, 1, 2, 1, 2, 1, 2, 3, 1, 1, 1, 1, 2, 564, 26, 405, 497, 1699, 2052, 4, 2, 113, 290, 292, 2, 89, 2, 5, 615, 564, 498, 1677, 220, 308, 319, 177, 8, 311, 695, 20, 11, 16, 5, 2, 2, 61, 124, 40, 222, 169, 72, 233, 95, 61, 4, 135, 540, 10, 2, 156, 2, 143, 1, 327, 417, 2, 142, 487, 7, 3, 3, 52, 159, 38, 1, 45, 2, 2, 2, 2, 2, 50, 2, 2, 31, 96, 17, 35, 102, 2, 2, 128, 1, 4, 3, 2, 19, 2, 12, 1, 2, 2, 3, 2, 2, 23, 2, 71, 99, 24, 23, 21, 2, 4, 2, 3, 4, 2, 2, 2, 4, 3, 2, 4, 3, 10, 2, 3, 3, 2, 5, 24, 2, 15, 2, 4, 10, 2, 3, 5, 2, 5, 2, 2, 10, 7, 2, 12, 12, 8, 2, 2, 2, 3, 2, 2, 6, 1, 2, 3, 3, 2, 2, 3, 2, 3, 1, 5, 2, 4, 6, 3, 3, 3, 1, 3, 2, 2, 2, 2, 3, 2, 3, 3, 5, 3, 2, 1, 2, 6, 4, 1, 1, 2, 2, 4, 2, 2, 10, 2, 1, 1, 2, 2, 2, 1, 27, 2, 6, 5, 2, 1, 4, 3, 1, 2, 2, 2, 2, 1, 9, 1, 9, 3, 11, 6, 2, 2, 13, 7, 2, 2, 4, 4, 2, 2, 3, 2, 3, 2, 4, 4, 2, 2, 3, 5, 2, 2, 6, 3, 4, 2, 2, 13, 3, 2, 4, 3, 2, 11, 2, 2, 3, 4, 2, 4, 3, 2, 2, 2, 2, 4, 4, 2, 2, 3, 2, 2, 4, 2, 2, 4, 3, 8, 4, 2, 4, 2, 2, 5, 2, 2, 4, 2, 3, 4, 5, 3, 2, 2, 2, 2, 4, 3, 2, 5, 7, 3, 2, 2, 1, 2, 2, 4, 4, 8, 5, 3, 2, 19, 2, 2, 2, 2, 6, 9, 2, 2, 4, 5, 2, 1, 1, 2, 2, 2, 2, 6, 2, 2, 2, 6, 4, 2, 2, 3, 2, 3, 2, 3, 11, 2, 5, 3, 2, 5, 2, 2, 11, 5, 4, 6, 4, 2, 2, 2, 5, 3, 2, 2, 2, 4, 2, 2, 5, 2, 1, 2, 2, 2, 2, 5, 2, 2, 4, 2, 19, 2, 2, 2, 2, 2, 1, 2, 2, 3, 12, 2, 2, 2, 2, 2, 2, 1, 3, 2, 2, 1, 2, 1, 3, 2, 2, 1, 1, 1, 1, 1, 2, 4, 2, 2, 3, 1, 4, 2, 2, 2, 1, 1, 2, 1, 2, 1, 2, 1, 2, 1, 2, 1, 2, 1, 2, 2, 1, 2, 2, 2, 1, 1, 1, 1, 1, 1, 1, 4, 6, 1, 2, 1, 5, 2, 1, 2, 2, 2, 2, 2, 1, 2, 1, 2, 1, 1, 3, 1, 2, 2, 2, 3, 2, 2, 2, 4, 1, 2, 1, 2, 1, 1, 2, 2, 1, 2, 2, 2, 1, 2, 1, 2, 1, 1, 2, 2, 2, 2, 2, 2, 3, 4, 3, 1, 2, 2, 2, 1, 1, 2, 1, 2, 1, 2, 1, 2, 2, 2, 1, 2, 1, 1, 2, 2, 1, 4, 2, 1, 1, 3, 2, 1, 11, 2, 3, 2, 2, 2, 2, 1, 2, 2, 2, 1, 1, 3, 4, 2, 2, 2, 4, 2, 2, 2, 2, 1, 1, 2, 2, 1, 2, 2, 2, 1, 2, 1, 2, 1, 3, 1, 1, 2, 3, 2, 6, 2, 2, 3, 1, 2, 1, 2, 1, 1, 1, 1, 1, 3, 2, 2, 7, 1, 1, 2, 2, 1, 6, 2, 1, 2, 1, 2, 2, 2, 3, 1, 2, 2, 2, 2, 1, 2, 1, 2, 4, 1, 2, 2, 3, 4, 2, 1, 1, 2, 2, 1, 1, 1, 2, 6, 4, 1, 2, 1, 1, 2, 1, 2, 4, 2, 2, 1, 1, 1, 1, 1, 2, 1, 2, 1, 1, 2, 1, 2, 2, 3, 2, 3, 3, 2, 1, 1, 4, 2, 2, 1, 2, 2, 1, 3, 3, 2, 2, 2, 1, 2, 1, 2, 2, 2, 1, 4, 2, 1, 2, 2, 2, 1, 2, 1, 2, 2, 2, 2, 1, 2, 2, 1, 2, 2, 2, 2, 3, 1, 2, 2, 2, 2, 1, 3, 2, 2, 1, 2, 2, 1, 1, 2, 2, 1, 1, 2, 1, 2, 3, 2, 1, 2, 2, 2, 1, 1, 1, 1, 2, 2, 2, 2, 1, 1, 2, 1, 3, 1, 2, 1, 2, 5, 1, 1, 3, 2, 1, 3, 1, 1, 2, 2, 2, 1, 1, 2, 2, 2, 1, 1, 3, 1, 1, 1, 2, 2, 1, 2, 1, 2, 1, 4, 2, 1, 1, 2, 1, 2, 2, 1, 3, 1, 2, 1, 2, 1, 4, 1, 1, 3, 2, 2, 3, 2, 1, 1, 2, 4, 1, 3, 2, 3, 3, 2, 2, 2, 3, 2, 2, 1, 1, 1, 5, 2, 2, 2, 1, 1, 1, 2, 2, 4, 1, 1, 2, 2, 3, 3, 2, 1, 1, 2, 3, 2, 2, 2, 3, 2, 1, 4, 3, 1, 2, 1, 1, 1, 3, 1, 1, 2, 2, 1, 3, 1, 3, 1, 2, 3, 2, 2, 1, 1, 2, 2, 2, 3, 2, 2, 2, 2, 2, 2, 1, 2, 2, 2, 2, 1, 1, 3, 2, 2, 1, 3, 2, 2, 1, 2, 2, 2, 1, 1, 2, 2, 2, 1, 2, 2, 2, 1, 1, 2, 2, 2, 2, 2, 2, 2, 2, 2, 2, 31, 469, 169, 129, 198, 3, 6, 2, 2, 1, 2, 4, 2, 1, 2, 2, 2, 2, 2, 2, 3, 233, 2, 327, 2, 426, 437, 14, 2, 5, 2, 2, 6, 4, 2, 2, 3, 3, 3, 2, 4, 111, 5, 2, 2, 45, 3, 7, 2, 11, 3, 4, 8, 2, 5, 2, 2, 2, 40, 2, 4, 10, 2, 2, 2, 2, 2, 3, 6, 2, 2, 2, 3, 2, 3, 2, 2, 3, 2, 3, 6, 2, 2, 2, 2, 1, 4, 4, 4, 2, 2, 3, 5, 6, 3, 6, 5, 12, 3, 3, 7, 7, 4, 5, 3, 4, 3, 2, 2, 2, 3, 2, 2, 2, 5, 4, 2, 2, 2, 2, 2, 2, 2, 2, 7, 2, 2, 4, 4, 3, 5, 3, 4, 4, 6, 6, 3, 2, 2, 2, 3, 1, 1, 4, 4, 2, 3, 2, 2, 1, 2, 4, 2, 3, 3, 3, 2, 2, 1, 2, 2, 2, 2, 1, 2, 1, 2, 2, 2, 4, 2, 2, 2, 2, 2, 3, 8, 2, 5, 2, 2, 2, 3, 3, 2, 1, 1, 1, 2, 2, 2, 2, 2, 2, 2, 3, 2, 1, 2, 2, 4, 3, 3, 2, 1, 3, 2, 2, 2, 2, 2, 4, 1, 3, 2, 2, 3, 1, 2, 2, 2, 1, 2, 1, 2, 2, 2, 2, 2, 2, 2, 2, 6, 2, 2, 2, 2, 2, 2, 2, 3, 1, 2, 2, 2, 2, 3, 2, 3, 2, 2, 2, 3, 2, 2, 2, 2, 3, 2, 2, 2, 2, 2, 1, 1, 2, 2, 2, 2, 3, 2, 1, 5, 6, 2, 2, 4, 2, 2, 1, 2, 2, 2, 2, 2, 2, 2, 2, 1, 2, 1, 2, 2, 2, 3, 2, 4, 1, 3, 2, 1, 2, 3, 3, 2, 2, 2, 1, 3, 1, 1, 1, 2, 2, 2, 2, 2, 2, 1, 3, 2, 3, 3, 2, 1, 2, 3, 2, 2, 2, 2, 3, 1, 2, 2, 1, 1, 2, 2, 2, 2, 2, 2, 2, 2, 2, 2, 3, 2, 2, 1, 2, 2, 2, 2, 2, 1, 2, 2, 1, 2, 1, 1, 2, 2, 1, 1, 3, 2, 2, 2, 2, 2, 2, 3, 3, 2, 2, 2, 2, 3, 2, 2, 1, 2, 1, 1, 2, 2, 1, 2, 3, 2, 2, 1, 3, 2, 2, 2, 1, 2, 1, 2, 2, 2, 2, 2, 2, 1, 3, 2, 1, 2, 1, 2, 2, 2, 1, 2, 2, 1, 1, 2, 2, 1, 1, 2, 2, 2, 2, 2, 2, 1, 2, 2, 2, 2, 2, 1, 1, 1, 1, 2, 2, 1, 2, 1, 2, 1, 1, 2, 2, 2, 2, 2, 1, 2, 2, 2, 2, 1, 2, 37, 2, 2, 3, 1, 2, 1, 2, 1, 2, 3, 1, 2, 3, 2, 6, 1, 1, 2, 1, 1, 2, 2, 19, 2, 1, 1, 2, 2, 2, 23, 52, 1, 68, 15, 5, 3, 1, 1, 1, 1, 1, 1, 88, 182, 109, 8, 111, 51, 56, 104, 67, 127, 190, 53, 282, 37, 8, 8, 22, 16, 24, 14, 45, 40, 21, 56, 23, 32, 4, 3, 23, 33, 71, 56, 1, 25, 28, 11, 12, 94, 71, 25, 23, 42, 65, 44, 52, 13, 82, 78, 27, 9, 11, 18, 7, 17, 3, 16, 19, 24, 11, 16, 25, 8, 15, 14, 6, 26, 31, 15, 5, 3, 43, 10, 42, 4, 6, 19, 16, 20, 14, 13, 11, 22, 21, 8, 83, 6, 22, 18, 28, 12, 6, 29, 17, 16, 11, 17, 21, 10, 14, 8, 11, 2, 2, 30, 7, 2, 18, 7, 5, 12, 2, 1, 3, 18, 7, 4, 1, 6, 8, 8, 2, 7, 1, 12, 31, 1, 19, 2, 5, 19, 20, 58, 2, 4, 11, 11, 19, 6, 1, 21, 15, 8, 2, 21, 83, 91, 184, 1272, 6, 13, 56, 24, 42, 63, 114, 28, 6, 15, 29, 29, 33, 63, 7, 14, 82, 3, 29, 22, 41, 51, 18, 60, 2, 20, 24, 51, 13, 21, 41, 13, 15, 8, 29, 18, 7, 49, 71, 23, 77, 30, 21, 66, 27, 14, 17, 7, 35, 9, 17, 26, 106, 52, 14, 12, 27, 11, 7, 4, 4, 12, 2, 6, 6, 19, 11, 8, 8, 7, 18, 9, 36, 3, 10, 3, 4, 15, 5, 15, 7, 9, 39, 16, 17, 22, 9, 11, 9, 22, 13, 5, 6, 28, 7, 91, 26, 21, 39, 38, 15, 48, 26, 87, 14, 29, 11, 6, 12, 8, 7, 22, 3, 15, 5, 4, 19, 8, 15, 4, 6, 14, 10, 7, 7, 2, 1, 20, 17, 3, 16, 18, 11, 9, 6, 7, 7, 3, 9, 6, 10, 8, 11, 11, 2, 2, 2, 2, 2, 2, 13, 2, 3, 2, 3, 2, 2, 2, 2, 2, 2, 2, 5, 2, 2, 17, 12, 7, 10, 15, 6, 22, 4, 12, 14, 8, 8, 3, 16, 2, 10, 38, 8, 2, 11, 3, 2, 11, 2, 2, 2, 17, 3, 15, 8, 3, 2, 11, 5, 2, 1, 8, 7, 10, 6, 11, 7, 2, 8, 2, 2, 2, 1, 2, 4, 4, 3, 2, 1, 2, 8, 8, 3, 2, 3, 2, 3, 8, 2, 2, 4, 2, 4, 2, 2, 1, 1, 2, 1, 2, 2, 1, 2, 1, 2, 1, 2, 1, 2, 1, 14, 9, 41, 4, 38, 1, 20, 11, 13, 51, 39, 3, 11, 10, 17, 20, 71, 36, 21, 9, 6, 10, 23, 14, 21, 9, 1, 13, 43, 23, 8, 17, 5, 16, 5, 7, 6, 11, 17, 26, 8, 11, 6, 22, 6, 2, 19, 14, 2, 12, 10, 2, 15, 8, 5, 35, 2, 4, 9, 8, 7, 9, 13, 7, 5, 13, 7, 12, 5, 7, 6, 4, 15, 8, 17, 4, 2, 14, 12, 12, 5, 4, 4, 2, 2, 4, 2, 3, 19, 8, 5, 3, 6, 4, 5, 12, 2, 2, 2, 2, 2, 10, 12, 8, 6, 5, 12, 5, 3, 7, 10, 7, 3, 5, 13, 4, 4, 2, 2, 5, 3, 5, 6, 5, 7, 6, 13, 7, 3, 3, 2, 17, 3, 3, 5, 13, 11, 2, 9, 7, 2, 16, 6, 3, 8, 5, 2, 3, 7, 3, 2, 4, 2, 2, 3, 6, 2, 2, 2, 2, 1, 1, 6, 1, 6, 2, 2, 2, 5, 6, 9, 2, 7, 6, 3, 4, 3, 2, 3, 8, 7, 8, 3, 2, 2, 2, 3, 2, 4, 1, 1, 4, 3, 3, 2, 3, 2, 7, 2, 3, 3, 7, 4, 7, 2, 8, 2, 4, 1, 4, 7, 6, 3, 6, 5, 3, 3, 5, 2, 5, 4, 3, 3, 6, 2, 2, 7, 2, 3, 2, 3, 3, 2, 4, 2, 2, 2, 2, 2, 1, 3, 6, 2, 1, 2, 2, 2, 1, 3, 2, 1, 1, 3, 3, 8, 53, 56, 4, 25, 41, 61, 126, 166, 2, 10, 35, 5, 52, 12, 8, 2, 10, 7, 4, 15, 39, 39, 5, 41, 17, 193, 1, 39, 2, 2, 9, 5, 6, 2, 14, 2, 2, 24, 2, 5, 2, 2, 5, 20, 14, 2, 20, 5, 9, 2, 9, 3, 13, 7, 3, 1, 2, 4, 9, 12, 11, 4, 2, 3, 26, 2, 4, 22, 2, 2, 3, 4, 44, 2, 2, 4, 10, 3, 3, 3, 3, 4, 2, 3, 2, 3, 3, 3, 4, 7, 3, 4, 22, 2, 3, 7, 8, 4, 4, 2, 3, 4, 3, 4, 5, 3, 8, 3, 5, 3, 5, 4, 3, 3, 3, 3, 2, 3, 2, 2, 3, 5, 2, 18, 3, 3, 3, 3, 3, 5, 5, 3, 3, 6, 2, 5, 2, 2, 7, 5, 3, 4, 3, 3, 2, 3, 5, 7, 3, 2, 2, 2, 3, 3, 6, 2, 3, 3, 2, 2, 3, 2, 2, 2, 2, 2, 2, 3, 2, 2, 2, 3, 3, 4, 3, 2, 4, 4, 5, 3, 5, 3, 3, 6, 4, 3, 5, 4, 2, 3, 3, 3, 3, 3, 3, 7, 4, 5, 3, 7, 2, 4, 2, 2, 2, 3, 1, 10, 2, 5, 2, 4, 3, 3, 2, 9, 2, 3, 6, 2, 2, 2, 2, 4, 2, 2, 2, 2, 2, 2, 2, 2, 2, 4, 2, 2, 3, 2, 2, 2, 2, 5, 2, 2, 2, 2, 2, 2, 2, 2, 2, 2, 2, 2, 2, 6, 2, 3, 2, 2, 2, 3, 2, 2, 2, 3, 2, 2, 2, 2, 2, 2, 2, 1, 2, 3, 2, 2, 1, 2, 1, 2, 2, 4, 2, 2, 2, 2, 2, 2, 1, 2, 2, 2, 2, 3, 4, 2, 2, 2, 2, 2, 1, 2, 2, 4, 4, 3, 2, 1, 2, 3, 2, 2, 2, 3, 2, 2, 2, 2, 2, 2, 3, 2, 2, 2, 2, 1, 2, 2, 2, 5, 2, 2, 2, 2, 2, 3, 2, 2, 2, 2, 3, 1, 2, 2, 1, 1, 2, 2, 2, 2, 1, 2, 2, 2, 2, 2, 2, 1, 2, 2, 3, 2, 2, 2, 2, 2, 1, 2, 2, 2, 1, 1, 1, 1, 1, 1, 2, 10, 43, 55, 38, 5, 3, 2, 2, 2, 11, 25, 7, 2, 5, 11, 5, 4, 8, 3, 4, 12, 13, 2, 15, 4, 22, 10, 14, 23, 2, 2, 1, 2, 2, 45, 80, 42, 1, 3, 18, 18, 21, 6, 1, 3, 1, 7, 4, 12, 2, 25, 123, 5, 1, 6, 1, 1, 2, 4, 5, 6, 154, 2, 5, 4, 43, 4, 3, 14, 18, 4, 2, 1, 9, 5, 1, 17, 3, 2, 31, 1, 2, 11, 14, 2, 4, 2, 7, 12, 1, 2, 14, 1, 6, 2, 16, 2, 3, 3, 43, 5, 17, 15, 4, 3, 1, 3, 55, 5, 5, 4, 3, 4, 31, 45, 6, 10, 4, 10, 5, 6, 8, 2, 6, 2, 7, 4, 10, 5, 2, 5, 4, 8, 3, 5, 16, 5, 14, 5, 2, 3, 7, 2, 5, 3, 5, 4, 6, 12, 5, 8, 10, 8, 4, 3, 2, 12, 4, 4, 8, 8, 16, 3, 5, 4, 3, 14, 13, 2, 6, 2, 4, 2, 5, 2, 8, 2, 4, 3, 3, 18, 12, 2, 11, 2, 4, 8, 6, 2, 23, 9, 5, 20, 2, 3, 2, 8, 5, 1, 8, 6, 83, 2, 18, 1, 2, 3, 17, 2, 20, 2, 27, 10, 2, 32, 2, 2, 2, 2, 2, 1, 39, 3, 87, 1, 5, 2, 23, 4, 10, 2, 1, 3, 3, 3, 7, 3, 2, 3, 9, 4, 3, 1, 3, 4, 14, 8, 3, 2, 2, 2, 30, 4, 2, 1, 39, 4, 7, 5, 6, 11, 14, 2, 4, 3, 2, 2, 5, 2, 6, 2, 2, 5, 2, 2, 6, 4, 5, 7, 6, 3, 3, 2, 3, 4, 10, 8, 3, 2, 3, 2, 2, 5, 24, 5, 13, 3, 5, 2, 3, 2, 2, 2, 2, 1, 3, 1, 2, 9, 2, 2, 3, 2, 2, 4, 2, 41, 11, 2, 6, 2, 2, 20, 1, 1, 5, 1, 3, 4, 2, 2, 14, 4, 8, 2, 1, 7, 2, 15, 11, 2, 2, 2, 2, 2, 2, 2, 2, 9, 11, 6, 3, 4, 3, 3, 2, 6, 2, 2, 10, 8, 2, 2, 3, 4, 3, 3, 5, 2, 4, 3, 2, 6, 2, 5, 2, 2, 2, 2, 18, 2, 4, 2, 3, 5, 2, 6, 2, 3, 5, 2, 2, 7, 3, 2, 2, 20, 4, 3, 3, 2, 7, 4, 6, 4, 4, 3, 2, 2, 10, 2, 4, 2, 2, 4, 2, 2, 4, 5, 2, 2, 4, 2, 2, 3, 2, 2, 3, 2, 2, 3, 2, 3, 2, 4, 12, 3, 3, 2, 2, 2, 2, 4, 4, 4, 10, 4, 2, 3, 3, 10, 2, 2, 2, 1, 12, 2, 4, 2, 5, 2, 2, 3, 3, 2, 2, 4, 3, 2, 3, 2, 4, 2, 3, 3, 23, 3, 2, 2, 3, 2, 4, 4, 5, 4, 1, 3, 6, 3, 2, 2, 5, 2, 2, 1, 2, 2, 8, 3, 1, 2, 5, 1, 1, 8, 2, 2, 3, 3, 2, 2, 4, 2, 2, 5, 6, 3, 4, 7, 4, 5, 2, 3, 5, 4, 3, 4, 3, 4, 3, 7, 2, 6, 3, 2, 3, 3, 2, 3, 4, 2, 3, 3, 4, 2, 2, 2, 2, 3, 3, 3, 4, 3, 4, 2, 3, 2, 5, 2, 2, 2, 5, 20, 4, 3, 4, 3, 4, 2, 2, 6, 9, 3, 4, 4, 4, 2, 4, 3, 3, 2, 2, 2, 2, 2, 7, 3, 2, 2, 2, 3, 3, 4, 2, 3, 10, 5, 2, 2, 2, 3, 2, 3, 7, 6, 2, 2, 2, 19, 2, 4, 3, 2, 2, 5, 4, 2, 2, 2, 2, 2, 1, 3, 4, 2, 2, 2, 13, 2, 2, 3, 2, 3, 3, 2, 2, 2, 6, 2, 3, 4, 2, 2, 2, 2, 2, 1, 2, 2, 2, 2, 5, 1, 3, 1, 6, 2, 2, 2, 2, 2, 4, 2, 2, 2, 2, 2, 3, 11, 1, 2, 2, 1, 5, 3, 2, 5, 2, 2, 7, 2, 2, 2, 2, 2, 2, 1, 2, 3, 2, 3, 1, 1, 6, 3, 2, 4, 2, 19, 6, 2, 2, 1, 2, 2, 2, 2, 2, 1, 2, 1, 3, 3, 2, 2, 1, 3, 5, 7, 2, 2, 3, 2, 2, 2, 2, 2, 5, 16, 1, 3, 5, 3, 2, 3, 1, 1, 4, 4, 2, 2, 5, 4, 3, 1, 5, 2, 1, 2, 2, 2, 3, 1, 1, 3, 1, 2, 1, 2, 2, 2, 2, 2, 6, 3, 2, 3, 2, 1, 2, 2, 3, 3, 3, 5, 2, 2, 4, 2, 3, 2, 1, 1, 2, 5, 2, 3, 6, 3, 2, 2, 10, 4, 4, 3, 2, 2, 1, 1, 1, 1, 2, 1, 2, 3, 2, 2, 2, 9, 2, 3, 11, 1, 2, 3, 2, 5, 1, 2, 2, 2, 2, 2, 2, 2, 3, 1, 3, 3, 3, 2, 3, 2, 3, 2, 2, 3, 2, 2, 2, 3, 2, 2, 1, 1, 2, 6, 4, 1, 3, 3, 2, 3, 2, 1, 6, 2, 2, 2, 1, 4, 3, 3, 1, 2, 4, 1, 3, 2, 2, 2, 2, 7, 2, 3, 2, 2, 2, 3, 2, 2, 2, 3, 2, 2, 3, 3, 3, 2, 5, 2, 5, 2, 4, 2, 2, 2, 2, 1, 2, 2, 2, 1, 3, 2, 2, 2, 1, 2, 2, 1, 4, 7, 5, 1, 4, 3, 1, 2, 1, 2, 2, 2, 3, 7, 2, 2, 2, 2, 4, 2, 2, 3, 5, 2, 2, 4, 2, 2, 7, 2, 2, 2, 1, 2, 1, 1, 2, 2, 1, 2, 4, 2, 4, 2, 1, 2, 2, 3, 2, 3, 2, 2, 2, 1, 1, 2, 2, 5, 5, 2, 3, 1, 1, 1, 1, 1, 2, 6, 2, 2, 4, 2, 4, 1, 2, 2, 2, 2, 2, 2, 1, 2, 2, 2, 2, 2, 1, 3, 1, 3, 3, 1, 1, 3, 1, 3, 5, 2, 1, 2, 2, 2, 4, 2, 2, 2, 2, 1, 2, 2, 2, 2, 1, 3, 2, 1, 1, 2, 2, 5, 3, 2, 3, 2, 2, 3, 1, 3, 4, 4, 2, 2, 1, 3, 3, 3, 1, 1, 3, 1, 1, 2, 1, 1, 1, 2, 2, 3, 1, 1, 2, 2, 2, 1, 1, 2, 1, 2, 1, 2, 1, 2, 1, 2, 2, 2, 2, 2, 1, 2, 2, 2, 1, 1, 2, 2, 2, 1, 1, 3, 1, 2, 1, 1, 1, 2, 2, 2, 2, 3, 2, 2, 1, 2, 2, 3, 2, 2, 2, 2, 1, 3, 1, 1, 1, 2, 1, 2, 3, 2, 3, 1, 1, 2, 1, 2, 1, 2, 1, 2, 1, 2, 1, 2, 2, 1, 1, 2, 1, 2, 2, 2, 2, 2, 4, 1, 3, 2, 1, 2, 1, 3, 2, 2, 2, 1, 1, 3, 2, 2, 3, 1, 1, 1, 1, 2, 3, 2, 1, 3, 2, 1, 2, 2, 2, 2, 3, 1, 1, 2, 2, 6, 2, 2, 1, 2, 2, 1, 2, 2, 2, 1, 1, 1, 1, 1, 2, 3, 2, 2, 2, 3, 3, 2, 2, 2, 1, 1, 1, 1, 2, 1, 2, 2, 1, 2, 3, 1, 2, 2, 7, 2, 1, 2, 1, 1, 2, 1, 1, 1, 2, 2, 1, 1, 1, 1, 2, 2, 2, 1, 1, 1, 4, 1, 2, 1, 1, 2, 1, 1, 2, 1, 2, 1, 2, 2, 2, 2, 1, 1, 4, 2, 1, 2, 4, 1, 1, 2, 2, 1, 2, 2, 1, 1, 1, 1, 2, 2, 1, 3, 1, 2, 3, 1, 1, 2, 1, 1, 1, 3, 1, 3, 5, 2, 2, 1, 1, 2, 1, 1, 3, 2, 2, 2, 2, 3, 2, 2, 1, 1, 2, 1, 1, 2, 2, 1, 1, 2, 4, 2, 1, 1, 2, 4, 2, 1, 3, 1, 2, 2, 1, 1, 2, 1, 2, 2, 1, 2, 2, 2, 2, 4, 1, 1, 2, 1, 2, 2, 2, 1, 1, 2, 2, 2, 1, 2, 2, 2, 2, 2, 1, 2, 1, 3, 1, 2, 1, 2, 1, 1, 3, 2, 2, 1, 1, 2, 3, 11, 2, 47, 8, 4, 1, 1, 6, 57, 376, 3, 36, 2, 2, 15, 2, 5, 3, 62, 2, 69, 4, 3, 2, 27, 5, 54, 4, 54, 22, 10, 1, 89, 34, 2, 140, 43, 42, 23, 3, 32, 3, 32, 7, 18, 42, 6, 29, 35, 3, 45, 2, 12, 4, 9, 12, 7, 53, 38, 21, 198, 104, 2, 3, 9, 9, 4, 12, 35, 194, 35, 10, 1, 2, 45, 9, 30, 3, 2, 28, 28, 3, 33, 7, 49, 34, 4, 5, 17, 7, 2, 25, 3, 28, 2, 14, 10, 24, 20, 9, 6, 3, 109, 19, 14, 67, 16, 10, 11, 14, 2, 55, 12, 5, 3, 4, 4, 5, 2, 7, 4, 3, 52, 3, 2, 9, 16, 10, 3, 3, 1, 22, 64, 4, 26, 25, 8, 10, 14, 2, 8, 2, 7, 11, 20, 6, 7, 7, 69, 4, 4, 5, 7, 65, 14, 13, 39, 25, 4, 5, 13, 4, 6, 2, 4, 8, 2, 9, 20, 5, 5, 6, 4, 4, 4, 10, 2, 7, 4, 2, 2, 15, 13, 2, 4, 2, 7, 36, 2, 2, 10, 2, 5, 3, 6, 7, 3, 7, 2, 2, 2, 5, 4, 5, 19, 11, 4, 5, 3, 4, 5, 2, 3, 6, 9, 3, 2, 10, 5, 10, 4, 5, 4, 3, 8, 4, 9, 3, 2, 3, 9, 4, 3, 4, 12, 2, 40, 15, 7, 8, 2, 7, 4, 2, 4, 5, 10, 5, 5, 20, 4, 2, 5, 4, 2, 23, 3, 4, 28, 10, 9, 4, 5, 8, 11, 17, 3, 2, 31, 10, 1, 4, 2, 2, 2, 6, 2, 3, 20, 2, 1, 4, 3, 2, 3, 28, 5, 6, 4, 6, 1, 4, 3, 2, 2, 14, 25, 3, 1, 1, 2, 3, 4, 2, 5, 3, 4, 7, 14, 3, 5, 3, 17, 2, 6, 2, 5, 9, 3, 4, 2, 2, 3, 7, 6, 1, 2, 2, 1, 9, 3, 7, 4, 4, 1, 17, 2, 4, 4, 4, 32, 2, 2, 2, 3, 6, 17, 4, 12, 8, 2, 35, 7, 22, 2, 2, 4, 2, 2, 2, 6, 6, 3, 2, 2, 3, 3, 3, 5, 2, 3, 2, 14, 2, 9, 2, 2, 2, 3, 2, 2, 2, 8, 4, 19, 4, 5, 5, 5, 3, 3, 9, 5, 4, 2, 7, 3, 4, 7, 3, 3, 2, 4, 2, 4, 2, 12, 11, 5, 5, 2, 3, 5, 2, 5, 3, 2, 2, 2, 2, 5, 2, 2, 2, 3, 2, 3, 4, 19, 2, 4, 2, 2, 4, 2, 4, 3, 9, 2, 2, 3, 2, 7, 2, 4, 4, 3, 2, 2, 2, 2, 8, 4, 2, 3, 2, 3, 2, 3, 2, 2, 2, 2, 6, 6, 5, 2, 6, 13, 2, 2, 3, 2, 11, 3, 6, 3, 3, 3, 3, 4, 3, 3, 2, 1, 2, 2, 2, 3, 3, 3, 5, 3, 7, 2, 3, 2, 2, 2, 2, 2, 12, 2, 2, 3, 15, 2, 3, 20, 2, 3, 2, 2, 8, 4, 1, 2, 1, 3, 19, 3, 6, 6, 2, 3, 3, 4, 5, 5, 2, 6, 4, 2, 4, 4, 3, 9, 6, 4, 4, 3, 2, 6, 8, 2, 4, 4, 3, 4, 2, 5, 2, 2, 2, 1, 1, 2, 2, 3, 5, 7, 1, 2, 3, 1, 2, 2, 1, 3, 2, 1, 2, 3, 3, 1, 1, 2, 1, 2, 4, 1, 2, 2, 1, 2, 2, 1, 2, 14, 2, 9, 3, 1, 1, 2, 3, 2, 3, 4, 2, 2, 4, 2, 1, 3, 2, 2, 3, 1, 2, 4, 2, 3, 2, 2, 2, 19, 1, 5, 2, 9, 2, 1, 1, 2, 1, 4, 2, 2, 2, 5, 2, 4, 6, 4, 2, 1, 3, 2, 1, 2, 1, 2, 3, 2, 3, 3, 4, 2, 2, 2, 3, 1, 1, 1, 1, 1, 2, 1, 2, 2, 1, 1, 1, 6, 2, 3, 3, 4, 2, 2, 3, 1, 2, 3, 2, 1, 1, 1, 2, 5, 2, 7, 2, 2, 4, 2, 2, 5, 1, 4, 11, 2, 2, 4, 2, 2, 2, 3, 2, 2, 2, 3, 2, 2, 2, 1, 2, 1, 2, 8, 1, 1, 2, 4, 2, 19, 1, 4, 10, 2, 2, 4, 1, 2, 4, 2, 1, 2, 2, 4, 2, 2, 2, 1, 1, 1, 2, 3, 1, 4, 2, 2, 2, 1, 3, 2, 2, 3, 2, 1, 1, 2, 2, 3, 2, 1, 2, 2, 1, 1, 2, 4, 3, 2, 1, 1, 1, 6, 1, 11, 11, 2, 4, 2, 1, 1, 2, 4, 2, 2, 1, 2, 2, 2, 1, 1, 4, 5, 2, 2, 3, 1, 2, 3, 2, 3, 4, 3, 5, 2, 7, 4, 2, 2, 4, 5, 1, 1, 6, 2, 1, 3, 3, 2, 2, 3, 19, 3, 6, 1, 2, 8, 1, 2, 2, 2, 2, 1, 3, 3, 2, 1, 2, 11, 2, 2, 3, 2, 1, 1, 2, 2, 2, 3, 2, 4, 3, 2, 3, 2, 1, 1, 1, 2, 4, 2, 2, 2, 1, 7, 5, 2, 2, 5, 7, 2, 1, 2, 2, 2, 2, 1, 1, 3, 2, 2, 2, 2, 2, 3, 2, 3, 2, 1, 3, 2, 8, 1, 2, 1, 2, 4, 3, 2, 3, 1, 1, 2, 2, 2, 2, 3, 2, 2, 1, 5, 2, 2, 8, 1, 4, 1, 2, 1, 2, 6, 1, 4, 3, 6, 8, 1, 2, 1, 2, 2, 2, 1, 2, 3, 1, 2, 2, 2, 2, 2, 3, 2, 2, 1, 2, 1, 2, 4, 1, 2, 2, 2, 2, 2, 3, 2, 1, 1, 4, 2, 2, 2, 2, 7, 2, 2, 2, 1, 3, 1, 3, 2, 2, 2, 2, 2, 2, 7, 1, 3, 2, 4, 2, 18, 1, 3, 1, 3, 1, 2, 1, 1, 1, 8, 1, 3, 2, 2, 2, 1, 2, 2, 2, 2, 6, 2, 2, 3, 1, 1, 2, 1, 2, 2, 1, 1, 2, 2, 3, 2, 8, 2, 4, 2, 3, 1, 1, 3, 4, 1, 1, 2, 3, 2, 1, 10, 3, 10, 1, 7, 2, 1, 2, 4, 1, 5, 1, 2, 9, 2, 2, 1, 2, 1, 1, 2, 1, 2, 3, 1, 1, 3, 1, 2, 3, 3, 2, 5, 2, 3, 2, 2, 3, 3, 2, 3, 2, 2, 3, 2, 2, 1, 2, 2, 1, 3, 1, 2, 1, 2, 2, 7, 2, 1, 1, 1, 8, 2, 3, 2, 5, 3, 4, 2, 4, 2, 2, 2, 4, 1, 4, 2, 2, 2, 2, 1, 1, 1, 1, 2, 3, 2, 3, 4, 2, 1, 1, 3, 4, 2, 3, 5, 2, 1, 2, 4, 5, 1, 3, 1, 7, 2, 2, 1, 2, 2, 2, 1, 1, 2, 2, 2, 4, 5, 3, 6, 3, 5, 3, 5, 1, 5, 1, 7, 4, 4, 2, 2, 2, 11, 1, 3, 2, 8, 3, 1, 1, 2, 2, 1, 1, 1, 2, 2, 2, 4, 2, 2, 3, 2, 2, 47, 3, 1, 1, 2, 2, 2, 2, 2, 3, 1, 2, 1, 1, 2, 2, 2, 2, 1, 2, 2, 2, 2, 1, 3, 1, 9, 2, 1, 2, 2, 4, 2, 2, 3, 2, 3, 3, 2, 2, 1, 2, 2, 10, 1, 8, 1, 22, 30, 3, 3, 3, 2, 2, 2, 3, 2, 9, 17, 13, 2, 2, 3, 10, 2, 3, 13, 2, 3, 22, 11, 2, 2, 2, 4, 7, 174, 17, 5, 2, 5, 32, 3, 1, 2, 28, 38, 1, 2, 2, 2, 16, 2, 7, 3, 9, 2, 2, 2, 2, 6, 1, 2, 3, 8, 17, 14, 10, 3, 2, 1, 2, 3, 6, 5, 10, 7, 2, 2, 3, 2, 1, 4, 10, 5, 1, 2, 2, 1, 2, 3, 4, 2, 2, 2, 4, 2, 3, 2, 2, 3, 2, 2, 2, 3, 2, 4, 3, 3, 13, 2, 2, 2, 2, 1, 2, 2, 6, 2, 2, 2, 3, 63, 3, 7, 9, 2, 3, 4, 2, 3, 3, 39, 3, 10, 39, 2, 3, 2, 24, 2, 3, 7, 4, 2, 2, 4, 2, 2, 2, 9, 2, 12, 5, 2, 27, 3, 3, 2, 4, 2, 3, 3, 2, 5, 2, 2, 18, 2, 2, 2, 4, 2, 1, 2, 2, 1, 1, 3, 2, 7, 3, 2, 2, 9, 1, 1, 1, 5, 3, 29, 2, 4, 2, 1, 2, 1, 9, 2, 1, 4, 2, 2, 5, 4, 2, 1, 8, 4, 4, 4, 1, 1, 9, 3, 4, 1, 2, 2, 2, 2, 3, 2, 2, 2, 1, 2, 1, 2, 3, 1, 2, 2, 9, 3, 3, 11, 2, 2, 2, 1, 4, 1, 3, 2, 2, 1, 16, 2, 2, 2, 1, 4, 2, 3, 2, 2, 2, 8, 2, 4, 2, 2, 5, 3, 2, 2, 1, 1, 5, 2, 2, 2, 1, 2, 3, 2, 2, 2, 2, 2, 3, 2, 5, 3, 2, 5, 1, 1, 3, 4, 2, 2, 2, 2, 9, 2, 3, 3, 2, 2, 5, 2, 3, 3, 3, 2, 12, 2, 2, 3, 2, 4, 7, 2, 4, 4, 3, 2, 2, 2, 2, 3, 2, 2, 2, 2, 2, 2, 2, 2, 2, 2, 2, 2, 2, 2, 2, 3, 3, 2, 2, 2, 4, 2, 3, 2, 2, 2, 2, 3, 2, 2, 2, 2, 2, 2, 2, 3, 2, 2, 2, 3, 2, 2, 2, 2, 3, 4, 2, 2, 3, 2, 2, 4, 2, 2, 2, 3, 2, 2, 3, 2, 3, 2, 2, 3, 2, 2, 3, 2, 2, 2, 2, 2, 2, 2, 3, 3, 2, 3, 2, 3, 2, 2, 2, 2, 3, 2, 3, 2, 2, 2, 2, 3, 2, 2, 3, 3, 3, 2, 2, 2, 2, 2, 2, 2, 2, 2, 3, 2, 2, 2, 3, 2, 4, 4, 3, 2, 2, 6, 3, 3, 2, 2, 2, 3, 2, 2, 3, 2, 2, 3, 2, 2, 2, 3, 2, 2, 2, 2, 2, 2, 3, 2, 2, 2, 2, 2, 2, 2, 2, 3, 2, 2, 2, 2, 2, 3, 2, 4, 2, 2, 2, 2, 2, 2, 2, 2, 2, 2, 3, 2, 2, 2, 2, 3, 2, 2, 2, 6, 3, 3, 2, 2, 2, 2, 2, 2, 2, 2, 2, 2, 2, 2, 4, 2, 2, 2, 3, 4, 2, 3, 2, 3, 2, 2, 2, 2, 2, 3, 3, 4, 2, 2, 2, 2, 2, 2, 3, 2, 2, 2, 3, 2, 3, 2, 2, 2, 3, 2, 5, 2, 2, 2, 2, 2, 2, 2, 3, 2, 4, 4, 2, 2, 2, 2, 2, 2, 2, 3, 2, 2, 7, 2, 2, 2, 8, 3, 3, 2, 2, 3, 2, 3, 2, 2, 2, 3, 4, 2, 2, 2, 2, 2, 3, 2, 3, 4, 2, 2, 3, 2, 2, 3, 6, 2, 2, 2, 4, 2, 2, 4, 2, 3, 2, 2, 2, 21, 3, 6, 3, 2, 3, 2, 3, 2, 2, 2, 2, 2, 2, 2, 8, 2, 2, 4, 2, 2, 2, 2, 3, 2, 4, 2, 2, 2, 3, 2, 2, 2, 2, 2, 6, 2, 4, 2, 2, 2, 2, 3, 2, 5, 7, 2, 2, 2, 2, 2, 1, 2, 2, 2, 2, 2, 2, 3, 2, 2, 2, 3, 2, 2, 2, 5, 2, 2, 2, 2, 2, 2, 2, 2, 2, 7, 2, 13, 2, 3, 2, 2, 1, 2, 1, 1, 2, 4, 2, 12, 2, 2, 1, 1, 1, 2, 2, 1, 1, 1, 1, 2, 2, 2, 1, 2, 2, 2, 2, 2, 1, 1, 2, 2, 2, 1, 4, 1, 2, 8, 2, 2, 2, 2, 2, 3, 2, 2, 2, 2, 1, 1, 2, 2, 2, 1, 2, 2, 2, 4, 2, 8, 2, 2, 2, 2, 2, 1, 3, 2, 2, 2, 2, 1, 1, 2, 2, 2, 2, 1, 2, 2, 2, 4, 2, 3, 5, 6, 1, 2, 2, 1, 1, 4, 4, 2, 2, 2, 2, 1, 1, 2, 3, 4, 2, 1, 2, 1, 2, 2, 2, 2, 2, 2, 1, 1, 3, 1, 2, 4, 3, 2, 3, 2, 2, 2, 2, 1, 2, 1, 4, 2, 2, 1, 1, 1, 2, 2, 2, 2, 2, 2, 1, 1, 2, 3, 2, 2, 1, 2, 1, 2, 3, 2, 4, 3, 2, 1, 2, 2, 3, 2, 1, 2, 2, 2, 3, 2, 4, 2, 2, 1, 2, 4, 2, 2, 1, 2, 3, 2, 3, 3, 2, 2, 2, 2, 2, 2, 5, 1, 1, 3, 2, 2, 2, 2, 3, 10, 2, 1, 2, 2, 2, 3, 2, 2, 2, 1, 2, 3, 5, 3, 5, 2, 1, 1, 2, 2, 1, 2, 1, 1, 2, 2, 2, 2, 1, 5, 2, 2, 2, 4, 3, 1, 1, 2, 2, 1, 4, 2, 2, 2, 2, 2, 2, 3, 3, 6, 3, 2, 1, 4, 2, 1, 2, 1, 2, 2, 2, 1, 2, 2, 2, 2, 2, 3, 2, 2, 1, 2, 2, 2, 2, 2, 1, 2, 2, 2, 2, 2, 2, 2, 3, 2, 3, 2, 2, 2, 2, 2, 8, 3, 2, 2, 2, 2, 4, 3, 2, 2, 2, 2, 2, 3, 2, 2, 2, 2, 2, 2, 2, 2, 6, 2, 2, 2, 3, 2, 2, 3, 2, 2, 2, 2, 2, 2, 6, 3, 2, 2, 2, 2, 2, 2, 3, 2, 2, 2, 2, 3, 2, 2, 2, 4, 2, 2, 2, 2, 3, 2, 2, 2, 2, 2, 2, 2, 2, 2, 4, 2, 2, 2, 2, 3, 2, 2, 2, 7, 2, 2, 2, 2, 1, 1, 3, 1, 2, 2, 2, 2, 2, 2, 1, 1, 2, 2, 1, 2, 2, 1, 2, 2, 2, 2, 2, 2, 2, 1, 2, 1, 4, 2, 1, 2, 1, 2, 1, 2, 2, 2, 2, 2, 1, 1, 2, 1, 1, 2, 8, 2, 2, 2, 2, 2, 1, 1, 1, 2, 1, 2, 2, 2, 2, 1, 1, 2, 2, 1, 2, 2, 1, 2, 2, 2, 2, 1, 1, 2, 2, 3, 2, 2, 5, 2, 2, 1, 2, 2, 2, 2, 1, 1, 1, 2, 1, 1, 1, 2, 2, 2, 2, 2, 2, 2, 1, 2, 3, 3, 1, 2, 1, 2, 2, 4, 1, 2, 2, 2, 2, 2, 3, 2, 3, 4, 2, 1, 1, 2, 2, 2, 2, 2, 2, 2, 1, 1, 1, 2, 1, 2, 2, 2, 2, 5, 2, 1, 2, 2, 1, 2, 2, 2, 2, 2, 2, 1, 2, 2, 2, 2, 2, 1, 1, 1, 2, 2, 3, 2, 1, 2, 2, 1, 2, 2, 1, 1, 2, 3, 1, 1, 1, 1, 1, 2, 1, 2, 2, 2, 1, 2, 1, 1, 2, 2, 1, 1, 2, 2, 2, 2, 2, 2, 2, 1, 1, 1, 2, 3, 2, 2, 2, 2, 2, 2, 2, 2, 2, 1, 1, 1, 2, 2, 2, 2, 1, 2, 1, 2, 2, 2, 2, 2, 1, 4, 3, 1, 2, 2, 2, 1, 3, 2, 1, 1, 2, 1, 1, 2, 2, 2, 2, 2, 2, 2, 2, 2, 1, 1, 2, 2, 2, 2, 2, 2, 3, 2, 2, 2, 2, 2, 2, 2, 3, 2, 2, 2, 2, 2, 2, 2, 2, 2, 2, 3, 2, 2, 3, 2, 2, 3, 2, 2, 2, 2, 2, 2, 2, 2, 2, 2, 2, 2, 2, 2, 2, 2, 2, 2, 2, 2, 2, 2, 2, 3, 2, 2, 3, 2, 2, 2, 2, 2, 2, 2, 2, 2, 2, 3, 2, 2, 2, 2, 2, 1, 1, 2, 1, 1, 1, 1, 2, 1, 1, 2, 3, 1, 1, 2, 1, 1, 1, 2, 4, 2, 1, 1, 2, 1, 2, 1, 1, 1, 1, 2, 1, 1, 1, 1, 2, 1, 2, 1, 3, 1, 2, 2, 1, 1, 1, 2, 2, 1, 1, 1, 2, 1, 2, 1, 1, 1, 2, 2, 2, 1, 1, 1, 2, 2, 2, 3, 1, 1, 2, 2, 2, 3, 2, 2, 1, 1, 1, 4, 1, 2, 3, 1, 1, 1, 2, 1, 1, 2, 1, 2, 2, 1, 1, 2, 1, 1, 1, 1, 1, 2, 2, 1, 1, 2, 2, 2, 2, 1, 1, 1, 2, 1, 1, 1, 1, 1, 1, 1, 1, 2, 2, 2, 2, 2, 1, 2, 1, 1, 1, 2, 1, 1, 2, 2, 1, 1, 2, 2, 2, 2, 2, 1, 1, 1, 2, 1, 1, 1, 3, 1, 3, 2, 1, 1, 1, 2, 2, 1, 2, 1, 1, 1, 2, 2, 1, 1, 1, 1, 2, 2, 1, 1, 3, 1, 1, 2, 1, 1, 1, 2, 1, 1, 2, 1, 2, 2, 1, 2, 1, 1, 1, 1, 2, 1, 1, 2, 1, 2, 2, 1, 1, 2, 1, 1, 1, 1, 1, 2, 2, 1, 2, 2, 2, 1, 1, 2, 1, 2, 1, 1, 1, 2, 2, 2, 1, 1, 2, 1, 2, 2, 2, 1, 1, 1, 1, 1, 1, 2, 2, 2, 2, 2, 1, 1, 2, 1, 1, 2, 1, 2, 2, 2, 2, 10, 37, 43, 2, 24, 2, 5, 2, 2, 3, 2, 1, 2, 3, 2, 2, 17, 2, 2, 67, 1, 2, 4, 13, 11, 2, 5, 2, 4, 6, 37, 1, 2, 18, 125, 26, 2, 16, 3, 24, 2, 38, 3, 49, 2, 27, 2, 2, 107, 5, 1, 83, 2, 2, 31, 2, 3, 2, 2, 9, 3, 4, 3, 2, 2, 2, 4, 2, 10, 7, 3, 2, 7, 7, 4, 13, 6, 8, 10, 4, 6, 3, 8, 4, 6, 14, 3, 3, 3, 2, 1, 3, 5, 2, 2, 2, 2, 2, 2, 2, 3, 2, 7, 13, 1, 3, 2, 15, 4, 20, 2, 2, 9, 24, 8, 3, 5, 2, 1, 2, 4, 2, 2, 13, 49, 2, 2, 13, 2, 5, 2, 3, 2, 3, 2, 6, 3, 13, 5, 4, 8, 2, 4, 4, 10, 2, 2, 3, 2, 2, 2, 2, 34, 2, 2, 9, 3, 2, 2, 2, 2, 4, 20, 12, 2, 2, 2, 3, 2, 4, 2, 2, 2, 2, 1, 4, 1, 3, 2, 2, 2, 3, 12, 3, 2, 2, 2, 1, 1, 6, 3, 2, 2, 1, 1, 13, 9, 5, 10, 2, 2, 2, 1, 15, 1, 2, 7, 3, 2, 2, 2, 2, 21, 3, 12, 3, 1, 2, 3, 1, 1, 2, 1, 11, 4, 1, 2, 2, 5, 1, 1, 1, 2, 2, 2, 2, 1, 7, 2, 2, 2, 4, 2, 2, 11, 2, 2, 28, 2, 2, 2, 7, 2, 2, 4, 2, 2, 29, 2, 2, 2, 2, 1, 3, 4, 2, 2, 2, 1, 10, 2, 2, 40, 6, 2, 2, 4, 4, 2, 2, 2, 7, 2, 2, 2, 7, 11, 1, 2, 2, 2, 2, 1, 2, 2, 2, 3, 2, 2, 2, 1, 2, 2, 2, 1, 1, 2, 3, 2, 9, 2, 2, 3, 1, 1, 2, 2, 1, 2, 3, 2, 1, 1, 2, 2, 1, 1, 2, 2, 2, 1, 2, 1, 1, 2, 2, 2, 2, 10, 2, 2, 2, 3, 2, 2, 1, 1, 7, 1, 2, 2, 3, 2, 2, 2, 2, 2, 2, 2, 2, 1, 1, 3, 1, 3, 3, 2, 1, 2, 2, 1, 2, 2, 2, 2, 1, 2, 4, 2, 3, 2, 2, 2, 2, 2, 2, 2, 2, 2, 2, 2, 2, 2, 2, 2, 2, 2, 2, 1, 2, 1, 2, 2, 2, 2, 2, 2, 2, 2, 2, 1, 2, 2, 1, 9, 2, 3, 2, 1, 2, 4, 2, 2, 3, 1, 1, 1, 2, 2, 2, 2, 1, 2, 3, 2, 1, 2, 3, 3, 1, 3, 3, 2, 2, 1, 4, 2, 2, 2, 2, 4, 3, 2, 2, 2, 3, 1, 4, 2, 2, 1, 2, 1, 3, 2, 2, 1, 3, 1, 2, 3, 2, 2, 2, 2, 2, 1, 2, 2, 2, 2, 2, 5, 1, 2, 2, 1, 1, 2, 2, 1, 1, 2, 1, 2, 1, 2, 2, 2, 2, 2, 1, 2, 2, 3, 1, 2, 1, 2, 2, 2, 2, 4, 2, 2, 2, 2, 2, 2, 3, 2, 1, 2, 2, 2, 2, 2, 1, 1, 3, 2, 1, 1, 3, 2, 3, 1, 7, 3, 2, 8, 1, 3, 1, 3, 1, 1, 2, 2, 2, 1, 6, 1, 2, 2, 2, 2, 2, 1, 2, 2, 6, 2, 2, 2, 2, 1, 1, 1, 1, 2, 4, 2, 2, 1, 2, 2, 1, 2, 2, 1, 2, 4, 1, 2, 2, 1, 2, 2, 2, 2, 2, 1, 2, 1, 1, 1, 5, 2, 2, 2, 1, 2, 2, 2, 2, 2, 5, 3, 1, 1, 2, 1, 3, 1, 3, 1, 1, 3, 2, 2, 1, 1, 2, 2, 1, 2, 1, 2, 2, 2, 1, 2, 2, 1, 3, 3, 2, 2, 1, 4, 2, 4, 2, 1, 2, 2, 2, 2, 2, 2, 2, 2, 3, 1, 1, 3, 1, 1, 2, 2, 3, 1, 3, 1, 2, 2, 2, 3, 1, 3, 2, 2, 2, 2, 2, 2, 2, 2, 4, 2, 2, 7, 2, 2, 2, 2, 2, 1, 3, 2, 1, 1, 2, 2, 1, 2, 1, 2, 3, 2, 3, 11, 1, 2, 1, 3, 2, 1, 2, 2, 1, 2, 1, 2, 3, 2, 1, 1, 3, 1, 1, 2, 2, 2, 3, 2, 2, 2, 2, 2, 1, 1, 2, 7, 2, 2, 2, 2, 3, 1, 2, 2, 2, 2, 2, 23, 3, 1, 1, 2, 1, 2, 2, 2, 3, 2, 1, 9, 2, 4, 2, 2, 2, 1, 3, 2, 3, 2, 3, 1, 1, 1, 3, 2, 3, 3, 2, 2, 3, 1, 1, 2, 23, 3, 1, 1, 2, 1, 2, 1, 2, 2, 2, 2, 2, 2, 1, 2, 2, 5, 1, 2, 2, 1, 4, 2, 2, 1, 2, 3, 1, 6, 1, 1, 2, 2, 2, 1, 2, 3, 2, 2, 2, 2, 1, 3, 2, 1, 1, 2, 1, 1, 1, 3, 2, 2, 1, 2, 1, 4, 2, 2, 3, 4, 4, 2, 5, 2, 5, 2, 3, 2, 2, 2, 2, 2, 2, 2, 2, 1, 2, 5, 2, 2, 2, 4, 2, 2, 2, 2, 2, 2, 2, 2, 2, 2, 2, 5, 2, 1, 9, 2, 1, 2, 2, 2, 2, 2, 3, 1, 1, 2, 2, 3, 3, 1, 2, 2, 2, 2, 2, 2, 2, 2, 1, 2, 1, 1, 2, 3, 2, 2, 2, 2, 2, 1, 2, 6, 2, 4, 2, 1, 2, 2, 2, 8, 2, 2, 2, 2, 2, 2, 1, 2, 2, 2, 2, 2, 1, 1, 10, 1, 2, 2, 6, 2, 2, 2, 2, 2, 2, 2, 2, 1, 2, 2, 2, 1, 2, 5, 2, 2, 2, 2, 1, 1, 2, 1, 3, 2, 2, 2, 1, 1, 2, 2, 1, 2, 2, 2, 2, 2, 2, 3, 1, 2, 1, 2, 4, 2, 2, 1, 1, 2, 2, 1, 5, 1, 3, 1, 1, 1, 3, 2, 1, 2, 2, 1, 2, 1, 2, 1, 2, 1, 1, 4, 2, 5, 3, 1, 2, 1, 2, 2, 2, 2, 1, 2, 2, 2, 2, 1, 1, 2, 2, 2, 1, 3, 2, 3, 2, 3, 2, 2, 2, 1, 2, 1, 2, 2, 1, 2, 3, 1, 1, 1, 1, 2, 3, 2, 1, 2, 1, 2, 3, 2, 1, 1, 2, 2, 1, 2, 2, 1, 2, 2, 2, 2, 17, 2, 2, 2, 2, 3, 1, 2, 2, 1, 2, 1, 2, 2, 2, 1, 2, 3, 1, 2, 1, 2, 2, 2, 1, 3, 3, 2, 3, 2, 4, 2, 2, 2, 2, 2, 2, 2, 3, 1, 2, 3, 2, 2, 3, 3, 2, 1, 2, 1, 1, 2, 1, 2, 1, 2, 2, 2, 1, 2, 2, 2, 4, 7, 2, 2, 2, 3, 2, 3, 2, 2, 3, 2, 1, 4, 2, 2, 2, 2, 2, 1, 2, 1, 4, 2, 2, 3, 3, 3, 2, 2, 5, 4, 2, 3, 1, 1, 2, 1, 1, 2, 17, 1, 3, 2, 2, 1, 1, 2, 4, 1, 1, 2, 2, 4, 3, 3, 3, 1, 2, 2, 2, 3, 1, 1, 2, 2, 2, 1, 1, 1, 3, 2, 3, 1, 3, 1, 1, 1, 1, 2, 3, 5, 2, 1, 2, 3, 3, 2, 2, 2, 1, 1, 1, 2, 4, 3, 2, 2, 1, 3, 2, 2, 2, 2, 2, 3, 7, 1, 1, 1, 3, 2, 2, 1, 2, 2, 2, 2, 3, 3, 6, 2, 1, 1, 1, 2, 2, 2, 2, 2, 3, 2, 3, 1, 1, 1, 1, 1, 1, 2, 2, 1, 3, 2, 4, 2, 2, 5, 2, 2, 1, 3, 2, 2, 2, 2, 1, 2, 1, 2, 2, 1, 1, 3, 3, 2, 2, 3, 2, 2, 2, 2, 4, 3, 2, 2, 3, 2, 1, 2, 6, 2, 1, 1, 1, 1, 2, 1, 1, 1, 1, 1, 2, 1, 1, 2, 4, 1, 2, 2, 2, 2, 2, 2, 2, 1, 10, 2, 2, 1, 1, 1, 2, 3, 5, 2, 2, 2, 1, 1, 2, 1, 2, 5, 3, 3, 2, 5, 1, 2, 1, 2, 1, 3, 3, 1, 1, 2, 2, 2, 2, 2, 2, 2, 2, 1, 1, 1, 2, 1, 2, 1, 2, 1, 1, 2, 2, 7, 2, 2, 2, 2, 1, 3, 4, 2, 1, 1, 1, 3, 2, 3, 2, 2, 3, 2, 3, 1, 1, 2, 1, 2, 2, 2, 2, 1, 1, 2, 1, 3, 2, 2, 1, 2, 2, 3, 2, 2, 2, 2, 2, 1, 2, 1, 1, 3, 1, 2, 5, 1, 2, 2, 5, 2, 2, 2, 2, 1, 2, 2, 5, 2, 2, 2, 2, 3, 2, 1, 2, 2, 2, 2, 1, 2, 3, 1, 1, 3, 3, 2, 3, 3, 2, 2, 3, 2, 2, 2, 2, 1, 2, 3, 2, 2, 3, 2, 2, 1, 2, 1, 3, 1, 2, 2, 1, 3, 5, 2, 3, 1, 1, 6, 6, 2, 9, 4, 4, 2, 83, 6, 2, 3, 12, 3, 16, 2, 4, 4, 2, 80, 155, 1, 2, 2, 2, 4, 3, 6, 1, 8, 2, 72, 29, 54, 22, 2, 3, 10, 6, 1, 3, 2, 3, 2, 2, 2, 2, 3, 1, 8, 1, 10, 3, 2, 2, 3, 3, 3, 5, 2, 2, 3, 3, 12, 1, 2, 4, 3, 2, 2, 2, 2, 2, 2, 1, 1, 4, 16, 8, 2, 2, 2, 4, 3, 2, 3, 2, 1, 3, 2, 1, 1, 3, 2, 1, 3, 2, 2, 8, 3, 7, 25, 4, 2, 2, 2, 5, 2, 2, 5, 5, 2, 2, 2, 3, 2, 1, 5, 2, 1, 2, 2, 2, 1, 2, 1, 2, 2, 4, 2, 7, 4, 2, 2, 2, 16, 2, 2, 2, 2, 3, 2, 1, 2, 2, 3, 2, 3, 2, 2, 3, 2, 5, 1, 4, 1, 3, 3, 2, 5, 2, 2, 5, 1, 3, 3, 8, 1, 7, 2, 2, 2, 3, 4, 11, 2, 10, 2, 2, 3, 6, 6, 1, 2, 2, 2, 2, 2, 2, 2, 1, 1, 2, 2, 6, 2, 2, 18, 5, 2, 4, 2, 6, 2, 2, 1, 1, 11, 1, 3, 1, 1, 10, 2, 2, 3, 2, 4, 2, 2, 5, 2, 1, 2, 6, 2, 2, 2, 2, 4, 4, 4, 2, 2, 3, 2, 3, 2, 2, 3, 1, 6, 2, 3, 3, 1, 19, 8, 20, 2, 26, 6, 6, 1, 2, 2, 2, 2, 18, 3, 2, 2, 2, 2, 2, 2, 1, 2, 3, 5, 3, 4, 3, 2, 2, 2, 3, 3, 1, 1, 1, 2, 2, 2, 2, 2, 12, 2, 2, 1, 2, 3, 3, 4, 1, 11, 1, 3, 2, 3, 2, 2, 57, 2, 3, 1, 2, 2, 2, 1, 2, 2, 1, 2, 2, 2, 6, 1, 2, 2, 6, 4, 1, 2, 4, 4, 2, 4, 2, 2, 2, 1, 3, 2, 1, 2, 2, 5, 3, 7, 5, 1, 1, 5, 3, 1, 5, 2, 11, 1, 2, 2, 9, 2, 2, 3, 2, 2, 2, 3, 4, 3, 2, 1, 2, 1, 5, 5, 1, 12, 7, 3, 2, 7, 2, 3, 3, 2, 3, 2, 2, 1, 4, 2, 1, 18, 1, 17, 4, 2, 2, 2, 3, 1, 1, 2, 4, 1, 2, 2, 3, 1, 2, 3, 2, 4, 2, 1, 4, 13, 1, 3, 11, 6, 1, 133, 13, 64, 47, 17, 23, 3, 1, 8, 9, 2, 6, 4, 2, 2, 1, 2, 1, 3, 3, 4, 7, 4, 6, 6, 10, 2, 17, 5, 3, 3, 6, 5, 17, 9, 12, 12, 4, 1, 8, 1, 11, 12, 4, 5, 2, 1, 1, 13, 3, 3, 2, 3, 4, 3, 4, 3, 14, 6, 3, 6, 8, 11, 1, 6, 12, 1, 2, 1, 8, 2, 2, 2, 1, 2, 5, 8, 1, 4, 3, 2, 9, 4, 3, 1, 4, 6, 1, 11, 2, 2, 3, 4, 2, 3, 2, 2, 1, 3, 3, 5, 2, 2, 3, 3, 3, 4, 2, 2, 3, 1, 2, 2, 4, 2, 5, 3, 2, 2, 3, 2, 4, 1, 2, 2, 1, 3, 6, 3, 2, 2, 2, 5, 3, 1, 2, 3, 2, 3, 4, 3, 2, 3, 2, 4, 1, 1, 2, 1, 1, 1, 2, 1, 1, 2, 2, 2, 1, 3, 1, 1, 3, 3, 6, 1, 3, 1, 2, 2, 2, 2, 3, 3, 3, 2, 5, 1, 1, 1, 1, 2, 2, 1, 1, 2, 3, 3, 1, 3, 1, 1, 2, 2, 2, 2, 1, 2, 1, 2, 2, 1, 1, 2, 1, 1, 1, 2, 2, 2, 1, 2, 1, 1, 1, 1, 2, 1, 1, 1, 1, 1, 1, 2, 1, 1, 1, 1, 2, 2, 13, 3, 2, 2, 2, 2, 1, 2, 2, 3, 2, 3, 1, 2, 2, 2, 2, 5, 1, 3, 2, 2, 6, 2, 2, 2, 2, 2, 2, 2, 2, 3, 2, 2, 2, 2, 2, 1, 1, 2, 1, 2, 2, 2, 2, 2, 3, 2, 1, 1, 1, 1, 1, 2, 1, 2, 2, 2, 1, 1, 2, 3, 2, 23, 2, 2, 2, 2, 2, 2, 2, 1, 1, 2, 2, 3, 2, 2, 2, 1, 1, 1, 1, 21, 1, 6, 6, 24, 1, 5, 4, 2, 2, 2, 1, 1, 8, 2, 17, 2, 2, 2, 3, 3, 2, 2, 1, 3, 2, 2, 2, 1, 2, 2, 1, 2, 1, 1, 1, 2, 1, 1, 1, 3, 2, 2, 1, 1, 1, 1, 1, 2, 1, 2, 2, 2, 2, 3, 4, 2, 4, 7, 2, 3, 2, 3, 3, 2, 2, 2, 2, 2, 2, 3, 1, 2, 1, 4, 1, 2, 2, 2, 4, 3, 2, 2, 1, 2, 2, 3, 2, 3, 2, 3, 2, 1, 1, 2, 1, 1, 3, 42, 4, 2, 2, 2, 3, 2, 3, 3, 2, 2, 2, 2, 2, 2, 2, 3, 2, 1, 2, 1, 1, 2, 2, 2, 2, 2, 1, 2, 2, 2, 1, 2, 2, 4, 2, 1, 3, 2, 2, 2, 1, 2, 2, 2, 2, 2, 2, 2, 2, 2, 2, 2, 2, 2, 3, 3, 2, 2, 2, 2, 1, 2, 2, 1, 2, 2, 2, 3, 2, 2, 1, 2, 2, 2, 3, 2, 1, 1, 2, 1, 1, 2, 2, 2, 2, 1, 1, 2, 2, 2, 2, 2, 2, 2, 3, 2, 2, 2, 2, 2, 2, 2, 4, 2, 1, 1, 2, 2, 3, 1, 1, 1, 2, 1, 2, 2, 2, 2, 2, 2, 1, 1, 2, 1, 1, 2, 2, 1, 1, 2, 1, 2, 1, 2, 2, 1, 1, 1, 1, 2, 2, 1, 3, 1, 2, 1, 2, 1, 1, 1, 2, 2, 5, 96, 1, 1, 3, 2, 76, 1, 1, 2, 2, 2, 2, 1, 2, 2, 1, 1, 2, 1, 2, 1, 1, 1, 1, 2, 2, 1, 2, 1, 3, 2, 2, 1, 1, 1, 2, 2, 2, 2, 1, 3, 2, 2, 3, 1, 1, 2, 2, 1, 3, 1, 2, 2, 1, 2, 2, 2, 2, 2, 2, 2, 3, 1, 1, 2, 1, 2, 2, 2, 2, 4, 12, 59, 58, 2, 2, 5, 2, 1, 1, 1, 2, 2, 1, 1, 108, 2, 5, 2, 2, 4, 2, 3, 4, 2, 2, 2, 1, 2, 2, 2, 1, 12, 3, 5, 2, 14, 1, 2, 8, 37, 7, 5, 7, 10, 2, 7, 6, 6, 4, 2, 5, 7, 2, 1, 2, 1, 1, 2, 2, 3, 2, 63, 2, 3, 3, 2, 3, 3, 4, 4, 3, 2, 3, 4, 2, 1, 2, 3, 1, 2, 2, 2, 2, 1, 3, 1, 2, 2, 1, 2, 1, 2, 2, 1, 2, 3, 1, 1, 1, 2, 2, 2, 1, 2, 3, 2, 1, 2, 3, 1, 1, 2, 2, 2, 1, 2, 2, 2, 1, 2, 2, 2, 1, 1, 1, 2, 2, 2, 2, 1, 1, 2, 2, 2, 1, 3, 2, 1, 2, 1, 2, 39, 6, 77, 4, 5, 36, 13, 14, 5, 4, 5, 14, 32, 16, 10, 3, 7, 6, 4, 7, 5, 15, 6, 18, 2, 5, 6, 4, 26, 14, 2, 51, 14, 14, 12, 37, 12, 6, 7, 3, 3, 3, 3, 3, 3, 19, 34, 7, 4, 5, 5, 3, 14, 2, 10, 10, 2, 4, 3, 3, 31, 4, 12, 4, 6, 5, 2, 2, 15, 6, 2, 6, 4, 4, 4, 2, 4, 4, 3, 1, 4, 3, 2, 3, 4, 3, 3, 2, 11, 2, 12, 2, 3, 2, 2, 2, 5, 2, 2, 2, 3, 2, 2, 2, 2, 2, 2, 3, 2, 3, 7, 2, 2, 2, 2, 4, 3, 2, 6, 3, 2, 2, 2, 2, 2, 9, 2, 7, 2, 2, 2, 2, 2, 2, 2, 1, 2, 2, 2, 5, 4, 2, 1, 1, 1, 3, 8, 6, 9, 4, 3, 5, 3, 2, 5, 2, 15, 3, 19, 2, 4, 8, 2, 2, 4, 5, 2, 3, 2, 3, 5, 7, 2, 3, 3, 7, 2, 4, 3, 4, 2, 4, 3, 2, 4, 3, 6, 2, 6, 1, 2, 1, 1, 4, 3, 1, 4, 2, 3, 2, 1, 2, 3, 2, 4, 2, 2, 2, 2, 1, 2, 1, 1, 17, 6, 5, 13, 4, 4, 2, 22, 3, 5, 2, 8, 3, 7, 4, 11, 4, 1, 1, 6, 2, 5, 6, 4, 2, 6, 3, 6, 5, 6, 3, 5, 3, 2, 8, 2, 3, 2, 3, 1, 1, 13, 2, 9, 4, 2, 50, 3, 1, 2, 1, 2, 2, 2, 1, 1, 1, 3, 2, 4, 5, 2, 1, 2, 2, 1, 2, 2, 1, 1, 1, 25, 3, 2, 3, 6, 4, 5, 2, 1, 8, 3, 2, 2, 1, 2, 2, 4, 9, 3, 3, 3, 6, 2, 5, 3, 4, 2, 4, 1, 2, 1, 6, 5, 2, 1, 2, 2, 7, 2, 2, 2, 7, 4, 2, 2, 2, 2, 3, 2, 4, 1, 2, 2, 4, 2, 3, 3, 1, 2, 2, 3, 2, 5, 2, 2, 6, 1, 2, 1, 2, 2, 1, 2, 3, 2, 1, 3, 1, 1, 2, 2, 4, 2, 4, 8, 2, 4, 4, 1, 2, 3, 3, 2, 1, 2, 4, 5, 2, 2, 6, 2, 1, 2, 4, 2, 1, 3, 6, 3, 3, 4, 4, 2, 3, 3, 6, 2, 2, 2, 3, 1, 3, 1, 3, 3, 1, 2, 1, 2, 2, 1, 3, 1, 2, 2, 2, 1, 3, 2, 2, 2, 2, 2, 1, 3, 3, 4, 3, 1, 1, 1, 2, 2, 1, 2, 2, 2, 2, 2, 2, 1, 2, 3, 2, 2, 2, 2, 1, 2, 2, 2, 1, 2, 2, 1, 2, 1, 1, 2, 2, 2, 2, 1, 3, 4, 2, 3, 1, 1, 2, 1, 1, 1, 2, 2, 1, 1, 1, 1, 3, 1, 1, 1, 1, 2, 1, 1, 2, 2, 2, 1, 1, 1, 1, 2, 1, 122, 4, 4, 3, 9, 6, 5, 3, 9, 10, 5, 6, 6, 16, 4, 18, 9, 4, 1, 1, 2, 5, 3, 3, 7, 5, 2, 4, 2, 4, 1, 2, 1, 5, 2, 2, 12, 2, 2, 2, 2, 2, 4, 4, 4, 2, 12, 3, 2, 3, 2, 8, 2, 2, 3, 2, 3, 2, 2, 3, 4, 5, 3, 2, 1, 3, 5, 2, 2, 7, 3, 2, 1, 4, 3, 1, 4, 2, 2, 4, 2, 2, 3, 4, 1, 2, 1, 1, 1, 1, 2, 4, 9, 2, 2, 2, 1, 1, 3, 3, 2, 2, 1, 3, 1, 2, 2, 2, 2, 1, 2, 1, 2, 2, 2, 2, 3, 1, 3, 3, 3, 2, 2, 3, 1, 2, 1, 2, 2, 2, 4, 2, 1, 1, 7, 1, 2, 2, 4, 2, 2, 3, 2, 2, 2, 2, 2, 3, 3, 1, 2, 5, 4, 2, 2, 1, 2, 3, 1, 1, 3, 1, 3, 2, 2, 2, 2, 2, 3, 2, 6, 2, 3, 2, 2, 2, 2, 1, 2, 2, 3, 1, 5, 2, 2, 9, 2, 4, 3, 2, 2, 1, 2, 1, 7, 2, 3, 1, 2, 2, 2, 2, 4, 1, 2, 1, 1, 2, 2, 3, 2, 1, 3, 1, 1, 3, 2, 5, 5, 2, 2, 2, 2, 1, 1, 2, 2, 2, 1, 2, 2, 2, 2, 5, 2, 2, 2, 2, 3, 2, 2, 2, 2, 2, 2, 2, 2, 2, 2, 3, 2, 2, 2, 2, 2, 2, 3, 1, 3, 2, 2, 1, 2, 2, 3, 3, 1, 2, 2, 1, 6, 1, 1, 2, 2, 2, 2, 2, 2, 2, 1, 1, 2, 2, 2, 2, 2, 1, 2, 1, 3, 3, 3, 2, 2, 2, 2, 2, 2, 2, 2, 2, 2, 1, 2, 2, 2, 1, 1, 1, 2, 2, 2, 1, 2, 1, 1, 2, 1, 2, 1, 1, 2, 8, 1, 1, 1, 2, 2, 2, 1, 2, 1, 1, 2, 2, 2, 2, 2, 1, 1, 2, 2, 2, 1, 1, 1, 1, 1, 1, 1, 1, 1, 1, 1, 2, 2, 2, 1, 1, 1, 2, 1, 1, 1, 1, 1, 1, 2, 2, 1, 1, 2, 2, 2, 6, 1, 1, 2, 4, 2, 1, 3, 30, 2, 11, 3, 3, 2, 2, 2, 1, 1, 2, 2, 1, 2, 2, 2, 1, 2, 3, 2, 2, 2, 1, 2, 1, 1, 2, 1, 2, 2, 1, 1, 2, 1, 2, 2, 1, 2, 2, 1, 2, 1, 2, 2, 2, 2, 2, 2, 6, 2, 2, 2, 1, 1, 1, 1, 3, 2, 2, 3, 2, 1, 2, 1, 2, 2, 2, 1, 2, 2, 2, 3, 5, 2, 4, 1, 2, 2, 1, 2, 2, 1, 3, 2, 2, 2, 7, 2, 1, 1, 2, 2, 3, 2, 2, 2, 3, 2, 2, 6, 2, 1, 2, 2, 3, 2, 4, 1, 2, 2, 1, 2, 2, 1, 3, 1, 1, 2, 1, 1, 2, 2, 2, 2, 1, 1, 1, 2, 1, 2, 2, 2, 2, 3, 1, 2, 2, 1, 1, 2, 4, 1, 1, 2, 7, 3, 1, 11, 2, 1, 2, 2, 2, 1, 1, 2, 1, 1, 2, 1, 2, 4, 2, 1, 2, 2, 1, 1, 1, 2, 1, 2, 1, 1, 1, 1, 52, 2, 3, 1, 2, 6, 5, 2, 1, 1, 1, 10, 1, 2, 2, 2, 1, 2, 3, 1, 1, 1, 2, 2, 1, 1, 2, 1, 2, 2, 1, 1, 2, 2, 1, 1, 2, 3, 1, 3, 1, 3, 2, 4, 2, 2, 1, 1, 2, 1, 2, 1, 2, 2, 3, 1, 10, 1, 1, 1, 1, 1, 1, 1, 1, 1, 3, 3, 1, 2, 1, 2, 1, 2, 23, 7, 67, 1, 12, 1, 21, 2, 2, 12, 5, 20, 2, 17, 2, 1, 2, 4, 2, 5, 3, 2, 19, 2, 2, 4, 17, 2, 3, 1, 2, 5, 3, 3, 1, 16, 2, 2, 2, 1, 3, 2, 1, 4, 1, 1, 4, 1, 10, 1, 2, 5, 3, 9, 20, 3, 6, 1, 1, 2, 2, 3, 1, 20, 9, 4, 2, 1, 1, 1, 2, 1, 1, 2, 3, 1, 1, 3, 1, 7, 2, 1, 6, 2, 10, 3, 1, 1, 2, 2, 2, 1, 3, 2, 2, 4, 3, 4, 2, 9, 1, 3, 2, 2, 3, 6, 1, 2, 4, 8, 2, 2, 2, 5, 2, 3, 3, 2, 2, 5, 1, 2, 2, 1, 4, 1, 1, 2, 5, 2, 12, 4, 1, 2, 2, 3, 2, 2, 1, 3, 3, 4, 2, 2, 2, 3, 1, 2, 1, 4, 2, 1, 2, 2, 3, 1, 5, 1, 2, 3, 1, 1, 1, 1, 2, 2, 2, 2, 1, 1, 3, 2, 1, 8, 1, 1, 2, 2, 2, 1, 3, 3, 2, 2, 2, 2, 1, 4, 2, 1, 1, 2, 1, 6, 2, 2, 2, 2, 2, 2, 1, 2, 1, 2, 1, 2, 2, 2, 2, 1, 2, 3, 2, 3, 3, 3, 2, 1, 6, 2, 1, 2, 2, 4, 2, 2, 2, 2, 2, 2, 2, 2, 2, 3, 2, 1, 4, 6, 2, 2, 2, 2, 1, 1, 1, 3, 1, 2, 2, 2, 2, 2, 2, 1, 2, 3, 4, 1, 2, 2, 3, 2, 2, 1, 1, 2, 2, 2, 1, 1, 2, 2, 2, 2, 2, 2, 2, 2, 2, 2, 4, 3, 2, 2, 2, 3, 2, 2, 2, 2, 2, 2, 2, 2, 2, 3, 2, 2, 2, 2, 2, 2, 2, 2, 2, 2, 2, 2, 2, 2, 2, 2, 2, 2, 2, 3, 2, 2, 2, 2, 2, 2, 2, 2, 2, 2, 2, 2, 2, 2, 1, 2, 2, 2, 2, 5, 1, 3, 1, 1, 1, 2, 2, 2, 2, 1, 2, 2, 1, 2, 2, 2, 3, 5, 2, 2, 2, 1, 1, 1, 2, 1, 1, 2, 3, 2, 1, 2, 1, 2, 1, 2, 2, 1, 2, 2, 2, 2, 2, 3, 2, 3, 1, 3, 1, 1, 1, 1, 1, 2, 2, 1, 2, 3, 3, 2, 2, 2, 1, 1, 2, 2, 2, 2, 2, 3, 1, 1, 1, 1, 1, 3, 2, 3, 2, 3, 1, 2, 2, 1, 1, 1, 2, 2, 2, 3, 1, 1, 2, 1, 2, 1, 2, 2, 1, 2, 1, 2, 1, 2, 2, 3, 1, 1, 2, 2, 2, 2, 2, 2, 2, 2, 1, 2, 2, 2, 2, 2, 2, 1, 2, 1, 2, 2, 2, 1, 1, 2, 1, 3, 3, 1, 2, 1, 2, 2, 2, 2, 1, 1, 1, 1, 2, 1, 1, 1, 2, 1, 2, 1, 1, 1, 2, 1, 1, 2, 1, 1, 2, 1, 1, 2, 2, 1, 1, 1, 1, 1, 1, 2, 2, 1, 1, 1, 2, 2, 2, 1, 1, 1, 2, 2, 4, 2, 1, 2, 2, 1, 2, 1, 2, 1, 1, 2, 2, 1, 1, 2, 1, 2, 1, 1, 1, 2, 2, 1, 1, 2, 2, 1, 1, 1, 1, 2, 2, 2, 2, 1, 2, 2, 2, 2, 2, 1, 1, 2, 1, 1, 1, 2, 1, 1, 1, 2, 1, 1, 1, 3, 1, 1, 2, 1, 2, 2, 2, 2, 2, 2, 2, 2, 2, 1, 1, 1, 1, 1, 2, 1, 1, 2, 2, 2, 1, 2, 2, 1, 1, 1, 1, 2, 1, 1, 1, 1, 1, 1, 2, 2, 1, 2, 1, 2, 1, 2, 1, 2, 1, 1, 1, 2, 1, 2, 1, 1, 1, 1, 2, 1, 1, 1, 1, 1, 1, 1, 2, 1, 2, 1, 1, 2, 5, 2, 2, 10, 40, 4, 2, 6, 2, 2, 16, 18, 5, 2, 2, 4, 10, 7, 3, 8, 2, 15, 5, 5, 6, 3, 18, 2, 2, 2, 2, 3, 2, 8, 3, 6, 3, 1, 3, 4, 2, 3, 4, 4, 1, 4, 1, 1, 2, 2, 2, 5, 3, 3, 14, 8, 11, 3, 1, 2, 3, 6, 1, 4, 3, 2, 4, 1, 1, 3, 5, 3, 2, 3, 2, 2, 10, 2, 2, 1, 2, 3, 5, 2, 3, 1, 8, 3, 1, 4, 2, 2, 4, 1, 2, 2, 5, 2, 3, 2, 4, 3, 2, 2, 2, 2, 3, 2, 10, 5, 9, 1, 3, 3, 13, 44, 10, 3, 2, 3, 2, 15, 1, 2, 5, 1, 2, 5, 2, 2, 1, 4, 5, 2, 2, 2, 2, 2, 1, 2, 2, 2, 2, 7, 2, 3, 1, 1, 2, 2, 7, 3, 2, 22, 2, 2, 2, 2, 2, 2, 2, 2, 2, 2, 2, 2, 2, 2, 2, 4, 2, 2, 2, 2, 2, 33, 2, 2, 2, 2, 2, 2, 2, 2, 2, 2, 2, 2, 3, 2, 4, 2, 2, 2, 2, 2, 2, 2, 2, 2, 3, 2, 3, 3, 2, 3, 2, 2, 4, 4, 2, 2, 2, 2, 2, 2, 2, 3, 3, 2, 2, 3, 2, 2, 2, 2, 2, 2, 2, 2, 2, 2, 2, 2, 3, 2, 3, 3, 2, 2, 4, 2, 2, 2, 2, 2, 2, 2, 2, 2, 3, 2, 3, 4, 2, 2, 2, 2, 2, 2, 3, 3, 4, 2, 2, 2, 4, 2, 2, 2, 3, 2, 2, 3, 3, 2, 2, 2, 2, 2, 3, 2, 2, 3, 3, 2, 2, 2, 4, 2, 2, 2, 2, 2, 3, 2, 2, 2, 3, 2, 2, 2, 3, 3, 2, 5, 2, 2, 2, 2, 2, 2, 2, 2, 2, 2, 2, 2, 2, 2, 2, 2, 2, 2, 2, 3, 2, 2, 2, 2, 2, 2, 2, 1, 1, 2, 1, 2, 1, 2, 2, 2, 2, 2, 1, 1, 2, 1, 2, 1, 2, 2, 2, 1, 1, 1, 1, 2, 2, 1, 1, 3, 1, 1, 2, 1, 1, 1, 1, 1, 1, 1, 1, 2, 1, 2, 2, 1, 1, 1, 2, 1, 1, 1, 1, 1, 1, 1, 1, 1, 2, 1, 2, 2, 1, 1, 2, 1, 2, 1, 1, 1, 2, 1, 1, 1, 2, 11, 35, 2, 7, 2, 2, 2, 2, 2, 35, 2, 2, 1, 2, 2, 2, 2, 2, 2, 2, 7, 2, 2, 2, 2, 3, 2, 2, 2, 1, 2, 3, 3, 2, 1, 2, 1, 1, 2, 2, 2, 2, 2, 2, 2, 1, 1, 1, 2, 1, 2, 2, 2, 2, 2, 2, 4, 2, 2, 2, 2, 1, 2, 1, 2, 1, 2, 2, 2, 2, 2, 2, 1, 2, 2, 2, 3, 2, 2, 2, 2, 1, 2, 1, 2, 2, 2, 3, 2, 1, 2, 3, 1, 2, 2, 2, 2, 2, 1, 2, 1, 2, 5, 1, 2, 2, 2, 1, 2, 2, 1, 1, 2, 2, 2, 4, 2, 4, 1, 1, 2, 2, 1, 45, 26, 8, 2, 3, 11, 2, 2, 16, 5, 1, 22, 5, 4, 2, 1, 1, 4, 2, 1, 2, 1, 1, 2, 2, 2, 1, 1, 2, 1, 2, 4, 2, 1, 1, 2, 1, 1, 1, 2, 1, 1, 1, 1, 2, 3, 2, 1, 1, 2, 1, 2, 2, 2, 2, 1, 1, 1, 1, 2, 4, 2, 1, 1, 2, 1, 2, 1, 2, 1, 2, 2, 2, 2, 2, 1, 2, 1, 2, 2, 1, 1, 2, 2, 1, 1, 2, 1, 2, 2, 1, 1, 1, 2, 1, 1, 2, 1, 1, 1, 1, 1, 1, 1, 1, 2, 2, 1, 1, 1, 1, 1, 1, 1, 2, 1, 2, 1, 1, 1, 1, 1, 1, 1, 1, 2, 2, 1, 2, 2, 2, 2, 2, 3, 4, 4, 2, 2, 3, 32, 2, 2, 2, 2, 2, 1, 2, 2, 2, 2, 2, 1, 2, 2, 2, 2, 1, 2, 2, 2, 1, 2, 2, 2, 2, 2, 1, 2, 1, 2, 2, 2, 2, 2, 1, 2, 3, 1, 2, 2, 1, 4, 1, 1, 1, 3, 1, 2, 2, 2, 1, 2, 2, 1, 1, 2, 4, 2, 2, 1, 6, 1, 2, 3, 2, 3, 2, 2, 4, 1, 2, 2, 2, 2, 2, 1, 1, 2, 2, 1, 1, 1, 1, 1, 1, 1, 1, 2, 1, 2, 4, 2, 2, 2, 1, 2, 2, 1, 4, 2, 4, 11, 1, 3, 2, 2, 6, 2, 2, 1, 1, 4, 1, 2, 2, 2, 3, 2, 4, 2, 2, 2, 3, 1, 2, 2, 1, 2, 2, 1, 2, 4, 2, 2, 1, 2, 2, 2, 2, 1, 1, 1, 3, 3, 1, 1, 2, 1, 1, 1, 1, 2, 2, 1, 2, 1, 2, 1, 1, 1, 2, 22, 3, 4, 3, 2, 2, 2, 4, 2, 2, 6, 2, 10, 2, 2, 7, 2, 2, 2, 4, 3, 2, 2, 2, 2, 2, 2, 2, 2, 2, 2, 2, 2, 3, 11, 8, 2, 2, 1, 2, 1, 1, 2, 4, 2, 2, 3, 2, 2, 1, 2, 2, 2, 2, 3, 5, 1, 1, 1, 2, 2, 2, 2, 2, 3, 2, 4, 2, 1, 1, 1, 2, 2, 2, 3, 2, 3, 2, 2, 2, 1, 2, 2, 2, 2, 2, 2, 1, 1, 2, 1, 2, 1, 1, 1, 2, 1, 1, 1, 2, 2, 2, 2, 1, 1, 1, 1, 1, 2, 2, 2, 2, 1, 62, 15, 18, 3, 3, 6, 11, 5, 12, 1, 6, 9, 10, 5, 8, 3, 3, 6, 1, 4, 4, 5, 3, 13, 2, 6, 3, 2, 3, 1, 1, 7, 1, 6, 3, 4, 2, 2, 2, 5, 2, 1, 1, 3, 2, 1, 1, 1, 1, 1, 1, 1, 3, 1, 7, 1, 1, 1, 3, 1, 1, 10, 1, 1, 1, 1, 1, 1, 1, 1, 2, 6, 5, 15, 2, 3, 2, 4, 2, 6, 2, 2, 11, 2, 21, 2, 2, 3, 3, 6, 2, 1, 3, 1, 3, 2, 2, 2, 4, 2, 2, 1, 2, 12, 1, 2, 2, 10, 2, 1, 2, 10, 2, 2, 3, 2, 6, 2, 2, 10, 3, 1, 3, 2, 2, 2, 5, 4, 1, 2, 1, 1, 1, 3, 3, 2, 2, 4, 1, 2, 1, 2, 1, 3, 1, 1, 1, 2, 1, 1, 1, 2, 1, 2, 2, 4, 1, 3, 2, 1, 1, 1, 1, 2, 1, 32, 17, 3, 3, 1, 2, 1, 2, 3, 2, 2, 2, 1, 2, 2, 4, 1, 3, 1, 2, 2, 2, 1, 2, 1, 3, 2, 1, 2, 2, 1, 2, 1, 2, 2, 1, 2, 1, 2, 2, 1, 2, 1, 1, 2, 41, 3, 2, 1, 3, 1, 2, 2, 1, 3, 1, 5, 1, 1, 1, 2, 11, 3, 2, 2, 1, 2, 3, 2, 2, 1, 1, 3, 2, 1, 2, 1, 2, 1, 1, 2, 2, 6, 2, 1, 1, 2, 2, 2, 2, 1, 5, 2, 2, 2, 2, 2, 2, 1, 1, 1, 1, 2, 2, 2, 1, 3, 2, 3, 2, 2, 2, 3, 1, 3, 1, 2, 3, 2, 2, 2, 2, 2, 1, 2, 2, 2, 1, 2, 2, 2, 2, 2, 1, 2, 2, 2, 3, 1, 3, 3, 2, 2, 4, 1, 1, 1, 1, 2, 5, 2, 2, 2, 2, 1, 2, 2, 2, 2, 1, 3, 2, 2, 1, 3, 6, 1, 3, 1, 1, 2, 2, 2, 3, 1, 3, 2, 2, 2, 2, 2, 2, 2, 2, 2, 2, 2, 2, 2, 2, 1, 2, 1, 2, 1, 2, 1, 1, 1, 1, 2, 2, 9, 2, 2, 2, 1, 2, 2, 2, 1, 2, 2, 2, 8, 2, 1, 2, 2, 1, 2, 1, 2, 2, 1, 2, 2, 1, 2, 1, 2, 1, 1, 2, 2, 1, 1, 2, 1, 1, 2, 2, 2, 1, 2, 2, 1, 1, 2, 1, 1, 1, 3, 1, 2, 1, 2, 2, 2, 1, 1, 1, 1, 1, 1, 1, 2, 3, 2, 1, 1, 1, 2, 1, 2, 1, 2, 1, 2, 1, 1, 1, 2, 1, 2, 3, 1, 2, 1, 1, 2, 2, 2, 1, 1, 1, 2, 1, 1, 2, 1, 1, 2, 2, 1, 2, 1, 2, 1, 1, 2, 1, 1, 2, 1, 1, 2, 1, 2, 2, 2, 1, 2, 2, 2, 1, 1, 2, 1, 1, 1, 2, 2, 1, 1, 1, 1, 1, 1, 2, 2, 2, 1, 1, 1, 1, 1, 1, 1, 2, 1, 1, 1, 3, 1, 3, 1, 1, 1, 1, 1, 1, 1, 2, 2, 2, 2, 1, 1, 1, 1, 1, 2, 3, 2, 2, 1, 1, 2, 1, 1, 1, 4, 1, 2, 2, 1, 1, 2, 1, 1, 2, 2, 2, 1, 1, 2, 1, 2, 2, 2, 1, 6, 2, 1, 1, 1, 2, 2, 1, 1, 2, 2, 1, 2, 1, 2, 1, 2, 1, 4, 1, 2, 2, 1, 2, 1, 1, 3, 2, 1, 1, 1, 2, 2, 2, 1, 3, 1, 2, 1, 3, 1, 1, 2, 1, 2, 2, 1, 1, 2, 1, 2, 1, 1, 2, 3, 2, 2, 2, 1, 2, 1, 1, 1, 1, 2, 1, 1, 2, 1, 3, 4, 2, 2, 3, 2, 2, 2, 1, 1, 1, 2, 1, 3, 2, 2, 1, 1, 2, 1, 1, 1, 2, 2, 3, 1, 2, 1, 2, 2, 2, 1, 1, 2, 2, 1, 1, 5, 1, 1, 1, 1, 3, 1, 2, 2, 1, 1, 2, 2, 2, 2, 1, 1, 1, 1, 1, 3, 1, 2, 2, 2, 1, 2, 2, 1, 1, 1, 1, 1, 3, 2, 2, 2, 1, 1, 1, 2, 2, 2, 1, 2, 3, 2, 1, 2, 8, 2, 9, 1, 6, 1, 2, 8, 2, 10, 2, 2, 2, 2, 2, 1, 1, 1, 1, 29, 1, 1, 6, 4, 1, 1, 1, 1, 7, 1, 1, 1, 1, 1, 6, 1, 5, 2, 2, 6, 4, 5, 2, 1, 1, 7, 1, 2, 1, 1, 1, 5, 2, 4, 2, 2, 2, 2, 1, 4, 2, 1, 2, 2, 2, 1, 1, 1, 2, 1, 1, 1, 2, 2, 2, 1, 1, 2, 1, 1, 1, 2, 1, 1, 2, 2, 2, 1, 2, 4, 1, 1, 1, 1, 2, 1, 1, 2, 2, 1, 2, 1, 2, 2, 1, 2, 2, 1, 1, 1, 2, 1, 1, 1, 1, 1, 1, 1, 2, 1, 1, 1, 2, 2, 2, 1, 2, 1, 1, 2, 2, 1, 2, 2, 1, 1, 4, 2, 1, 1, 2, 1, 2, 2, 2, 1, 1, 2, 2, 1, 3, 1, 2, 1, 2, 2, 1, 1, 1, 1, 2, 2, 1, 1, 2, 1, 1, 4, 1, 1, 1, 1, 1, 2, 4, 2, 1, 2, 1, 10, 1, 1, 1, 2, 1, 3, 1, 1, 2, 2, 1, 1, 1, 1, 2, 1, 3, 1, 1, 2, 1, 3, 1, 2, 1, 1, 1, 2, 1, 1, 3, 3, 2, 1, 2, 1, 1, 1, 1, 2, 1, 1, 2, 1, 1, 1, 2, 2, 1, 1, 1, 1, 2, 1, 1, 2, 1, 2, 1, 4, 1, 2, 2, 3, 3, 2, 1, 2, 2, 2, 2, 2, 2, 2, 10, 1, 2, 1, 1, 2, 1, 2, 4, 2, 2, 2, 1, 2, 2, 2, 2, 2, 6, 2, 1, 1, 2, 2, 1, 1, 1, 2, 1, 2, 2, 5, 2, 2, 2, 1, 1, 2, 2, 2, 2, 2, 2, 2, 1, 1, 1, 1, 2, 2, 2, 2, 1, 3, 2, 1, 2, 2, 2, 2, 1, 2, 2, 2, 1, 2, 3, 3, 2, 2, 2, 1, 2, 2, 2, 3, 2, 3, 2, 3, 2, 2, 2, 1, 1, 2, 1, 1, 2, 2, 2, 2, 2, 2, 1, 2, 1, 2, 1, 1, 3, 2, 2, 1, 1, 2, 2, 1, 2, 1, 1, 2, 1, 3, 1, 1, 1, 2, 2, 2, 1, 2, 2, 2, 2, 1, 1, 1, 3, 3, 2, 1, 1, 1, 1, 2, 1, 1, 1, 1, 1, 1, 1, 1, 2, 2, 2, 2, 2, 2, 2, 2, 2, 2, 2, 2, 2, 1, 2, 1, 2, 1, 1, 1, 1, 1, 1, 1, 2, 2, 2, 1, 2, 2, 1, 1, 1, 1, 1, 1, 1, 2, 2, 1, 2, 2, 2, 2, 2, 1, 2, 2, 1, 1, 1, 1, 2, 1, 1, 1, 1, 2, 1, 1, 1, 1, 1, 1, 2, 2, 2, 2, 2, 2, 2, 2, 1, 2, 3, 1, 1, 1, 2, 1, 2, 1, 1, 2, 1, 1, 1, 2, 2, 1, 2, 2, 1, 1, 2, 1, 1, 1, 1, 1, 1, 2, 2, 1, 2, 1, 2, 1, 1, 1, 1, 1, 2, 2, 1, 1, 1, 1, 1, 1, 1, 1, 1, 1, 1, 1, 1, 1, 2, 1, 1, 1, 1, 1, 1, 1, 1, 1, 2, 3, 3, 5, 4, 3, 2, 2, 4, 3, 1, 3, 5, 2, 2, 3, 2, 3, 4, 2, 2, 3, 1, 1, 4, 2, 2, 2, 1, 3, 2, 1, 2, 3, 1, 1, 3, 3, 2, 2, 1, 2, 3, 2, 1, 2, 3, 1, 1, 3, 1, 1, 2, 2, 3, 2, 2, 1, 2, 2, 1, 1, 2, 1, 1, 2, 2, 1, 1, 1, 5, 2, 1, 1, 1, 1, 1, 1, 4, 2, 1, 1, 2, 5, 2, 2, 2, 2, 3, 3, 4, 4, 2, 2, 2, 2, 2, 2, 2, 2, 8, 2, 2, 4, 2, 2, 1, 3, 2, 1, 2, 3, 2, 1, 2, 1, 2, 1, 1, 2, 1, 1, 2, 2, 2, 2, 2, 2, 4, 3, 2, 3, 7, 3, 2, 3, 1, 2, 2, 2, 2, 3, 3, 3, 3, 1, 3, 2, 1, 2, 1, 1, 2, 1, 2, 2, 2, 2, 1, 1, 2, 2, 1, 1, 2, 8, 1, 2, 1, 2, 1, 1, 2, 2, 2, 1, 2, 2, 2, 1, 2, 2, 2, 1, 2, 2, 1, 6, 1, 2, 2, 3, 2, 2, 2, 2, 3, 3, 2, 1, 2, 2, 1, 1, 1, 2, 2, 7, 2, 2, 2, 1, 2, 2, 1, 1, 2, 2, 2, 1, 2, 1, 2, 3, 3, 1, 3, 2, 2, 1, 1, 2, 1, 1, 1, 2, 1, 2, 1, 1, 1, 1, 2, 2, 1, 1, 1, 1, 2, 1, 1, 1, 1, 1, 1, 2, 2, 9, 2, 2, 4, 3, 1, 5, 2, 2, 1, 2, 1, 3, 2, 3, 2, 1, 1, 2, 2, 2, 2, 2, 1, 2, 2, 1, 5, 1, 1, 2, 2, 2, 2, 2, 4, 2, 2, 3, 1, 1, 1, 2, 2, 1, 2, 2, 1, 3, 1, 1, 1, 1, 1, 1, 1, 1, 2, 1, 1, 1, 1, 2, 2, 2, 3, 1, 1, 2, 1, 1, 3, 71, 7, 3, 2, 2, 2, 2, 9, 2, 2, 2, 3, 3, 2, 1, 1, 1, 2, 1, 2, 1, 3, 1, 2, 2, 84, 2, 1, 1, 1, 5, 2, 2, 2, 1, 1, 2, 2, 1, 1, 1, 1, 1, 1, 4, 1, 5, 1, 1, 1, 1, 1, 1, 1, 1, 1, 1, 1, 1, 2, 1, 1, 1, 1, 2, 1, 1, 2, 1, 2, 2, 1, 2, 2, 2, 1, 1, 5, 2, 1, 1, 1, 1, 1, 1, 1, 1, 3, 2, 1, 2, 2, 2, 1, 1, 2, 1, 1, 1, 1, 1, 2, 1, 1, 1, 24, 1, 2, 7, 3, 2, 2, 1, 1, 3, 5, 2, 2, 7, 2, 6, 2, 2, 4, 6, 1, 16, 2, 1, 2, 4, 2, 1, 3, 7, 2, 1, 3, 25, 3, 3, 2, 2, 3, 2, 1, 3, 2, 2, 2, 1, 2, 2, 2, 1, 2, 2, 2, 3, 1, 1, 2, 1, 1, 2, 2, 1, 2, 3, 2, 1, 3, 2, 1, 1, 1, 1, 1, 2, 2, 1, 1, 2, 3, 1, 3, 2, 2, 1, 1, 1, 2, 1, 1, 2, 1, 1, 6, 5, 2, 2, 1, 2, 2, 2, 3, 1, 2, 2, 2, 2, 2, 1, 17, 7, 1, 2, 2, 1, 1, 1, 2, 3, 2, 1, 1, 1, 1, 2, 5, 3, 2, 29, 18, 2, 156, 2, 3, 2, 3, 2, 1, 2, 1, 2, 1, 2, 2, 2, 2, 2, 2, 2, 2, 2, 2, 2, 2, 1, 88, 3, 2, 1, 2, 2, 5, 2, 2, 3, 2, 1, 1, 2, 2, 4, 2, 2, 2, 2, 28, 1, 99, 1, 2, 1, 3, 1, 4, 20, 2, 1, 2, 1, 1, 1, 2, 2, 1, 2, 2, 4, 3, 5, 2, 2, 4, 8, 4, 3, 6, 2, 3, 6, 4, 2, 2, 1, 1, 1, 3, 1, 1, 1, 1, 1, 1, 1, 1, 1, 1, 1, 1, 1, 1, 1, 1, 1, 1, 2, 1, 1, 1, 1, 1, 1, 1, 1, 1, 1, 1, 1, 1, 1, 1, 1, 1, 2, 1, 1, 1, 1, 1, 1, 1, 1, 1, 1, 1, 1, 1, 1, 2, 2, 1, 1, 1, 1, 1, 3, 4, 2, 2, 1, 1, 16, 4, 3, 1, 2, 1, 1, 3, 1, 1, 1, 1, 55, 2, 2, 2, 2, 2, 2, 2, 2, 2, 3, 2, 5, 2, 2, 1, 2, 2, 2, 2, 2, 2, 2, 2, 2, 2, 1, 2, 1, 2, 8, 1, 1, 1, 1, 2, 2, 3, 1, 2, 3, 1, 1, 1, 2, 2, 2, 2, 2, 2, 1, 2, 2, 2, 1, 2, 1, 3, 1, 1, 1, 1, 1, 2, 2, 1, 2, 3, 60, 3, 3, 5, 2, 4, 1, 1, 16, 2, 2, 15, 1, 3, 4, 3, 2, 1, 3, 2, 3, 2, 3, 4, 3, 3, 7, 5, 1, 2, 3, 1, 2, 1, 1, 1, 1, 1, 1, 7, 5, 8, 12, 11, 14, 10, 10, 9, 4, 6, 4, 2, 9, 3, 5, 2, 10, 3, 4, 2, 2, 2, 3, 2, 3, 1, 5, 1, 3, 1, 3, 2, 2, 1, 9, 2, 4, 3, 2, 5, 1, 5, 2, 6, 2, 4, 1, 4, 2, 9, 2, 1, 2, 1, 2, 2, 2, 2, 2, 1, 2, 2, 14, 2, 5, 2, 39, 5, 3, 2, 4, 3, 2, 1, 2, 5, 4, 3, 5, 4, 6, 3, 2, 2, 4, 3, 2, 1, 3, 3, 2, 3, 1, 3, 2, 2, 2, 2, 2, 3, 2, 3, 2, 2, 2, 1, 4, 4, 4, 4, 1, 2, 4, 3, 2, 1, 2, 4, 3, 9, 2, 3, 4, 1, 2, 1, 4, 1, 4, 2, 3, 2, 5, 3, 1, 2, 3, 2, 3, 4, 2, 2, 2, 3, 2, 4, 2, 1, 2, 1, 2, 2, 2, 1, 2, 1, 4, 1, 2, 10, 2, 2, 3, 1, 1, 26, 1, 2, 4, 1, 1, 1, 2, 1, 3, 2, 7, 1, 1, 2, 3, 3, 2, 2, 1, 2, 2, 2, 2, 3, 2, 1, 1, 1, 1, 2, 2, 1, 1, 2, 2, 1, 1, 1, 1, 1, 1, 1, 1, 1, 2, 1, 1, 1, 3, 3, 2, 3, 2, 5, 1, 2, 1, 1, 2, 2, 2, 3, 1, 1, 1, 1, 2, 2, 2, 1, 1, 2, 2, 1, 1, 2, 1, 1, 1, 2, 1, 1, 1, 1, 1, 1, 2, 1, 1, 1, 1, 1, 1, 1, 2, 1, 2, 3, 6, 1, 2, 6, 1, 2, 3, 1, 12, 4, 6, 2, 5, 2, 1, 2, 1, 1, 2, 1, 1, 1, 1, 1, 1, 1, 3, 1, 1, 1, 1, 1, 1, 1, 1, 1, 2, 1, 1, 1, 1, 1, 4, 2, 2, 2, 2, 1, 3, 4, 2, 1, 9, 14, 5, 1, 2, 2, 9, 2, 1, 3, 5, 2, 1, 1, 1, 2, 1, 4, 1, 2, 2, 1, 3, 1, 1, 2, 2, 2, 2, 1, 1, 2, 1, 3, 2, 1, 1, 2, 1, 2, 1, 1, 1, 7, 1, 4, 13, 1, 1, 2, 1, 9, 2, 7, 2, 1, 2, 4, 4, 3, 2, 2, 3, 3, 2, 3, 2, 5, 3, 2, 4, 1, 2, 2, 2, 7, 2, 3, 2, 2, 1, 1, 3, 2, 2, 2, 4, 2, 2, 2, 2, 2, 2, 2, 2, 1, 1, 2, 1, 1, 2, 2, 2, 4, 1, 2, 2, 1, 1, 1, 1, 1, 3, 1, 3, 1, 2, 1, 2, 1, 1, 5, 1, 4, 2, 1, 3, 2, 2, 2, 1, 2, 1, 1, 1, 1, 9, 2, 2, 2, 2, 3, 1, 1, 2, 1, 2, 2, 2, 1, 1, 2, 1, 3, 2, 2, 2, 1, 1, 2, 1, 4, 2, 2, 2, 2, 1, 2, 2, 3, 1, 4, 1, 2, 2, 1, 1, 1, 3, 2, 1, 1, 3, 1, 1, 2, 2, 1, 1, 2, 1, 1, 1, 2, 2, 1, 2, 4, 1, 4, 1, 2, 2, 2, 10, 11, 2, 4, 1, 17, 10, 4, 1, 3, 4, 4, 6, 1, 6, 35, 4, 18, 15, 2, 2, 2, 3, 4, 4, 1, 18, 2, 2, 2, 2, 18, 2, 6, 10, 7, 3, 2, 9, 2, 3, 4, 1, 4, 13, 7, 1, 1, 2, 1, 1, 2, 1, 2, 2, 3, 3, 2, 2, 1, 3, 1, 2, 2, 17, 5, 3, 3, 4, 6, 1, 2, 19, 1, 2, 2, 2, 2, 4, 5, 2, 1, 1, 1, 2, 4, 2, 2, 1, 2, 3, 3, 1, 2, 2, 1, 3, 3, 4, 2, 2, 2, 2, 1, 2, 2, 2, 3, 2, 2, 3, 1, 1, 1, 3, 2, 1, 3, 2, 2, 1, 1, 1, 1, 3, 2, 1, 1, 1, 1, 2, 1, 1, 1, 2, 2, 2, 5, 5, 2, 3, 2, 2, 1, 7, 2, 2, 5, 2, 2, 2, 2, 2, 1, 4, 1, 3, 2, 2, 4, 2, 3, 1, 3, 1, 4, 2, 2, 2, 2, 1, 2, 3, 3, 2, 2, 2, 2, 2, 2, 2, 2, 1, 2, 2, 2, 2, 1, 2, 1, 2, 1, 1, 1, 4, 3, 2, 2, 3, 1, 1, 2, 3, 2, 3, 4, 6, 5, 2, 2, 2, 2, 1, 2, 1, 1, 1, 1, 2, 1, 2, 2, 1, 1, 1, 1, 1, 14, 2, 10, 1, 4, 3, 1, 1, 1, 3, 2, 1, 1, 1, 2, 1, 1, 1, 2, 1, 2, 1, 2, 1, 1, 1, 1, 1, 1, 1, 1, 1, 1, 2, 5, 2, 2, 2, 1, 3, 2, 2, 2, 2, 2, 2, 1, 28, 1, 2, 1, 2, 1, 1, 1, 3, 1, 2, 2, 1, 1, 2, 1, 2, 2, 2, 1, 2, 3, 2, 2, 2, 3, 2, 2, 2, 2, 2, 1, 1, 2, 2, 1, 3, 2, 2, 2, 2, 2, 2, 2, 1, 1, 29, 1, 1, 1, 1, 1, 1, 1, 2, 1, 1, 1, 1, 1, 1, 2, 1, 1, 1, 1, 3, 1, 1, 1, 1, 1, 1, 1, 155, 7, 20, 3, 2, 2, 2, 2, 13, 2, 2, 2, 7, 2, 4, 8, 2, 2, 8, 3, 2, 2, 3, 1, 5, 4, 2, 2, 5, 2, 2, 2, 1, 1, 3, 5, 3, 2, 2, 2, 2, 2, 2, 2, 3, 2, 1, 2, 2, 2, 1, 2, 3, 2, 4, 2, 2, 2, 2, 5, 2, 2, 2, 2, 2, 2, 2, 2, 2, 2, 2, 2, 1, 2, 3, 2, 5, 2, 4, 1, 2, 2, 2, 2, 2, 2, 3, 1, 1, 2, 2, 2, 3, 3, 2, 2, 1, 2, 1, 2, 4, 2, 2, 1, 2, 5, 2, 1, 3, 1, 1, 2, 3, 2, 2, 1, 2, 2, 1, 1, 1, 2, 2, 2, 2, 2, 1, 2, 1, 1, 2, 2, 2, 1, 4, 1, 3, 2, 2, 2, 4, 2, 2, 1, 1, 2, 1, 2, 2, 2, 2, 2, 1, 1, 3, 2, 2, 2, 2, 1, 2, 2, 1, 2, 1, 2, 3, 2, 2, 2, 1, 1, 2, 1, 1, 3, 2, 1, 1, 4, 1, 1, 1, 1, 1, 2, 1, 2, 1, 1, 3, 1, 13, 3, 2, 2, 1, 1, 2, 1, 2, 1, 1, 1, 1, 3, 1, 1, 1, 3, 1, 1, 2, 1, 1, 1, 2, 47, 16, 2, 2, 2, 3, 1, 2, 2, 2, 3, 1, 1, 1, 2, 1, 2, 1, 1, 1, 1, 2, 2, 1, 1, 1, 1, 1, 1, 2, 1, 2, 1, 15, 8, 34, 2, 2, 6, 5, 4, 2, 5, 8, 2, 10, 9, 4, 3, 1, 4, 3, 11, 6, 3, 4, 3, 11, 1, 3, 2, 3, 2, 1, 2, 1, 2, 2, 3, 10, 2, 2, 3, 2, 3, 2, 4, 2, 3, 3, 3, 3, 3, 2, 2, 2, 1, 2, 3, 2, 2, 2, 2, 5, 1, 2, 2, 1, 1, 2, 1, 2, 2, 2, 1, 1, 3, 1, 1, 1, 1, 27, 1, 2, 2, 3, 8, 1, 2, 2, 1, 1, 3, 1, 1, 2, 2, 9, 2, 2, 2, 2, 7, 1, 2, 2, 1, 3, 30, 2, 3, 1, 1, 1, 2, 1, 3, 1, 4, 1, 2, 2, 3, 2, 4, 1, 2, 2, 1, 1, 1, 1, 2, 2, 3, 2, 2, 1, 1, 2, 2, 5, 2, 1, 3, 2, 3, 2, 2, 2, 3, 1, 2, 1, 2, 3, 2, 1, 1, 2, 1, 2, 2, 3, 2, 3, 2, 2, 2, 2, 2, 3, 4, 1, 2, 1, 2, 2, 2, 1, 1, 1, 2, 1, 1, 2, 2, 1, 2, 2, 2, 2, 1, 2, 2, 4, 2, 2, 2, 2, 2, 3, 3, 2, 2, 2, 3, 3, 1, 2, 2, 1, 2, 2, 3, 2, 2, 1, 1, 2, 1, 2, 2, 2, 2, 2, 2, 2, 2, 1, 1, 2, 2, 2, 2, 2, 2, 1, 1, 1, 1, 1, 1, 1, 1, 4, 2, 3, 2, 2, 1, 2, 1, 2, 2, 3, 2, 2, 1, 2, 1, 2, 1, 1, 2, 1, 2, 2, 1, 2, 2, 2, 2, 3, 2, 1, 2, 2, 2, 1, 1, 2, 1, 3, 3, 1, 2, 1, 1, 2, 3, 4, 2, 2, 3, 2, 2, 2, 2, 2, 2, 2, 2, 2, 2, 2, 1, 2, 1, 1, 1, 2, 1, 2, 1, 1, 2, 2, 2, 2, 2, 2, 1, 2, 2, 1, 1, 1, 1, 1, 2, 3, 3, 1, 1, 6, 2, 2, 1, 1, 2, 2, 2, 2, 2, 1, 1, 2, 3, 2, 2, 1, 2, 2, 2, 1, 1, 1, 1, 3, 2, 1, 2, 1, 1, 1, 1, 2, 2, 1, 1, 1, 1, 1, 1, 2, 1, 2, 1, 2, 1, 1, 1, 1, 1, 1, 1, 2, 1, 1, 2, 1, 1, 1, 1, 2, 2, 1, 2, 2, 2, 2, 4, 3, 2, 2, 2, 2, 2, 2, 1, 2, 1, 6, 14, 4, 3, 1, 4, 4, 2, 2, 1, 1, 4, 1, 1, 2, 1, 1, 2, 2, 1, 1, 2, 1, 1, 1, 2, 1, 1, 1, 2, 3, 1, 3, 3, 4, 1, 2, 3, 2, 2, 1, 2, 3, 2, 1, 2, 1, 1, 1, 1, 1, 2, 2, 1, 2, 5, 2, 2, 2, 5, 2, 2, 1, 3, 1, 1, 4, 2, 3, 2, 2, 1, 2, 1, 2, 1, 2, 1, 1, 1, 1, 1, 2, 1, 2, 1, 2, 3, 2, 2, 2, 1, 2, 1, 2, 1, 1, 1, 1, 1, 1, 1, 1, 1, 1, 2, 1, 2, 2, 2, 2, 2, 2, 2, 1, 2, 2, 3, 3, 2, 1, 1, 1, 2, 2, 1, 2, 1, 2, 1, 2, 1, 2, 3, 1, 2, 1, 1, 1, 1, 1, 2, 1, 1, 2, 2, 2, 2, 3, 1, 2, 1, 1, 2, 1, 1, 2, 1, 1, 1, 2, 1, 1, 1, 2, 3, 1, 1, 1, 1, 1, 1, 2, 1, 1, 2, 1, 1, 1, 1, 2, 1, 7, 1, 1, 1, 1, 1, 2, 1, 1, 1, 1, 1, 1, 2, 2, 1, 1, 1, 1, 1, 1, 1, 1, 4, 1, 2, 4, 2, 2, 1, 2, 1, 1, 1, 2, 1, 2, 2, 1, 2, 2, 3, 2, 1, 2, 2, 2, 2, 2, 3, 2, 2, 1, 3, 1, 1, 1, 1, 1, 1, 1, 2, 1, 2, 2, 2, 2, 2, 3, 2, 2, 3, 3, 3, 1, 2, 1, 1, 1, 1, 2, 1, 1, 1, 1, 1, 2, 1, 2, 2, 1, 2, 1, 1, 1, 1, 2, 1, 1, 2, 1, 1, 36, 51, 2, 11, 2, 2, 2, 2, 2, 2, 2, 2, 2, 10, 2, 2, 3, 2, 1, 2, 2, 6, 2, 2, 7, 5, 2, 2, 2, 3, 5, 3, 1, 2, 4, 1, 2, 1, 2, 2, 4, 2, 1, 2, 1, 2, 1, 1, 1, 2, 2, 1, 1, 2, 3, 1, 1, 1, 1, 3, 2, 2, 2, 1, 1, 10, 2, 4, 1, 1, 3, 11, 1, 3, 1, 2, 1, 2, 2, 1, 2, 1, 1, 2, 2, 4, 2, 2, 3, 1, 1, 2, 2, 1, 1, 2, 1, 2, 1, 1, 2, 2, 2, 1, 1, 1, 1, 2, 2, 1, 1, 2, 1, 1, 2, 1, 2, 1, 1, 1, 3, 2, 2, 2, 1, 1, 1, 1, 2, 1, 3, 2, 2, 2, 1, 2, 2, 2, 18, 2, 2, 2, 2, 2, 2, 2, 2, 2, 1, 2, 2, 2, 1, 1, 2, 1, 2, 1, 4, 2, 2, 1, 1, 2, 1, 1, 1, 1, 1, 1, 2, 2, 2, 2, 2, 3, 2, 2, 2, 2, 2, 3, 2, 2, 1, 2, 3, 1, 1, 2, 2, 1, 1, 2, 2, 2, 2, 26, 2, 1, 1, 1, 2, 2, 2, 2, 2, 2, 2, 1, 3, 1, 2, 2, 2, 2, 1, 1, 1, 1, 2, 4, 1, 2, 2, 1, 1, 1, 1, 2, 3, 3, 4, 1, 2, 2, 4, 3, 2, 7, 19, 2, 2, 2, 2, 5, 2, 2, 1, 4, 4, 1, 2, 2, 7, 2, 2, 2, 2, 2, 2, 2, 3, 1, 1, 2, 1, 1, 1, 1, 8, 1, 2, 1, 3, 9, 2, 4, 4, 1, 2, 2, 2, 2, 1, 1, 3, 2, 1, 7, 2, 3, 1, 4, 3, 2, 3, 2, 1, 2, 1, 4, 2, 2, 2, 2, 1, 1, 2, 3, 3, 3, 3, 2, 1, 1, 2, 2, 2, 1, 2, 2, 3, 2, 1, 1, 2, 4, 2, 1, 1, 2, 2, 2, 1, 1, 1, 1, 2, 2, 2, 2, 1, 2, 1, 2, 1, 1, 2, 1, 1, 1, 1, 2, 1, 2, 1, 1, 1, 2, 3, 16, 1, 2, 6, 2, 7, 2, 2, 2, 6, 2, 4, 2, 3, 13, 3, 1, 2, 2, 3, 1, 2, 2, 2, 2, 2, 1, 1, 3, 1, 3, 2, 14, 2, 3, 5, 1, 1, 1, 2, 2, 3, 1, 2, 2, 2, 2, 2, 2, 1, 2, 1, 2, 2, 2, 1, 2, 1, 1, 3, 2, 2, 1, 2, 1, 3, 2, 1, 3, 2, 2, 2, 1, 2, 10, 22, 2, 13, 9, 1, 7, 1, 2, 1, 3, 2, 2, 6, 2, 2, 3, 1, 2, 1, 7, 5, 1, 4, 14, 3, 3, 2, 3, 2, 13, 2, 1, 1, 2, 1, 2, 2, 1, 6, 1, 4, 1, 2, 1, 4, 5, 1, 4, 2, 3, 2, 3, 1, 1, 3, 1, 4, 3, 9, 4, 3, 2, 2, 2, 2, 1, 4, 2, 2, 2, 2, 5, 1, 2, 2, 1, 1, 1, 2, 4, 3, 2, 1, 4, 1, 3, 2, 2, 2, 1, 2, 2, 2, 3, 1, 2, 2, 3, 2, 3, 2, 2, 3, 2, 1, 2, 2, 2, 2, 2, 2, 1, 2, 1, 3, 2, 2, 2, 3, 2, 3, 2, 2, 2, 1, 1, 2, 2, 2, 2, 2, 1, 1, 4, 3, 2, 1, 5, 3, 3, 2, 3, 2, 2, 2, 4, 3, 2, 3, 2, 1, 2, 3, 2, 1, 3, 16, 3, 5, 6, 3, 6, 1, 1, 1, 14, 8, 2, 4, 12, 5, 4, 2, 1, 2, 2, 3, 5, 2, 1, 1, 1, 3, 1, 1, 3, 3, 2, 3, 3, 1, 1, 1, 2, 1, 1, 5, 1, 1, 1, 1, 2, 3, 1, 1, 2, 2, 3, 2, 1, 1, 2, 1, 1, 4, 3, 1, 2, 3, 2, 1, 3, 2, 2, 3, 1, 1, 2, 2, 2, 1, 1, 2, 4, 1, 3, 1, 1, 4, 3, 1, 1, 1, 2, 1, 2, 1, 1, 1, 1, 1, 1, 2, 2, 1, 1, 2, 1, 1, 1, 1, 1, 1, 1, 1, 2, 3, 12, 2, 3, 2, 1, 1, 2, 2, 1, 1, 2, 2, 1, 2, 2, 2, 1, 2, 3, 2, 2, 3, 1, 2, 2, 1, 1, 1, 1, 1, 2, 2, 8, 49, 2, 1, 3, 2, 2, 2, 2, 3, 2, 2, 2, 2, 1, 2, 2, 27, 5, 3, 1, 2, 3, 2, 2, 2, 1, 1, 2, 2, 2, 2, 2, 2, 1, 1, 1, 1, 2, 2, 2, 1, 2, 1, 2, 1, 1, 2, 2, 1, 1, 1, 1, 1, 1, 1, 1, 2, 2, 1, 2, 2, 1, 1, 5, 1, 5, 1, 1, 1, 1, 21, 2, 1, 1, 1, 2, 2, 3, 1, 2, 1, 2, 1, 1, 2, 2, 1, 3, 5, 2, 2, 2, 2, 2, 2, 1, 2, 1, 2, 1, 1, 2, 1, 2, 2, 6, 2, 1, 2, 1, 1, 1, 1, 2, 1, 1, 2, 3, 5, 2, 1, 1, 1, 2, 2, 4, 1, 2, 1, 2, 2, 1, 2, 10, 2, 1, 9, 2, 2, 3, 2, 2, 2, 4, 2, 3, 2, 2, 1, 2, 5, 2, 2, 2, 3, 3, 1, 4, 3, 1, 3, 2, 3, 2, 1, 1, 1, 1, 2, 1, 1, 2, 1, 2, 2, 2, 1, 1, 1, 1, 2, 1, 1, 2, 1, 1, 2, 2, 2, 2, 2, 1, 1, 2, 1, 2, 1, 2, 2, 1, 1, 1, 1, 1, 1, 1, 1, 1, 1, 1, 1, 1, 1, 1, 1, 1, 1, 1, 1, 1, 1, 1, 1, 1, 1, 2, 1, 1, 1, 1, 1, 1, 1, 1, 1, 1, 1, 14, 2, 2, 19, 2, 2, 1, 5, 7, 1, 2, 1, 12, 3, 1, 6, 3, 1, 2, 1, 2, 1, 2, 2, 2, 4, 101, 2, 2, 20, 2, 14, 1, 2, 9, 2, 2, 3, 1, 9, 1, 1, 1, 1, 2, 2, 2, 2, 1, 2, 2, 1, 1, 2, 1, 1, 1, 1, 15, 1, 1, 1, 2, 2, 1, 1, 1, 1, 1, 1, 1, 1, 1, 1, 1, 3, 2, 14, 3, 1, 41, 2, 1, 1, 1, 1, 1, 1, 2, 1, 1, 1, 2, 2, 1, 1, 7, 2, 3, 24, 1, 1, 3, 1, 1, 3, 2, 2, 10, 23, 1, 2, 5, 5, 17, 6, 1, 3, 2, 2, 1, 27, 1, 14, 6, 2, 2, 2, 2, 2, 1, 2, 8, 10, 1, 3, 3, 2, 2, 2, 3, 2, 2, 2, 4, 2, 3, 5, 5, 3, 3, 2, 1, 2, 2, 2, 1, 2, 3, 1, 1, 2, 1, 2, 2, 2, 2, 1, 2, 1, 1, 2, 1, 2, 2, 1, 1, 1, 1, 1, 1, 3, 1, 2, 1, 1, 2, 1, 1, 1, 1, 1, 2, 1, 1, 1, 1, 2, 1, 1, 1, 1, 1, 1, 1, 1, 2, 1, 1, 1, 1, 1, 3, 1, 1, 1, 1, 3, 1, 1, 1, 2, 1, 1, 2, 2, 2, 1, 1, 1, 1, 1, 1, 1, 1, 1, 1, 1, 1, 1, 1, 1, 1, 1, 1, 1, 2, 2, 2, 2, 2, 2, 2, 1, 1, 1, 2, 7, 2, 2, 1, 2, 2, 1, 1, 2, 2, 2, 2, 2, 3, 1, 2, 3, 1, 2, 4, 2, 1, 2, 2, 2, 1, 1, 2, 2, 1, 1, 2, 11, 6, 28, 1, 2, 2, 2, 2, 2, 3, 4, 1, 3, 2, 5, 4, 8, 2, 2, 3, 2, 1, 1, 3, 2, 3, 2, 1, 2, 1, 1, 1, 1, 2, 1, 1, 1, 1, 4, 2, 1, 2, 3, 10, 2, 1, 1, 2, 2, 2, 2, 1, 1, 2, 6, 1, 2, 2, 2, 2, 2, 2, 2, 3, 2, 2, 2, 2, 2, 1, 1, 1, 1, 1, 1, 1, 2, 2, 1, 2, 1, 1, 1, 1, 2, 2, 1, 2, 1, 2, 1, 1, 1, 1, 1, 1, 1, 1, 1, 1, 1, 1, 1, 1, 1, 1, 2, 3, 2, 2, 5, 2, 3, 2, 2, 2, 2, 2, 2, 2, 2, 2, 2, 2, 2, 4, 2, 2, 3, 3, 3, 2, 1, 2, 2, 1, 2, 2, 2, 2, 1, 1, 1, 2, 2, 1, 2, 3, 2, 4, 2, 2, 2, 5, 1, 1, 1, 1, 6, 1, 1, 2, 1, 1, 2, 1, 2, 1, 2, 1, 1, 1, 3, 2, 2, 2, 1, 2, 2, 2, 2, 2, 2, 2, 2, 2, 2, 2, 3, 2, 2, 1, 1, 1, 1, 1, 1, 2, 1, 1, 1, 1, 2, 1, 1, 2, 3, 2, 2, 3, 1, 1, 4, 5, 2, 2, 2, 2, 2, 1, 1, 2, 2, 1, 2, 2, 2, 2, 3, 2, 2, 2, 2, 2, 1, 1, 1, 1, 1, 1, 1, 5, 2, 2, 2, 1, 2, 2, 2, 3, 1, 3, 3, 3, 2, 2, 2, 2, 2, 1, 2, 1, 10, 1, 2, 2, 1, 3, 2, 1, 3, 2, 3, 2, 5, 4, 2, 1, 2, 1, 2, 2, 3, 2, 2, 1, 2, 3, 2, 3, 2, 2, 2, 2, 2, 3, 1, 2, 1, 2, 1, 2, 2, 1, 1, 1, 2, 2, 2, 2, 2, 1, 1, 2, 2, 1, 1, 2, 1, 2, 1, 2, 3, 2, 2, 2, 1, 1, 6, 1, 1, 3, 4, 3, 4, 3, 4, 1, 1, 3, 1, 1, 2, 2, 2, 1, 2, 1, 1, 3, 2, 1, 1, 2, 1, 2, 2, 6, 1, 1, 2, 5, 2, 1, 1, 2, 2, 1, 2, 1, 1, 2, 2, 2, 3, 2, 1, 1, 2, 2, 2, 1, 1, 2, 2, 2, 2, 2, 2, 1, 4, 2, 2, 1, 1, 2, 2, 1, 2, 1, 1, 2, 3, 2, 2, 1, 2, 2, 2, 2, 3, 2, 3, 2, 2, 2, 2, 2, 1, 2, 1, 2, 3, 1, 2, 1, 2, 2, 2, 2, 2, 2, 1, 1, 1, 1, 2, 2, 2, 2, 2, 1, 1, 2, 2, 2, 1, 1, 2, 2, 2, 2, 1, 1, 2, 4, 1, 68, 1, 3, 1, 2, 2, 7, 2, 1, 3, 2, 10, 6, 1, 2, 1, 1, 2, 3, 13, 2, 3, 2, 2, 2, 2, 5, 2, 2, 1, 2, 1, 2, 2, 3, 4, 2, 3, 1, 2, 1, 1, 2, 1, 3, 2, 1, 1, 1, 2, 2, 2, 1, 2, 1, 1, 1, 1, 1, 1, 1, 1, 1, 1, 1, 2, 2, 1, 1, 1, 2, 1, 2, 2, 1, 1, 1, 1, 1, 1, 7, 1, 1, 1, 4, 3, 2, 1, 7, 1, 1, 1, 3, 1, 2, 1, 1, 1, 2, 2, 8, 3, 1, 2, 2, 1, 1, 2, 1, 2, 3, 3, 1, 5, 2, 1, 1, 2, 2, 3, 2, 2, 2, 2, 1, 1, 1, 1, 1, 1, 1, 1, 1, 1, 3, 2, 2, 2, 2, 2, 2, 1, 1, 2, 1, 3, 1, 2, 1, 1, 1, 2, 2, 1, 2, 2, 2, 2, 1, 2, 2, 2, 2, 2, 2, 1, 1, 1, 1, 2, 1, 1, 2, 2, 2, 2, 2, 2, 1, 1, 2, 1, 1, 1, 1, 1, 1, 1, 1, 2, 1, 1, 1, 1, 1, 4, 5, 1, 2, 1, 2, 1, 1, 1, 1, 4, 1, 1, 1, 1, 1, 2, 1, 2, 1, 2, 11, 3, 2, 1, 1, 2, 1, 1, 1, 1, 45, 2, 10, 2, 4, 3, 3, 1, 1, 1, 1, 1, 1, 1, 2, 1, 2, 1, 1, 1, 2, 2, 2, 1, 1, 1, 2, 1, 1, 2, 2, 1, 1, 1, 1, 1, 1, 1, 1, 1, 1, 1, 1, 1, 1, 1, 1, 10, 2, 2, 2, 1, 1, 1, 1, 1, 1, 1, 1, 1, 1, 1, 20, 2, 16, 6, 15, 1, 1, 2, 1, 2, 5, 2, 2, 2, 2, 2, 1, 2, 8, 2, 2, 1, 1, 1, 1, 11, 1, 1, 1, 1, 1, 2, 1, 1, 1, 1, 1, 2, 1, 4, 1, 1, 1, 1, 2, 1, 1, 2, 2, 2, 3, 3, 3, 1, 4, 4, 2, 1, 1, 2, 1, 1, 3, 1, 2, 2, 1, 1, 2, 1, 2, 1, 1, 2, 1, 1, 1, 1, 1, 1, 2, 1, 3, 3, 3, 1, 24, 5, 4, 2, 1, 2, 2, 1, 1, 7, 1, 2, 1, 1, 2, 3, 1, 2, 2, 2, 3, 2, 1, 2, 2, 2, 2, 1, 2, 2, 2, 2, 3, 2, 2, 4, 2, 1, 1, 4, 1, 2, 1, 2, 2, 2, 2, 1, 5, 3, 1, 2, 2, 2, 2, 2, 2, 1, 1, 3, 5, 3, 2, 2, 2, 2, 2, 3, 6, 2, 4, 1, 2, 1, 3, 2, 3, 3, 3, 2, 2, 1, 1, 1, 2, 1, 1, 1, 2, 1, 1, 1, 1, 1, 2, 1, 1, 2, 2, 1, 1, 1, 1, 1, 1, 2, 1, 2, 2, 1, 2, 1, 1, 1, 2, 1, 1, 1, 2, 1, 2, 2, 1, 1, 2, 2, 1, 1, 2, 3, 1, 1, 1, 1, 2, 2, 3, 3, 2, 2, 2, 2, 1, 3, 2, 2, 2, 2, 2, 2, 1, 1, 2, 1, 1, 1, 1, 1, 2, 1, 2, 2, 1, 2, 2, 2, 1, 2, 2, 2, 1, 2, 3, 2, 2, 3, 1, 3, 2, 2, 2, 2, 1, 1, 1, 1, 2, 1, 9, 1, 5, 3, 3, 10, 1, 1, 1, 1, 2, 2, 2, 1, 1, 2, 1, 1, 2, 4, 2, 1, 2, 1, 1, 1, 1, 10, 2, 2, 2, 2, 2, 1, 1, 1, 2, 1, 2, 1, 1, 1, 1, 2, 2, 7, 1, 2, 1, 2, 3, 1, 2, 2, 1, 2, 1, 1, 3, 3, 1, 2, 1, 1, 4, 1, 2, 1, 2, 2, 1, 2, 4, 1, 1, 1, 1, 1, 1, 1, 2, 2, 1, 1, 1, 1, 1, 1, 2, 1, 1, 2, 2, 2, 2, 2, 10, 1, 2, 1, 2, 1, 2, 3, 1, 2, 5, 2, 2, 1, 3, 1, 2, 4, 1, 1, 2, 2, 2, 3, 3, 2, 2, 2, 3, 2, 1, 1, 2, 3, 1, 2, 1, 1, 1, 1, 2, 2, 2, 1, 3, 2, 2, 1, 3, 2, 2, 4, 6, 6, 1, 1, 3, 2, 1, 2, 3, 2, 1, 1, 2, 1, 1, 1, 2, 2, 2, 1, 1, 1, 1, 1, 2, 1, 1, 1, 1, 1, 2, 1, 1, 1, 1, 1, 1, 2, 2, 1, 1, 1, 1, 1, 1, 1, 1, 1, 1, 1, 1, 2, 1, 3, 1, 2, 2, 1, 1, 2, 1, 1, 1, 2, 1, 1, 2, 2, 1, 1, 1, 1, 1, 2, 3, 1, 1, 1, 1, 1, 1, 1, 3, 1, 1, 1, 2, 4, 2, 2, 2, 2, 2, 2, 2, 2, 2, 2, 1, 2, 1, 2, 2, 1, 1, 2, 2, 1, 1, 1, 2, 2, 1, 1, 2, 2, 1, 2, 2, 2, 2, 1, 3, 2, 3, 1, 2, 1, 1, 3, 1, 1, 1, 1, 1, 2, 1, 2, 1, 1, 2, 1, 1, 1, 3, 5, 2, 3, 3, 2, 2, 4, 3, 7, 3, 2, 8, 4, 2, 4, 6, 1, 3, 4, 2, 2, 2, 2, 5, 2, 2, 2, 2, 3, 2, 3, 3, 2, 2, 2, 2, 2, 1, 3, 2, 2, 1, 2, 2, 2, 2, 3, 2, 2, 2, 1, 3, 2, 2, 2, 2, 1, 3, 2, 3, 1, 2, 2, 2, 1, 2, 2, 3, 2, 2, 3, 2, 3, 2, 2, 2, 3, 2, 1, 2, 2, 2, 1, 2, 4, 3, 1, 1, 2, 2, 2, 3, 1, 2, 2, 2, 1, 2, 2, 1, 2, 1, 5, 2, 2, 1, 3, 2, 2, 3, 3, 2, 2, 2, 1, 1, 2, 1, 3, 2, 3, 1, 1, 2, 2, 2, 1, 1, 1, 3, 9, 1, 2, 1, 2, 2, 2, 2, 2, 2, 3, 6, 1, 2, 2, 1, 1, 1, 2, 2, 1, 1, 2, 1, 2, 2, 1, 1, 1, 1, 2, 1, 1, 1, 1, 1, 2, 1, 2, 1, 2, 2, 1, 1, 2, 1, 1, 2, 1, 2, 1, 1, 2, 1, 1, 1, 2, 1, 1, 1, 1, 3, 2, 7, 7, 2, 6, 8, 6, 18, 2, 3, 1, 2, 3, 1, 1, 2, 1, 3, 2, 2, 1, 1, 1, 1, 22, 1, 2, 1, 1, 1, 1, 2, 2, 2, 1, 1, 2, 2, 1, 3, 1, 2, 2, 1, 2, 1, 1, 1, 2, 2, 1, 1, 5, 2, 1, 1, 2, 2, 1, 2, 2, 1, 1, 3, 2, 1, 1, 2, 3, 2, 1, 1, 1, 1, 1, 2, 3, 3, 1, 1, 1, 2, 2, 1, 2, 2, 2, 2, 3, 1, 1, 6, 1, 1, 2, 2, 2, 2, 2, 1, 2, 2, 2, 2, 1, 2, 1, 1, 1, 3, 1, 1, 2, 1, 2, 2, 1, 2, 2, 2, 2, 2, 2, 2, 1, 1, 2, 1, 1, 1, 2, 2, 2, 1, 1, 2, 1, 2, 1, 1, 1, 2, 1, 1, 2, 1, 1, 2, 2, 1, 1, 1, 2, 2, 1, 1, 1, 2, 1, 1, 1, 1, 1, 1, 2, 1, 2, 2, 2, 1, 1, 9, 2, 1, 1, 1, 1, 1, 1, 1, 1, 1, 1, 1, 1, 1, 2, 3, 2, 3, 3, 1, 2, 2, 1, 2, 1, 2, 1, 1, 1, 2, 3, 1, 1, 2, 3, 2, 1, 2, 1, 3, 1, 2, 2, 1, 2, 2, 1, 1, 1, 2, 2, 2, 2, 2, 2, 2, 2, 2, 1, 2, 1, 1, 3, 2, 2, 1, 1, 1, 1, 1, 2, 2, 1, 2, 1, 5, 1, 1, 2, 1, 1, 1, 11, 2, 2, 1, 2, 3, 2, 1, 1, 1, 1, 1, 1, 1, 1, 2, 1, 1, 1, 2, 1, 1, 2, 2, 2, 2, 2, 2, 2, 2, 2, 3, 2, 3, 3, 3, 3, 5, 1, 3, 7, 2, 3, 3, 2, 3, 1, 1, 4, 1, 2, 1, 1, 3, 2, 1, 1, 1, 1, 2, 1, 4, 12, 1, 1, 1, 1, 1, 1, 2, 2, 1, 5, 1, 1, 1, 16, 2, 2, 2, 2, 18, 1, 11, 1, 5, 1, 1, 1, 3, 5, 2, 5, 1, 1, 5, 1, 1, 1, 1, 1, 1, 1, 1, 1, 1, 1, 1, 1, 1, 1, 2, 2, 1, 1, 1, 1, 1, 1, 1, 1, 1, 1, 1, 1, 1, 1, 1, 2, 1, 1, 1, 1, 1, 1, 2, 1, 1, 1, 1, 1, 1, 1, 1, 1, 1, 3, 1, 1, 1, 1, 1, 1, 1, 1, 1, 1, 1, 3, 1, 1, 1, 1, 1, 1, 1, 1, 1, 1, 1, 1, 1, 1, 1, 1, 1, 1, 1, 1, 1, 1, 1, 1, 1, 1, 1, 1, 1, 1, 1, 1, 1, 1, 2, 1, 2, 1, 1, 1, 17, 4, 4, 1, 1, 1, 2, 2, 1, 2, 2, 2, 4, 1, 2, 2, 1, 1, 3, 6, 1, 2, 2, 2, 2, 1, 1, 1, 2, 4, 3, 2, 2, 4, 2, 2, 1, 1, 2, 1, 1, 2, 2, 2, 1, 2, 1, 4, 2, 1, 2, 1, 1, 2, 1, 2, 2, 2, 2, 2, 2, 2, 3, 2, 1, 2, 2, 2, 2, 1, 1, 1, 2, 1, 1, 1, 1, 2, 1, 5, 21, 3, 3, 3, 2, 4, 1, 3, 4, 4, 1, 3, 2, 1, 1, 1, 2, 2, 2, 4, 1, 1, 2, 1, 1, 3, 3, 1, 3, 2, 1, 2, 1, 2, 1, 2, 1, 2, 1, 2, 2, 2, 2, 2, 1, 2, 1, 1, 3, 8, 3, 1, 3, 2, 1, 1, 2, 1, 1, 1, 1, 2, 2, 2, 1, 1, 1, 2, 1, 2, 1, 2, 1, 1, 1, 1, 1, 1, 1, 1, 1, 1, 1, 1, 1, 1, 1, 1, 1, 3, 1, 1, 1, 1, 1, 1, 1, 2, 1, 1, 2, 4, 8, 2, 2, 1, 2, 2, 2, 2, 1, 1, 1, 1, 4, 1, 1, 2, 1, 7, 3, 2, 1, 1, 2, 1, 1, 2, 1, 2, 3, 2, 3, 1, 2, 2, 2, 2, 2, 2, 2, 2, 2, 2, 2, 2, 2, 1, 1, 1, 1, 1, 1, 1, 2, 2, 1, 1, 2, 1, 1, 1, 1, 1, 2, 1, 1, 2, 1, 1, 2, 1, 1, 1, 1, 1, 1, 1, 1, 1, 1, 1, 1, 12, 1, 1, 1, 1, 1, 1, 1, 1, 1, 1, 1, 1, 1, 2, 1, 1, 1, 1, 3, 1, 3, 1, 2, 1, 2, 2, 2, 1, 1, 1, 1, 2, 1, 2, 2, 3, 2, 2, 1, 2, 1, 1, 1, 2, 2, 2, 2, 2, 3, 1, 2, 2, 2, 1, 1, 4, 2, 3, 11, 2, 2, 1, 1, 2, 1, 3, 1, 3, 2, 2, 2, 2, 2, 2, 2, 1, 2, 1, 5, 1, 1, 2, 1, 1, 1, 1, 4, 1, 1, 1, 2, 1, 1, 1, 2, 2, 2, 2, 1, 1, 1, 1, 1, 2, 2, 24, 2, 2, 1, 1, 1, 2, 1, 2, 5, 2, 3, 3, 1, 2, 1, 1, 3, 2, 1, 1, 2, 1, 2, 1, 1, 2, 1, 2, 3, 2, 2, 2, 1, 1, 1, 2, 1, 1, 2, 1, 2, 1, 1, 4, 1, 1, 2, 2, 2, 4, 2, 2, 2, 2, 2, 2, 2, 2, 1, 3, 3, 1, 3, 2, 1, 1, 2, 1, 2, 2, 2, 1, 1, 3, 2, 2, 2, 1, 2, 19, 2, 1, 1, 2, 43, 1, 4, 5, 5, 2, 6, 3, 1, 2, 1, 1, 1, 1, 31, 6, 1, 1, 2, 2, 1, 1, 2, 1, 2, 1, 1, 2, 2, 2, 1, 1, 3, 1, 1, 2, 2, 2, 1, 1, 2, 1, 2, 2, 3, 2, 1, 1, 1, 2, 1, 2, 2, 1, 1, 3, 1, 1, 3, 3, 1, 4, 2, 3, 2, 2, 1, 1, 1, 2, 2, 1, 1, 3, 1, 1, 1, 2, 2, 1, 1, 3, 2, 5, 2, 1, 2, 1, 1, 1, 1, 1, 1, 1, 1, 1, 1, 2, 1, 1, 3, 2, 2, 2, 2, 10, 3, 2, 3, 3, 1, 2, 2, 2, 1, 3, 1, 1, 1, 7, 2, 1, 1, 2, 2, 3, 1, 2, 1, 1, 1, 2, 6, 1, 1, 3, 1, 6, 1, 1, 1, 1, 2, 3, 7, 2, 1, 3, 1, 1, 1, 1, 3, 1, 2, 1, 2, 2, 2, 3, 2, 2, 1, 1, 1, 1, 2, 1, 1, 1, 2, 1, 1, 1, 2, 2, 1, 2, 2, 2, 4, 1, 2, 2, 1, 2, 2, 4, 4, 3, 4, 2, 3, 2, 2, 1, 2, 2, 2, 2, 2, 2, 1, 2, 2, 1, 2, 1, 1, 1, 2, 1, 1, 1, 1, 3, 3, 2, 2, 2, 2, 4, 1, 2, 2, 2, 2, 2, 1, 3, 1, 1, 2, 1, 2, 2, 1, 1, 1, 3, 1, 1, 1, 1, 16, 1, 2, 2, 2, 1, 1, 2, 1, 1, 2, 1, 2, 2, 1, 1, 1, 1, 1, 1, 1, 1, 2, 1, 2, 3, 1, 2, 2, 1, 1, 2, 2, 1, 3, 2, 2, 2, 1, 1, 1, 2, 2, 2, 2, 1, 1, 1, 1, 2, 2, 1, 1, 1, 1, 2, 2, 3, 2, 1, 2, 1, 1, 1, 3, 1, 2, 2, 2, 2, 4, 1, 3, 3, 2, 2, 1, 1, 1, 1, 2, 2, 2, 1, 2, 3, 1, 2, 1, 19, 2, 1, 2, 1, 1, 1, 3, 1, 1, 1, 1, 1, 3, 1, 8, 13, 6, 5, 2, 21, 1, 2, 4, 2, 3, 3, 1, 4, 2, 1, 2, 1, 1, 1, 1, 1, 1, 1, 1, 6, 1, 1, 1, 1, 1, 3, 9, 2, 3, 3, 1, 1, 1, 1, 1, 1, 1, 1, 1, 2, 1, 1, 1, 1, 1, 1, 1, 1, 1, 4, 1, 1, 1, 1, 1, 2, 1, 2, 2, 1, 1, 1, 1, 2, 2, 2, 1, 1, 2, 2, 1, 9, 1, 1, 2, 2, 2, 2, 3, 1, 2, 1, 1, 1, 1, 1, 3, 2, 1, 1, 1, 2, 2, 1, 2, 2, 1, 2, 2, 1, 1, 1, 1, 1, 1, 2, 1, 1, 2, 1, 2, 1, 2, 2, 1, 1, 3, 1, 1, 2, 2, 2, 1, 1, 2, 1, 1, 1, 1, 1, 1, 3, 8, 1, 3, 1, 1, 1, 2, 3, 1, 1, 1, 1, 2, 1, 2, 1, 2, 1, 4, 2, 1, 2, 1, 1, 2, 1, 2, 1, 1, 9, 2, 3, 3, 1, 2, 3, 7, 1, 3, 3, 1, 1, 2, 1, 2, 1, 1, 2, 1, 2, 1, 2, 1, 2, 2, 1, 1, 2, 1, 8, 1, 1, 1, 2, 2, 1, 2, 1, 7, 1, 1, 1, 1, 1, 1, 1, 2, 1, 2, 1, 1, 1, 1, 1, 1, 1, 1, 1, 2, 2, 1, 1, 1, 1, 1, 1, 1, 1, 8, 3, 6, 5, 2, 3, 4, 9, 1, 2, 2, 1, 1, 1, 1, 1, 2, 1, 2, 1, 1, 2, 1, 1, 1, 1, 1, 1, 1, 1, 1, 1, 2, 1, 1, 1, 1, 1, 1, 4, 3, 4, 3, 1, 1, 3, 3, 2, 1, 1, 1, 1, 1, 2, 1, 1, 2, 1, 1, 1, 1, 1, 2, 13, 2, 3, 1, 1, 2, 1, 2, 1, 1, 2, 4, 1, 1, 1, 1, 2, 2, 2, 2, 1, 1, 6, 2, 1, 4, 18, 4, 1, 2, 4, 2, 2, 3, 1, 1, 1, 2, 1, 2, 1, 2, 1, 2, 1, 1, 1, 1, 2, 1, 2, 1, 1, 1, 1, 1, 14, 2, 2, 5, 2, 2, 2, 1, 1, 2, 2, 1, 1, 2, 1, 1, 1, 1, 1, 1, 1, 2, 2, 2, 2, 1, 5, 1, 2, 1, 1, 2, 2, 1, 1, 1, 1, 1, 2, 1, 5, 2, 3, 2, 1, 1, 2, 3, 3, 6, 3, 2, 3, 6, 3, 2, 3, 1, 2, 1, 1, 1, 1, 2, 1, 1, 1, 1, 2, 1, 2, 2, 3, 3, 2, 2, 2, 2, 2, 2, 2, 2, 2, 2, 3, 3, 3, 3, 3, 2, 1, 2, 3, 2, 3, 2, 2, 2, 2, 2, 2, 2, 2, 2, 3, 2, 2, 2, 2, 2, 2, 1, 1, 2, 1, 1, 2, 5, 2, 3, 3, 3, 1, 3, 1, 2, 2, 1, 1, 1, 1, 2, 1, 1, 2, 2, 1, 1, 1, 1, 1, 1, 2, 1, 1, 1, 34, 2, 2, 2, 1, 2, 1, 2, 2, 1, 2, 2, 2, 2, 2, 2, 1, 1, 1, 2, 2, 2, 5, 2, 3, 2, 9, 1, 11, 2, 1, 1, 1, 7, 2, 3, 1, 1, 4, 4, 4, 3, 3, 1, 2, 2, 3, 2, 1, 2, 1, 1, 1, 1, 1, 2, 2, 2, 1, 1, 1, 2, 2, 1, 1, 4, 4, 4, 1, 4, 1, 1, 4, 1, 2, 1, 1, 1, 1, 1, 1, 2, 1, 3, 1, 1, 2, 6, 2, 1, 1, 1, 4, 3, 5, 2, 3, 5, 1, 3, 6, 1, 3, 3, 1, 1, 1, 1, 2, 2, 1, 1, 1, 3, 3, 1, 1, 2, 2, 2, 2, 2, 2, 3, 2, 2, 2, 3, 3, 1, 1, 1, 3, 1, 2, 1, 1, 2, 5, 1, 2, 1, 2, 1, 4, 2, 2, 2, 1, 2, 2, 1, 3, 1, 2, 2, 2, 5, 1, 1, 3, 6, 4, 3, 4, 1, 2, 2, 1, 1, 2, 1, 2, 10, 1, 2, 2, 1, 1, 1, 1, 2, 3, 2, 2, 2, 1, 1, 1, 1, 1, 1, 1, 2, 1, 1, 2, 2, 1, 1, 1, 1, 1, 1, 1, 2, 1, 2, 1, 2, 3, 3, 2, 1, 2, 2, 2, 2, 2, 2, 2, 1, 1, 1, 1, 1, 1, 2, 1, 2, 1, 1, 1, 2, 3, 1, 1, 1, 1, 1, 1, 3, 1, 1, 1, 3, 1, 2, 3, 1, 1, 1, 4, 1, 2, 1, 2, 2, 2, 2, 2, 2, 1, 2, 1, 2, 2, 4, 1, 1, 1, 1, 1, 1, 2, 3, 2, 2, 2, 2, 1, 1, 1, 1, 4, 1, 1, 2, 2, 2, 1, 1, 1, 1, 1, 2, 2, 1, 2, 1, 1, 1, 2, 2, 1, 1, 2, 40, 2, 4, 2, 2, 2, 1, 2, 1, 1, 2, 2, 3, 6, 2, 2, 1, 2, 2, 3, 2, 1, 1, 1, 1, 1, 1, 1, 1, 3, 2, 1, 2, 1, 3, 2, 8, 2, 2, 2, 3, 2, 2, 2, 2, 2, 1, 3, 2, 2, 1, 1, 2, 1, 1, 1, 1, 1, 1, 2, 2, 2, 2, 1, 3, 2, 1, 4, 2, 2, 2, 2, 2, 2, 2, 1, 1, 1, 2, 2, 2, 1, 1, 2, 2, 1, 1, 1, 2, 2, 1, 1, 2, 2, 1, 1, 2, 1, 2, 1, 1, 2, 2, 2, 1, 1, 2, 2, 2, 1, 2, 1, 1, 2, 2, 2, 1, 1, 2, 1, 4, 1, 2, 1, 1, 2, 1, 1, 2, 1, 1, 1, 10, 1, 1, 1, 1, 2, 1, 1, 1, 1, 1, 1, 1, 1, 1, 1, 1, 1, 1, 4, 2, 1, 1, 1, 1, 1, 2, 1, 1, 3, 1, 2, 6, 1, 2, 1, 1, 1, 2, 2, 2, 1, 1, 1, 1, 2, 1, 2, 2, 1, 1, 2, 5, 2, 1, 1, 1, 1, 1, 1, 1, 1, 1, 1, 1, 2, 1, 1, 2, 1, 2, 1, 2, 1, 1, 2, 1, 1, 1, 2, 1, 1, 1, 1, 2, 1, 1, 1, 3, 1, 2, 2, 2, 2, 3, 2, 13, 4, 24, 1, 5, 6, 1, 2, 3, 1, 1, 2, 1, 1, 8, 2, 1, 1, 2, 1, 1, 1, 1, 1, 2, 1, 1, 1, 1, 1, 1, 1, 2, 1, 2, 2, 2, 2, 1, 1, 1, 1, 1, 1, 1, 1, 1, 2, 1, 3, 2, 3, 1, 1, 1, 1, 1, 1, 1, 1, 1, 2, 2, 1, 2, 1, 2, 1, 1, 1, 2, 1, 2, 10, 2, 2, 2, 15, 4, 3, 1, 3, 2, 2, 9, 2, 6, 2, 2, 1, 1, 1, 1, 1, 1, 3, 5, 4, 1, 2, 3, 2, 2, 16, 2, 2, 1, 1, 3, 1, 6, 2, 1, 1, 1, 1, 1, 1, 2, 1, 1, 1, 1, 1, 1, 1, 1, 1, 1, 1, 1, 2, 1, 2, 1, 2, 1, 1, 4, 1, 2, 2, 2, 1, 2, 2, 1, 1, 3, 1, 1, 1, 1, 1, 1, 1, 9, 4, 2, 1, 2, 1, 1, 1, 1, 2, 2, 1, 2, 2, 1, 1, 1, 2, 10, 1, 1, 3, 1, 1, 1, 1, 2, 1, 4, 3, 1, 1, 3, 2, 2, 7, 1, 2, 1, 1, 1, 1, 1, 3, 2, 1, 3, 1, 2, 2, 2, 1, 2, 2, 2, 2, 1, 1, 1, 3, 2, 2, 2, 2, 2, 2, 2, 1, 2, 2, 2, 1, 1, 2, 1, 1, 2, 1, 1, 2, 1, 8, 1, 1, 1, 1, 1, 2, 2, 1, 1, 2, 1, 1, 1, 2, 1, 2, 1, 1, 2, 2, 2, 2, 2, 2, 2, 1, 1, 2, 1, 1, 1, 3, 1, 4, 1, 1, 5, 1, 2, 1, 4, 1, 2, 1, 1, 1, 2, 2, 2, 2, 2, 1, 1, 1, 1, 1, 1, 1, 1, 1, 1, 1, 7, 1, 2, 3, 1, 1, 1, 1, 1, 1, 1, 2, 3, 2, 1, 2, 1, 1, 1, 1, 3, 3, 2, 2, 2, 2, 1, 1, 2, 1, 2, 2, 1, 2, 2, 1, 1, 2, 2, 2, 2, 1, 1, 2, 1, 1, 4, 3, 4, 2, 2, 1, 1, 1, 2, 3, 1, 1, 1, 3, 1, 1, 1, 1, 1, 1, 1, 2, 1, 1, 1, 2, 1, 1, 1, 1, 2, 1, 1, 1, 1, 1, 1, 1, 3, 1, 1, 1, 1, 1, 1, 1, 1, 1, 1, 1, 1, 1, 1, 1, 1, 1, 1, 1, 1, 1, 2, 2, 1, 1, 1, 1, 1, 1, 1, 1, 1, 1, 1, 1, 1, 1, 2, 1, 2, 3, 1, 1, 3, 1, 1, 1, 1, 1, 2, 2, 1, 1, 2, 2, 2, 1, 1, 1, 1, 1, 1, 1, 2, 1, 4, 1, 2, 1, 1, 1, 2, 3, 2, 1, 1, 1, 1, 2, 1, 1, 1, 1, 1, 1, 2, 1, 1, 1, 1, 1, 2, 2, 2, 1, 1, 2, 1, 1, 2, 2, 1, 3, 2, 3, 2, 2, 2, 1, 2, 2, 2, 1, 1, 2, 1, 1, 2, 1, 1, 1, 1, 1, 2, 1, 1, 2, 6, 1, 1, 2, 2, 2, 1, 3, 2, 1, 1, 2, 1, 1, 2, 1, 1, 2, 1, 1, 1, 3, 1, 2, 2, 1, 1, 2, 2, 2, 2, 2, 2, 2, 2, 3, 3, 2, 1, 1, 2, 2, 2, 2, 2, 2, 2, 2, 2, 2, 1, 1, 1, 2, 1, 1, 1, 2, 8, 5, 1, 1, 2, 2, 1, 1, 1, 4, 4, 1, 1, 2, 4, 2, 2, 2, 2, 2, 2, 2, 1, 2, 2, 1, 1, 1, 4, 1, 1, 2, 2, 1, 2, 2, 1, 1, 4, 3, 1, 2, 4, 2, 1, 2, 2, 2, 1, 1, 2, 4, 1, 3, 1, 1, 1, 1, 2, 2, 1, 1, 1, 1, 1, 1, 1, 2, 5, 2, 2, 2, 1, 11, 2, 2, 2, 3, 1, 2, 1, 2, 2, 1, 3, 2, 1, 5, 2, 4, 1, 2, 2, 1, 2, 1, 1, 2, 2, 1, 2, 1, 1, 1, 2, 2, 1, 2, 2, 1, 1, 2, 3, 2, 1, 1, 1, 1, 1, 1, 2, 1, 1, 2, 2, 2, 1, 1, 2, 1, 1, 1, 1, 1, 2, 1, 1, 1, 1, 3, 2, 2, 2, 2, 2, 2, 2, 2, 1, 2, 2, 1, 1, 2, 2, 1, 5, 1, 1, 1, 1, 2, 2, 1, 2, 1, 2, 2, 3, 1, 1, 4, 3, 1, 1, 1, 2, 2, 1, 1, 1, 1, 1, 1, 1, 1, 1, 1, 1, 3, 2, 2, 1, 2, 1, 3, 2, 1, 1, 1, 2, 1, 1, 3, 1, 1, 1, 1, 2, 1, 2, 1, 1, 1, 1, 1, 2, 1, 2, 2, 1, 1, 1, 1, 1, 1, 1, 1, 1, 1, 1, 1, 1, 1, 2, 1, 3, 1, 1, 2, 2, 3, 3, 2, 1, 2, 1, 2, 1, 1, 1, 2, 3, 2, 1, 1, 4, 2, 1, 2, 1, 3, 2, 2, 2, 1, 1, 1, 4, 2, 1, 4, 2, 2, 2, 2, 2, 1, 1, 2, 1, 2, 2, 1, 1, 1, 1, 1, 2, 2, 2, 2, 2, 1, 1, 2, 1, 2, 3, 1, 1, 2, 1, 1, 1, 1, 1, 1, 1, 1, 19, 2, 2, 2, 1, 1, 2, 3, 1, 1, 1, 1, 1, 1, 1, 2, 2, 2, 2, 2, 2, 3, 2, 2, 1, 1, 3, 2, 1, 2, 2, 1, 1, 3, 1, 1, 1, 2, 1, 1, 1, 1, 1, 1, 1, 1, 1, 3, 2, 2, 1, 15, 2, 2, 1, 1, 2, 1, 4, 1, 1, 1, 1, 1, 1, 1, 2, 2, 2, 1, 1, 3, 3, 1, 2, 2, 1, 1, 1, 1, 2, 1, 1, 2, 2, 2, 2, 1, 1, 1, 1, 1, 1, 1, 1, 2, 1, 2, 1, 1, 1, 2, 1, 2, 1, 1, 1, 1, 1, 1, 1, 1, 2, 1, 1, 1, 1, 1, 1, 2, 1, 2, 2, 5, 4, 3, 4, 2, 2, 1, 1, 3, 2, 5, 4, 2, 4, 2, 7, 6, 5, 1, 1, 1, 1, 1, 1, 9, 4, 2, 1, 2, 2, 2, 2, 1, 2, 1, 2, 3, 2, 1, 1, 1, 2, 1, 1, 5, 1, 1, 3, 1, 1, 2, 1, 1, 1, 1, 2, 1, 2, 4, 1, 6, 2, 2, 2, 3, 1, 2, 3, 1, 2, 1, 1, 1, 1, 2, 1, 1, 1, 3, 4, 2, 1, 1, 2, 2, 2, 1, 1, 1, 1, 1, 2, 1, 1, 1, 1, 5, 2, 2, 1, 2, 1, 1, 1, 1, 1, 1, 2, 1, 1, 1, 1, 1, 1, 1, 1, 1, 1, 2, 1, 2, 2, 1, 3, 1, 1, 1, 1, 1, 2, 1, 1, 2, 1, 2, 1, 2, 2, 1, 2, 1, 2, 1, 2, 1, 2, 1, 3, 1, 2, 1, 2, 1, 2, 1, 1, 1, 1, 1, 1, 2, 2, 1, 2, 1, 1, 1, 1, 1, 2, 1, 2, 2, 1, 1, 1, 3, 1, 2, 1, 1, 2, 1, 1, 1, 1, 1, 2, 1, 1, 1, 3, 1, 1, 2, 3, 2, 1, 2, 2, 1, 2, 1, 2, 2, 1, 1, 1, 1, 2, 2, 2, 1, 2, 1, 2, 2, 3, 3, 1, 1, 1, 3, 2, 1, 1, 2, 1, 3, 2, 1, 1, 2, 2, 1, 1, 2, 1, 1, 1, 1, 1, 1, 1, 2, 2, 3, 2, 1, 3, 3, 2, 1, 2, 1, 1, 2, 1, 1, 1, 1, 2, 1, 2, 1, 2, 2, 2, 1, 2, 2, 1, 1, 1, 1, 1, 1, 1, 1, 1, 1, 1, 2, 1, 2, 2, 1, 1, 2, 3, 1, 1, 1, 2, 3, 1, 1, 1, 1, 4, 1, 3, 1, 2, 1, 2, 1, 1, 1, 2, 2, 2, 1, 2, 2, 1, 1, 1, 1, 2, 2, 2, 2, 2, 2, 1, 1, 1, 1, 1, 3, 2, 4, 2, 1, 1, 2, 1, 1, 2, 2, 3, 2, 1, 1, 1, 1, 2, 2, 1, 1, 2, 2, 1, 1, 1, 1, 2, 1, 1, 1, 2, 2, 2, 1, 1, 1, 1, 1, 1, 1, 1, 1, 1, 1, 1, 1, 2, 1, 1, 1, 1, 1, 1, 1, 1, 1, 1, 1, 2, 1, 1, 1, 1, 1, 3, 2, 1, 1, 16, 2, 1, 2, 2, 1, 1, 1, 2, 2, 2, 2, 3, 1, 2, 1, 1, 1, 2, 1, 1, 1, 1, 1, 2, 2, 3, 3, 1, 2, 1, 1, 2, 1, 2, 2, 2, 2, 2, 1, 1, 1, 1, 3, 9, 2, 2, 3, 3, 7, 3, 2, 3, 2, 2, 2, 2, 2, 2, 2, 1, 1, 1, 1, 1, 2, 3, 1, 2, 2, 1, 1, 1, 1, 2, 1, 1, 2, 1, 2, 1, 1, 1, 1, 2, 2, 1, 3, 1, 1, 2, 6, 13, 3, 1, 1, 2, 2, 4, 1, 1, 2, 2, 1, 1, 2, 2, 1, 1, 1, 1, 2, 2, 1, 1, 1, 2, 1, 1, 1, 1, 1, 3, 1, 2, 2, 2, 2, 2, 2, 2, 1, 1, 1, 1, 3, 1, 1, 1, 1, 1, 1, 1, 1, 1, 2, 2, 1, 3, 1, 1, 2, 2, 3, 1, 1, 1, 1, 1, 2, 2, 3, 2, 10, 1, 1, 1, 2, 1, 1, 1, 1, 1, 1, 1, 1, 1, 1, 1, 2, 4, 1, 1, 12, 4, 1, 1, 1, 1, 1, 1, 2, 2, 1, 2, 1, 2, 3, 1, 2, 3, 1, 3, 1, 1, 1, 1, 1, 5, 2, 2, 2, 2, 2, 1, 2, 1, 2, 2, 1, 1, 2, 1, 1, 1, 1, 1, 1, 1, 2, 2, 2, 2, 4, 2, 2, 3, 1, 2, 2, 1, 2, 1, 4, 1, 1, 7, 1, 1, 1, 1, 2, 1, 1, 2, 2, 3, 1, 2, 2, 1, 1, 1, 1, 1, 1, 1, 1, 2, 1, 2, 1, 1, 2, 1, 3, 1, 1, 1, 1, 2, 2, 1, 1, 1, 1, 2, 1, 1, 2, 1, 1, 1, 1, 1, 2, 4, 2, 3, 2, 1, 1, 2, 3, 1, 4, 1, 1, 1, 1, 1, 3, 1, 1, 1, 4, 3, 2, 3, 1, 1, 1, 5, 1, 1, 3, 1, 1, 1, 2, 1, 1, 1, 2, 1, 1, 2, 1, 1, 1, 1, 1, 1, 1, 2, 2, 1, 2, 1, 1, 2, 1, 1, 2, 1, 3, 1, 2, 1, 2, 1, 1, 1, 1, 1, 1, 3, 2, 2, 1, 3, 2, 1, 18, 5, 5, 9, 1, 3, 1, 1, 1, 1, 1, 1, 1, 1, 1, 1, 2, 1, 1, 2, 2, 1, 2, 1, 1, 1, 1, 3, 3, 2, 2, 2, 2, 2, 1, 2, 2, 2, 1, 2, 1, 1, 1, 1, 1, 1, 1, 2, 2, 1, 2, 1, 2, 2, 4, 1, 1, 1, 1, 1, 1, 1, 3, 4, 1, 1, 1, 1, 1, 2, 1, 1, 1, 2, 3, 2, 1, 1, 2, 2, 1, 1, 2, 3, 9, 2, 4, 2, 2, 2, 2, 1, 3, 2, 2, 2, 2, 3, 2, 1, 1, 4, 2, 1, 3, 2, 2, 2, 2, 1, 1, 1, 5, 1, 1, 2, 2, 2, 3, 1, 3, 1, 1, 2, 1, 2, 1, 2, 1, 1, 1, 1, 2, 1, 2, 4, 2, 2, 1, 1, 4, 1, 5, 2, 1, 2, 2, 2, 2, 2, 2, 3, 2, 2, 2, 2, 1, 2, 2, 2, 1, 1, 1, 2, 1, 1, 1, 2, 2, 1, 1, 1, 2, 1, 1, 1, 1, 2, 1, 1, 1, 1, 2, 1, 1, 1, 1, 1, 1, 1, 1, 1, 1, 1, 1, 2, 2, 3, 2, 5, 1, 2, 7, 1, 1, 2, 1, 1, 2, 2, 2, 1, 1, 1, 1, 1, 1, 1, 1, 1, 2, 1, 1, 1, 3, 2, 2, 1, 1, 2, 1, 3, 3, 2, 4, 2, 1, 1, 1, 5, 2, 1, 1, 1, 1, 2, 2, 1, 1, 1, 3, 1, 1, 1, 1, 1, 1, 1, 1, 1, 2, 2, 2, 2, 1, 1, 2, 1, 1, 2, 1, 1, 1, 1, 1, 2, 2, 1, 1, 1, 1, 1, 1, 1, 2, 2, 1, 1, 1, 1, 1, 1, 2, 1, 2, 2, 3, 2, 1, 2, 2, 1, 2, 1, 2, 1, 2, 2, 3, 1, 1, 1, 1, 1, 1, 1, 1, 1, 4, 1, 1, 1, 1, 1, 1, 1, 1, 1, 1, 1, 1, 1, 1, 1, 1, 1, 1, 1, 1, 2, 1, 1, 1, 1, 2, 5, 1, 8, 1, 1, 2, 1, 1, 1, 1, 1, 1, 2, 1, 1, 2, 1, 1, 1, 2, 1, 1, 1, 1, 1, 1, 1, 1, 1, 1, 1, 1, 1, 1, 1, 1, 1, 1, 1, 1, 1, 2, 1, 2, 1, 1, 2, 4, 1, 2, 1, 3, 2, 2, 2, 1, 1, 2, 2, 2, 2, 2, 2, 1, 1, 2, 1, 2, 1, 1, 1, 1, 1, 1, 1, 2, 1, 1, 2, 1, 1, 1, 1, 1, 1, 2, 2, 1, 1, 2, 2, 2, 1, 3, 1, 1, 1, 6, 1, 1, 1, 1, 1, 1, 2, 1, 1, 1, 1, 2, 2, 1, 2, 2, 1, 5, 1, 1, 1, 2, 1, 2, 1, 3, 1, 1, 1, 1, 1, 2, 1, 4, 2, 2, 2, 1, 1, 1, 2, 1, 2, 2, 1, 1, 2, 1, 1, 1, 1, 2, 1, 2, 1, 1, 2, 1, 1, 1, 2, 1, 1, 1, 1, 1, 1, 1, 3, 1, 3, 2, 1, 1, 1, 1, 1, 3, 3, 2, 1, 1, 1, 1, 1, 1, 20, 1, 1, 1, 1, 2, 2, 1, 3, 1, 1, 2, 1, 2, 1, 2, 1, 1, 1, 1, 2, 2, 2, 1, 2, 2, 1, 1, 1, 1, 1, 2, 1, 1, 1, 1, 20, 2, 2, 1, 1, 1, 1, 1, 1, 1, 1, 2, 1, 1, 1, 1, 1, 2, 1, 2, 2, 3, 1, 1, 2, 2, 2, 1, 3, 2, 1, 1, 2, 1, 2, 1, 1, 1, 1, 1, 2, 1, 1, 2, 1, 2, 1, 2, 1, 1, 1, 1, 1, 1, 1, 1, 1, 1, 1, 1, 1, 1, 1, 1, 1, 1, 1, 8, 2, 1, 2, 6, 1, 1, 2, 2, 1, 5, 3, 1, 1, 2, 1, 1, 2, 1, 1, 1, 2, 2, 1, 2, 2, 1, 1, 2, 1, 3, 1, 1, 2, 1, 1, 1, 1, 2, 1, 1, 1, 1, 3, 1, 1, 1, 1, 2, 1, 1, 1, 1, 1, 1, 1, 1, 1, 1, 1, 1, 1, 2, 1, 2, 1, 1, 1, 1, 1, 2, 2, 8, 2, 1, 2, 1, 1, 3, 1, 1, 2, 3, 2, 1, 1, 1, 1, 1, 1, 1, 1, 1, 1, 1, 6, 2, 2, 8, 2, 1, 2, 1, 1, 2, 3, 1, 2, 1, 1, 1, 1, 2, 2, 1, 2, 1, 1, 15, 2, 6, 1, 1, 1, 1, 1, 2, 1, 2, 1, 1, 1, 1, 1, 1, 2, 1, 1, 2, 1, 4, 1, 2, 4, 1, 1, 1, 2, 1, 1, 3, 4, 2, 2, 1, 2, 2, 1, 2, 1, 1, 2, 2, 1, 1, 1, 1, 1, 3, 2, 4, 2, 1, 1, 1, 2, 1, 1, 1, 1, 1, 1, 1, 1, 1, 1, 1, 1, 2, 1, 2, 2, 1, 1, 1, 2, 19, 2, 1, 2, 1, 2, 1, 1, 1, 1, 1, 3, 1, 1, 1, 1, 1, 1, 2, 2, 1, 2, 1, 2, 2, 2, 2, 2, 1, 2, 1, 1, 2, 1, 1, 1, 2, 2, 1, 1, 1, 1, 1, 1, 1, 1, 1, 1, 1, 1, 1, 1, 1, 1, 3, 1, 1, 1, 1, 1, 2, 1, 9, 1, 2, 2, 1, 1, 1, 1, 1, 1, 1, 1, 1, 2, 1, 1, 2, 2, 2, 2, 1, 1, 1, 2, 2, 1, 1, 1, 1, 2, 1, 2, 1, 1, 2, 1, 1, 3, 1, 1, 1, 1, 2, 2, 1, 1, 1, 1, 2, 3, 1, 1, 3, 7, 1, 1, 1, 1, 1, 3, 1, 2, 2, 1, 2, 1, 2, 3, 1, 2, 2, 1, 2, 1, 2, 2, 2, 1, 1, 1, 1, 2, 2, 1, 1, 2, 1, 1, 2, 1, 1, 1, 1, 1, 1, 1, 3, 2, 1, 1, 2, 2, 2, 1, 2, 1, 1, 1, 2, 1, 1, 1, 2, 1, 1, 2, 1, 1, 2, 2, 2, 1, 2, 2, 2, 2, 1, 2, 2, 2, 2, 2, 2, 2, 1, 2, 2, 2, 2, 1, 2, 6, 1, 3, 2, 1, 1, 1, 2, 3, 1, 2, 4, 2, 2, 1, 1, 2, 2, 1, 1, 3, 1, 3, 1, 2, 1, 1, 1, 2, 2, 1, 2, 2, 1, 1, 1, 1, 1, 2, 2, 2, 1, 1, 2, 1, 2, 2, 2, 3, 3, 2, 1, 1, 1, 2, 1, 1, 1, 1, 1, 1, 1, 2, 1, 1, 2, 1, 1, 1, 1, 2, 1, 1, 4, 1, 1, 1, 1, 1, 1, 2, 1, 2, 1, 1, 1, 1, 1, 1, 1, 1, 1, 1, 2, 2, 2, 2, 2, 2, 1, 1, 1, 1, 1, 1, 1, 1, 1, 1, 2, 3, 1, 2, 2, 2, 3, 2, 2, 2, 1, 1, 1, 1, 1, 1, 1, 1, 1, 2, 1, 1, 1, 1, 1, 1, 1, 2, 2, 1, 2, 1, 6, 1, 1, 1, 1, 1, 1, 1, 1, 2, 2, 1, 2, 1, 1, 1, 1, 1, 2, 1, 2, 1, 1, 1, 2, 1, 1, 1, 1, 1, 1, 1, 1, 1, 1, 1, 1, 1, 1, 1, 1, 1, 1, 1, 1, 1, 1, 1, 1, 1, 1, 2, 2, 1, 1, 1, 1, 1, 1, 1, 1, 1, 1, 1, 2, 2, 2, 1, 2, 13, 1, 1, 1, 1, 1, 1, 1, 1, 1, 1, 1, 1, 1, 1, 1, 2, 1, 1, 1, 1, 1, 1, 1, 1, 1, 1, 2, 2, 1, 2, 1, 2, 1, 1, 1, 1, 1, 1, 1, 2, 2, 2, 1, 2, 1, 1, 1, 1, 2, 1, 2, 1, 1, 1, 1, 3, 1, 1, 1, 2, 1, 2, 1, 1, 1, 1, 1, 1, 1, 1, 2, 2, 2, 1, 2, 1, 1, 1, 3, 1, 1, 1, 1, 1, 1, 1, 1, 1, 1, 1, 1, 1, 1, 1, 2, 2, 1, 1, 1, 1, 1, 1, 1, 1, 1, 1, 1, 1, 1, 1, 2, 1, 1, 1, 1, 1, 2, 1, 1, 1, 1, 2, 2, 3, 2, 1, 1, 2, 2, 1, 1, 1, 1, 1, 1, 1, 1, 2, 1, 2, 1, 1, 1, 1, 1, 1, 1, 1, 2, 2, 3, 1, 1, 1, 1, 1, 2, 2, 1, 1, 1, 1, 1, 2, 1, 1, 1, 1, 1, 1, 1, 1, 1, 3, 1, 2, 2, 1, 2, 1, 2, 1, 1, 1, 1, 1, 1, 1, 1, 2, 1, 1, 1, 1, 1, 1, 1, 1, 1, 2, 1, 1, 1, 1, 1, 1, 1, 1, 1, 1, 1, 1, 1, 1, 1, 1, 1, 1, 1, 1, 1, 1, 1, 1, 1, 1, 2, 1, 2, 1, 1, 1, 1, 1, 2, 2, 2, 1, 2, 1, 1, 1, 1, 1, 1, 2, 1, 1, 1, 2, 1, 1, 1, 2, 2, 1, 1, 1, 1, 1, 1, 1, 1, 1, 1, 1, 1, 2, 1, 1, 1, 2, 1, 1, 2, 1, 1, 1, 2, 1, 1, 2, 1, 1, 1, 1, 1, 1, 1, 1, 1, 2, 1, 1, 1, 1, 1, 2, 2, 1, 1, 1, 1, 2, 1, 2, 1, 1, 1, 2, 1, 1, 1, 1, 1, 1, 1, 1, 1, 1, 1, 1, 1, 1, 1, 1, 1, 1, 1, 1, 1, 1, 1, 2, 1, 1, 2, 2, 1, 1, 1, 1, 2, 2, 1, 1, 1, 3, 1, 1, 3, 1, 1, 1, 1, 1, 1, 3, 1, 2, 1, 1, 1, 1, 1, 3, 2, 1, 1, 1, 2, 1, 2, 1, 1, 1, 3, 2, 2, 1, 3, 1, 1, 1, 1, 1, 2, 1, 2, 1, 2, 5, 6, 2, 6, 5, 1, 3, 4, 1, 2, 3, 9, 1, 1, 2, 1, 1, 3, 1, 1, 1, 2, 1, 2, 1, 1, 1, 1, 1, 1, 1, 1, 1, 2, 1, 1, 1, 2, 2, 2, 2, 1, 1, 1, 1, 1, 1, 1, 1, 2, 1, 1, 1, 1, 1, 1, 1, 1, 1, 1, 1, 1, 1, 1, 1, 1, 1, 2, 2, 1, 1, 1, 2, 2, 1, 2, 2, 1, 1, 2, 1, 1, 1, 1, 3, 1, 1, 1, 1, 1, 1, 1, 1, 1, 1, 1, 1, 1, 1, 1, 2, 1, 1, 1, 1, 1, 1, 1, 2, 1, 1, 1, 1, 1, 1, 1, 1, 1, 1, 1, 1, 1, 1, 1, 1, 2, 1, 1, 1, 1, 1, 2, 2, 2, 2, 3, 1, 1, 1, 1, 2, 1, 3, 2, 2, 1, 1, 1, 2, 1, 1, 2, 1, 1, 2, 2, 2, 2, 2, 2, 1, 1, 1, 1, 1, 1, 1, 1, 1, 1, 1, 1, 1, 1, 1, 1, 1, 1, 1, 2, 1, 1, 2, 1, 1, 1, 1, 1, 1, 1, 1, 1, 1, 1, 1, 1, 1, 1, 1, 2, 1, 1, 1, 2, 1, 1, 1, 1, 1, 1, 2, 1, 1, 1, 1, 1, 2, 1, 1, 2, 1, 2, 1, 2, 1, 3, 1, 1, 1, 1, 2, 1, 3, 1, 1, 1, 1, 1, 1, 1, 1, 1, 1, 2, 2, 2, 1, 1, 2, 1, 1, 2, 1, 2, 2, 1, 1, 1, 1, 1, 1, 1, 1, 1, 1, 1, 1, 4, 1, 1, 1, 2, 1, 1, 1, 7, 1, 1, 1, 1, 1, 1, 2, 1, 1, 1, 2, 2, 1, 1, 1, 1, 1, 1, 1, 1, 1, 1, 2, 2, 1, 1, 1, 1, 1, 1, 1, 1, 1, 8, 1, 1, 2, 1, 1, 2, 1, 1, 1, 1, 1, 1, 1, 1, 3, 1, 2, 1, 1, 1, 1, 1, 2, 1, 1, 1, 1, 1, 1, 1, 1, 2, 1, 1, 2, 1, 1, 1, 1, 1, 1, 1, 1, 1, 1, 1, 8, 1, 1, 1, 1, 1, 1, 2, 1, 2, 1, 1, 1, 1, 1, 1, 1, 1, 1, 1, 1, 1, 1, 1, 1, 1, 1, 2, 1, 1, 1, 1, 1, 1, 1, 1, 1, 1, 1, 1, 1, 2, 2, 1, 2, 1, 1, 2, 1, 1, 1, 1, 1, 2, 1, 1, 1, 1, 1, 1, 1, 1, 1, 1, 1, 1, 1, 1, 1, 1, 1, 1, 1, 1, 2, 2, 1, 1, 1, 1, 1, 2, 2, 1, 1, 1, 2, 1, 1, 2, 1, 1, 1, 1, 1, 2, 1, 5, 1, 1, 1, 3, 1, 1, 1, 1, 1, 1, 1, 1, 1, 1, 1, 1, 2, 1, 3, 1, 1, 2, 1, 2, 1, 2, 1, 2, 1, 4, 1, 1, 1, 1, 1, 1, 1, 2, 1, 1, 1, 1, 1, 1, 1, 1, 2, 2, 1, 1, 1, 1, 1, 1, 1, 1, 1, 1, 1, 1, 1, 1, 1, 1, 2, 2, 1, 2, 1, 1, 1, 1, 1, 3, 1, 1, 1, 1, 1, 1, 1, 1, 1, 2, 1, 1, 1, 1, 1, 1, 1, 1, 1, 2, 2, 2, 1, 1, 1, 1, 1, 1, 1, 1, 1, 1, 1, 1, 1, 1, 1, 1, 1, 4, 1, 1, 1, 1, 2, 2, 1, 1, 3, 1, 1, 1, 2, 2, 1, 2, 1, 1, 1, 1, 1, 2, 1, 2, 1, 1, 1, 1, 1, 1, 1, 1, 1, 1, 1, 1, 1, 1, 1, 1, 1, 2, 1, 1, 1, 1, 1, 1, 1, 1, 1, 1, 1, 1, 1, 1, 1, 2, 2, 1, 1, 1, 1, 2, 1, 2, 2, 1, 1, 1, 1, 1, 1, 1, 1, 1, 1, 1, 1, 2, 1, 1, 1, 1, 1, 1, 7, 2, 1, 1, 2, 1, 1, 1, 2, 1, 1, 1, 2, 2, 1, 2, 1, 1, 1, 1, 1, 1, 2, 1, 1, 1, 1, 1, 2, 1, 1, 2, 2, 2, 1, 1, 1, 3, 1, 2, 1, 1, 2, 1, 1, 2, 1, 2, 1, 1, 1, 1, 1, 1, 1, 1, 2, 1, 2, 1, 1, 2, 1, 2, 2, 1, 1, 1, 3, 1, 1, 1, 1, 1, 1, 1, 1, 1, 1, 1, 1, 1, 1, 1, 1, 1, 1, 2, 1, 3, 3, 1, 1, 1, 1, 1, 3, 1, 1, 1, 1, 1, 1, 1, 2, 1, 2, 1, 5, 1, 1, 1, 1, 1, 1, 1, 2, 1, 1, 1, 1, 1, 1, 1, 1, 1, 1, 1, 1, 1, 1, 1, 2, 1, 2, 1, 2, 2, 1, 1, 1, 1, 1, 1, 1, 1, 2, 1, 1, 1, 1, 1, 1, 2, 1, 1, 1, 1, 1, 1, 1, 1, 1, 1, 1, 1, 1, 1, 2, 1, 1, 1, 1, 1, 1, 1, 1, 1, 1, 1, 1, 2, 1, 1, 1, 1, 1, 1, 1, 1, 1, 1, 1, 1, 1, 1, 2, 1, 1, 1, 1, 1, 1, 1, 1, 2, 1, 1, 1, 1, 1, 1, 1, 1, 2, 1, 1, 1, 1, 1, 1, 1, 1, 1, 1, 1, 1, 1, 1, 1, 2, 2, 1, 1, 1, 1, 1, 1, 3, 1, 3, 1, 1, 1, 1, 1, 1, 1, 1, 1, 3, 1, 1, 3, 2, 2, 1, 1, 1, 1, 2, 1, 1, 1, 1, 1, 1, 1, 1, 1, 1, 1, 1, 1, 2, 1, 1, 1, 2, 1, 2, 1, 1, 1, 1, 2, 1, 1, 1, 2, 1, 1, 1, 1, 1, 3, 1, 2, 1, 1, 1, 1, 1, 1, 2, 1, 1, 1, 1, 3, 1, 1, 1, 1, 1, 1, 1, 1, 2, 2, 2, 1, 1, 1, 1, 1, 1, 1, 1, 1, 1, 1, 3, 1, 1, 1, 1, 1, 1, 1, 1, 1, 1, 1, 2, 1, 1, 1, 1, 1, 1, 1, 1, 1, 1, 1, 3, 1, 1, 2, 1, 1, 1, 1, 1, 1, 1, 2, 1, 1, 1, 1, 1, 1, 1, 3, 1, 1, 1, 2, 1, 1, 1, 1, 2, 1, 1, 1, 1, 1, 1, 1, 1, 1, 1, 1, 1, 1, 1, 1, 1, 1, 1, 1, 2, 2, 1, 1, 1, 1, 1, 1, 2, 1, 1, 1, 1, 1, 2, 1, 1, 1, 1, 1, 2, 1, 1, 1, 1, 2, 1, 1, 1, 1, 2, 1, 1, 1, 2, 1, 1, 1, 1, 1, 1, 1, 2, 1, 1, 1, 1, 1, 1, 1, 1, 1, 1, 1, 2, 1, 1, 1, 1, 1, 1, 1, 1, 1, 1, 1, 1, 1, 1, 2, 1, 1, 2, 1, 1, 1, 1, 1, 2, 1, 1, 2, 2, 1, 1, 1, 1, 1, 1, 1, 1, 1, 1, 1, 1, 1, 1, 1, 1, 1, 1, 1, 1, 1, 1, 1, 1, 1, 1, 1, 1, 1, 1, 1, 2, 2, 2, 1, 1, 1, 1, 1, 1, 1, 1, 1, 2, 1, 1, 1, 1, 2, 1, 1, 1, 1, 1, 1, 1, 1, 1, 1, 1, 1, 1, 1, 1, 1, 1, 3, 1, 1, 1, 1, 1, 1, 1, 1, 1, 2, 1, 1, 2, 1, 1, 1, 1, 1, 2, 1, 1, 1, 1, 1, 1, 3, 1, 1, 1, 1, 1, 1, 1, 1, 1, 1, 1, 1, 1, 1, 1, 1, 1, 1, 1, 1, 1, 1, 1, 1, 2, 1, 1, 1, 1, 2, 1, 1, 1, 1, 1, 1, 1, 1, 1, 1, 1, 1, 1, 1, 2, 1, 1, 1, 1, 1, 1, 4, 2, 1, 1, 1, 1, 1, 1, 1, 1, 1, 1, 1, 1, 1, 1, 1, 2, 1, 1, 1, 1, 1, 1, 1, 1, 3, 1, 1, 2, 1, 1, 1, 1, 2, 1, 1, 1, 1, 1, 1, 1, 1, 1, 1, 1, 2, 1, 1, 1, 1, 1, 2, 1, 1, 2, 2, 2, 1, 1, 1, 1, 1, 1, 1, 1, 1, 1, 1, 1, 1, 1, 1, 1, 1, 1, 1, 1, 1, 1, 1, 1, 1, 1, 1, 1, 1, 1, 1, 1, 1, 1, 1, 1, 1, 1, 1, 1, 1, 2, 1, 1, 1, 1, 1, 1, 1, 1, 1, 1, 1, 1, 1, 1, 1, 1, 1, 1, 1, 1, 2, 2, 1, 1, 1, 1, 1, 1, 2, 1, 1, 1, 1, 1, 1, 1, 1, 1, 2, 1, 1, 2, 1, 1, 1, 1, 1, 1, 1, 1, 1, 1, 1, 1, 1, 1, 1, 2, 1, 2, 1, 1, 1, 1, 1, 1, 1, 1, 1, 1, 1, 1, 1, 1, 1, 1, 1, 1, 2, 1, 1, 3, 1, 2, 1, 2, 1, 1, 1, 1, 1, 1, 1, 1, 1, 1, 1, 1, 2, 1, 1, 1, 1, 2, 1, 1, 1, 1, 1, 1, 1, 1, 1, 1, 1, 2, 1, 1, 1, 1, 1, 1, 1, 1, 1, 1, 1, 2, 1, 1, 1, 1, 1, 1, 1, 1, 1, 1, 1, 1, 1, 1, 1, 1, 1, 1, 1, 1, 1, 1, 1, 1, 1, 2, 2, 2, 2, 1, 1, 1, 1, 2, 1, 1, 1, 1, 2, 1, 1, 1, 1, 1, 1, 1, 1, 1, 1, 1, 2, 2, 1, 3, 1, 1, 1, 1, 1, 2, 1, 1, 1, 1, 1, 1, 1, 2, 1, 1, 1, 2, 1, 2, 1, 1, 1, 1, 1, 1, 2, 1, 1, 1, 1, 1, 1, 1, 1, 1, 2, 1, 1, 1, 1, 1, 1, 1, 1, 1, 1, 1, 1, 1, 1, 1, 1, 1, 1, 1, 1, 1, 1, 1, 1, 1, 1, 1, 1, 1, 1, 1, 1, 1, 1, 1, 1, 1, 1, 1, 1, 1, 1, 1, 1, 1, 1, 1, 1, 1, 1, 1, 1, 1, 1, 1, 1, 1, 1, 1, 1, 1, 1, 1, 1, 1, 2, 1, 1, 1, 1, 1, 1, 1, 1, 1, 1, 1, 1, 1, 1, 1, 1, 1, 1, 1, 1, 1, 1, 1, 1, 1, 2, 1, 1, 1, 2, 2, 1, 1, 1, 1, 1, 1, 1, 1, 1, 1, 1, 1, 1, 1, 1, 1, 1, 1, 1, 1, 1, 1, 1, 1, 1, 1, 1, 1, 1, 1, 1, 1, 1, 1, 1, 1]\n"
     ]
    }
   ],
   "source": [
    "caida_degree_sequence = find_degree_sequence(caida_graph)\n",
    "print(\"Degree Sequence:\", caida_degree_sequence)"
   ]
  },
  {
   "cell_type": "code",
   "execution_count": 100,
   "metadata": {},
   "outputs": [],
   "source": [
    "degree_sequence = caida_degree_sequence\n",
    "caida_configuration_model = configuration_model_with_deletion(degree_sequence)"
   ]
  },
  {
   "cell_type": "code",
   "execution_count": 101,
   "metadata": {},
   "outputs": [
    {
     "name": "stdout",
     "output_type": "stream",
     "text": [
      "Degree Sequence: [4, 4, 7, 20, 7, 1, 3, 5, 5, 5, 5, 5, 5, 3, 2, 11, 11, 3, 6, 5, 2, 4, 2, 2, 2, 3, 3, 4, 4, 1, 11, 4, 3, 3, 3, 4, 2, 1, 6, 1, 7, 3, 2, 3, 7, 7, 2, 3, 2, 1, 1, 3, 2, 3, 3, 2, 9, 8, 2, 2, 1, 2, 2, 4, 7, 7, 1, 1, 2, 2, 3, 3, 3, 3, 1, 2, 6, 9, 8, 7, 6, 8, 4, 1, 1, 1, 7, 1, 2, 1, 4, 1, 4, 2, 1, 5, 2, 4, 5, 1, 5, 4, 4, 4, 4, 1, 2, 9, 1, 5, 1, 2, 5, 1, 6, 27, 4, 6, 1, 5, 17, 3, 7, 4, 4, 3, 3, 2, 1, 4, 1, 16, 2, 14, 5, 1, 1, 1, 4, 20, 7, 2, 2, 3, 2, 2, 2, 2, 2, 2, 2, 2, 2, 3, 2, 2, 3, 2, 2, 2, 2, 2, 1, 3, 1, 10, 2, 6, 1, 2, 2, 2, 4, 1, 2, 8, 2, 4, 4, 8, 8, 9, 8, 9, 10, 10, 10, 10, 7, 6, 11, 11, 11, 12, 13, 12, 13, 11, 11, 13, 12, 14, 1, 6, 6, 2, 1, 1, 7, 6, 5, 8, 13, 7, 5, 6, 1, 2, 1, 3, 9, 8, 1, 2, 1, 2, 2, 2, 2, 2, 1, 2, 1, 2, 1, 2, 2, 1, 1, 15, 1, 3, 2, 7, 7, 8, 11, 9, 5, 3, 2, 5, 2, 5, 3, 5, 1, 1, 3, 4, 15, 3, 6, 3, 2, 3, 6, 2, 1, 2, 4, 1, 1, 5, 4, 3, 5, 4, 3, 1, 1, 1, 1, 1, 3, 7, 3, 6, 2, 1, 3, 3, 2, 1, 2, 2, 7, 7, 1, 6, 1, 1, 1, 5, 1, 1, 7, 7, 6, 10, 6, 6, 2, 10, 1, 1, 1, 1, 1, 1, 3, 2, 4, 4, 3, 16, 2, 4, 4, 4, 3, 3, 4, 5, 4, 1, 14, 1, 9, 1, 1, 1, 4, 4, 5, 4, 2, 5, 8, 3, 1, 1, 1, 4, 3, 1, 1, 11, 11, 11, 11, 11, 10, 11, 10, 11, 11, 11, 13, 4, 4, 1, 6, 6, 5, 6, 5, 5, 2, 2, 2, 2, 3, 4, 16, 16, 5, 4, 3, 2, 3, 3, 3, 2, 7, 3, 3, 3, 3, 5, 3, 3, 7, 1, 1, 3, 3, 1, 1, 1, 1, 2, 1, 1, 1, 1, 1, 5, 1, 1, 3, 3, 10, 1, 1, 3, 3, 1, 2, 4, 2, 5, 3, 5, 2, 1, 7, 2, 4, 7, 1, 9, 11, 3, 8, 1, 1, 2, 1, 1, 10, 2, 1, 8, 2, 5, 2, 6, 3, 1, 5, 4, 2, 2, 3, 10, 2, 3, 2, 3, 1, 2, 2, 1, 2, 2, 2, 3, 1, 2, 4, 3, 1, 3, 2, 3, 4, 5, 1, 2, 1, 2, 1, 3, 1, 5, 1, 4, 2, 2, 4, 1, 1, 1, 3, 13, 5, 5, 6, 6, 3, 3, 3, 1, 1, 1, 2, 2, 19, 1, 10, 1, 6, 4, 2, 1, 1, 1, 1, 1, 1, 2, 1, 2, 3, 4, 1, 1, 4, 15, 16, 4, 5, 1, 1, 4, 2, 2, 9, 4, 2, 2, 2, 2, 2, 4, 3, 2, 2, 1, 2, 2, 2, 1, 11, 2, 22, 22, 3, 3, 2, 4, 4, 2, 2, 4, 4, 3, 1, 1, 2, 3, 3, 2, 2, 2, 2, 3, 1, 2, 3, 3, 2, 2, 40, 39, 2, 2, 2, 2, 2, 1, 2, 2, 2, 2, 2, 2, 2, 2, 2, 2, 2, 3, 2, 2, 2, 2, 2, 2, 2, 2, 2, 2, 2, 2, 2, 2, 2, 3, 2, 2, 2, 2, 13, 2, 11, 2, 2, 4, 1, 2, 1, 2, 2, 2, 2, 2, 6, 1, 1, 1, 6, 3, 2, 1, 6, 1, 1, 1, 7, 10, 7, 7, 10, 8, 7, 8, 2, 1, 1, 2, 1, 2, 1, 2, 1, 4, 3, 2, 2, 2, 4, 2, 9, 2, 2, 7, 7, 2, 2, 2, 9, 2, 2, 2, 2, 2, 2, 2, 2, 3, 2, 2, 2, 1, 6, 1, 8, 2, 5, 1, 3, 2, 2, 1, 6, 1, 1, 1, 1, 1, 2, 2, 3, 3, 10, 3, 3, 3, 3, 1, 1, 15, 15, 15, 12, 15, 14, 15, 15, 15, 15, 15, 15, 13, 12, 12, 14, 3, 4, 3, 5, 2, 2, 1, 10, 1, 1, 2, 2, 3, 6, 8, 9, 1, 2, 9, 2, 6, 9, 6, 1, 1, 9, 2, 1, 2, 2, 4, 1, 1, 1, 6, 8, 8, 6, 3, 3, 2, 13, 13, 7, 7, 9, 1, 2, 7, 1, 3, 1, 1, 8, 10, 4, 7, 7, 7, 7, 3, 7, 5, 7, 9, 9, 9, 9, 9, 9, 9, 9, 10, 9, 3, 1, 1, 2, 2, 6, 2, 2, 6, 3, 2, 2, 4, 4, 7, 4, 5, 1, 2, 2, 13, 8, 2, 2, 2, 2, 2, 9, 2, 2, 2, 1, 3, 1, 4, 2, 3, 2, 2, 4, 1, 3, 1, 2, 3, 2, 2, 2, 2, 1, 2, 1, 2, 1, 1, 1, 11, 2, 2, 4, 3, 1, 2, 2, 2, 2, 3, 1, 1, 23, 20, 3, 3, 3, 1, 2, 2, 2, 2, 2, 2, 3, 2, 2, 2, 2, 2, 2, 2, 2, 2, 1, 2, 2, 2, 3, 3, 2, 3, 3, 3, 1, 1, 1, 3, 3, 1, 1, 1, 3, 1, 3, 5, 2, 7, 5, 4, 3, 3, 2, 3, 7, 5, 3, 4, 8, 4, 8, 5, 2, 4, 2, 7, 20, 10, 6, 4, 3, 4, 7, 3, 5, 2, 4, 11, 4, 8, 7, 2, 6, 4, 6, 9, 5, 3, 15, 9, 5, 2, 9, 2, 4, 8, 2, 2, 8, 2, 12, 7, 2, 3, 8, 9, 10, 8, 10, 8, 11, 10, 4, 6, 3, 3, 1, 1, 1, 1, 4, 4, 6, 7, 8, 2, 3, 2, 7, 3, 4, 2, 6, 4, 2, 5, 2, 4, 3, 8, 2, 27, 2, 6, 4, 4, 4, 9, 4, 4, 1, 2, 9, 5, 12, 2, 9, 3, 3, 9, 10, 4, 3, 4, 26, 2, 10, 2, 5, 4, 8, 8, 1, 3, 4, 2, 2, 3, 4, 3, 1, 4, 11, 4, 2, 3, 3, 2, 11, 5, 4, 4, 5, 7, 8, 2, 3, 4, 5, 3, 4, 1, 2, 6, 12, 2, 1, 2, 2, 8, 8, 8, 8, 8, 8, 8, 3, 3, 3, 3, 3, 2, 6, 6, 3, 2, 3, 2, 4, 3, 2, 5, 5, 2, 1, 7, 7, 7, 7, 7, 7, 16, 14, 15, 19, 17, 14, 15, 14, 14, 22, 14, 27, 17, 39, 4, 4, 4, 4, 3, 3, 1, 2, 1, 6, 11, 10, 1, 1, 1, 27, 10, 3, 19, 8, 8, 8, 8, 8, 8, 10, 11, 10, 10, 10, 10, 24, 10, 2, 2, 4, 12, 2, 32, 8, 16, 14, 4, 6, 7, 11, 3, 3, 4, 2, 4, 4, 4, 9, 2, 12, 2, 2, 4, 4, 4, 4, 4, 4, 16, 14, 1, 2, 3, 1, 2, 2, 3, 1, 4, 3, 2, 6, 2, 2, 6, 3, 2, 3, 2, 4, 2, 1, 1, 5, 5, 5, 5, 5, 10, 3, 1, 1, 12, 4, 2, 2, 4, 6, 6, 2, 2, 2, 3, 3, 2, 2, 2, 3, 1, 1, 3, 2, 12, 15, 1, 3, 2, 3, 3, 2, 2, 2, 1, 5, 5, 3, 6, 3, 2, 2, 1, 2, 2, 1, 1, 2, 2, 8, 1, 1, 1, 3, 1, 1, 1, 1, 1, 6, 6, 6, 6, 6, 6, 7, 1, 4, 3, 1, 4, 1, 2, 1, 2, 2, 3, 1, 5, 4, 4, 4, 4, 5, 5, 5, 5, 5, 6, 2, 3, 2, 5, 2, 2, 5, 5, 2, 11, 4, 3, 2, 3, 2, 11, 3, 2, 2, 1, 1, 2, 2, 3, 2, 3, 2, 2, 2, 2, 3, 2, 1, 1, 1, 3, 2, 2, 2, 2, 1, 3, 2, 2, 2, 2, 4, 3, 3, 1, 2, 2, 2, 1, 2, 1, 4, 3, 4, 3, 4, 1, 1, 10, 2, 1, 2, 3, 1, 2, 1, 2, 6, 2, 1, 2, 1, 3, 1, 1, 1, 5, 6, 2, 1, 1, 2, 3, 5, 3, 3, 1, 1, 1, 1, 3, 4, 2, 2, 2, 3, 2, 1, 2, 5, 3, 3, 2, 2, 3, 3, 3, 2, 2, 2, 2, 2, 5, 2, 1, 1, 2, 3, 1, 7, 1, 4, 3, 3, 3, 3, 5, 4, 3, 2, 1, 2, 4, 5, 2, 2, 3, 2, 2, 1, 3, 1, 2, 2, 1, 4, 5, 4, 5, 2, 3, 2, 1, 2, 1, 3, 13, 18, 18, 15, 14, 14, 13, 13, 13, 13, 13, 13, 13, 13, 1, 1, 2, 7, 7, 6, 6, 8, 3, 3, 2, 2, 2, 3, 2, 2, 5, 6, 7, 1, 3, 4, 2, 1, 4, 4, 4, 4, 6, 8, 4, 8, 3, 3, 7, 1, 8, 4, 1, 1, 2, 1, 1, 5, 5, 18, 26, 5, 7, 6, 3, 4, 1, 1, 7, 1, 9, 8, 9, 9, 9, 9, 9, 8, 1, 6, 1, 5, 8, 12, 5, 7, 6, 4, 4, 3, 3, 4, 6, 3, 4, 4, 4, 4, 4, 4, 4, 3, 3, 4, 3, 3, 4, 4, 3, 3, 4, 3, 3, 4, 4, 6, 4, 4, 8, 8, 6, 6, 5, 3, 3, 5, 5, 5, 4, 4, 4, 5, 3, 3, 3, 3, 4, 4, 4, 4, 6, 4, 4, 3, 3, 4, 7, 7, 5, 5, 6, 3, 3, 4, 3, 3, 4, 4, 5, 4, 4, 12, 6, 14, 5, 5, 9, 3, 5, 5, 16, 7, 3, 7, 7, 22, 8, 2, 7, 13, 7, 7, 8, 15, 9, 2, 3, 3, 3, 2, 2, 1, 4, 4, 6, 6, 2, 2, 10, 4, 4, 4, 4, 5, 2, 1, 2, 2, 6, 2, 2, 3, 4, 2, 2, 2, 2, 3, 3, 4, 4, 2, 2, 2, 2, 3, 2, 3, 3, 2, 3, 3, 2, 2, 8, 1, 4, 3, 15, 3, 2, 3, 7, 3, 2, 28, 3, 3, 2, 10, 8, 3, 3, 2, 4, 4, 15, 3, 3, 4, 2, 15, 2, 3, 2, 3, 6, 7, 6, 10, 6, 6, 3, 8, 4, 4, 1, 8, 2, 16, 3, 7, 2, 1, 2, 1, 2, 5, 4, 4, 1, 3, 2, 2, 2, 2, 19, 6, 11, 9, 9, 9, 9, 9, 9, 9, 9, 13, 2, 7, 7, 7, 7, 7, 7, 2, 3, 3, 9, 4, 2, 3, 3, 2, 2, 2, 2, 5, 5, 5, 5, 7, 5, 5, 3, 15, 15, 15, 15, 15, 15, 15, 15, 15, 15, 15, 15, 2, 3, 1, 1, 15, 3, 2, 3, 1, 1, 2, 3, 2, 2, 1, 1, 6, 6, 7, 7, 6, 3, 3, 3, 3, 2, 2, 3, 1, 3, 6, 2, 2, 2, 2, 1, 2, 2, 2, 2, 2, 1, 2, 1, 1, 14, 16, 14, 14, 9, 14, 14, 9, 9, 9, 10, 10, 10, 10, 10, 2, 5, 2, 1, 2, 2, 3, 4, 6, 1, 1, 1, 3, 20, 3, 2, 2, 1, 2, 1, 2, 2, 6, 3, 6, 1, 3, 5, 11, 6, 9, 2, 3, 2, 1, 1, 2, 5, 2, 2, 2, 3, 2, 3, 2, 2, 6, 3, 1, 2, 1, 2, 2, 4, 2, 4, 1, 2, 2, 2, 2, 2, 3, 4, 3, 3, 2, 3, 2, 2, 2, 1, 2, 1, 2, 8, 3, 3, 8, 3, 3, 4, 2, 2, 1, 5, 2, 4, 2, 2, 3, 3, 2, 6, 5, 7, 3, 2, 4, 1, 1, 1, 4, 4, 2, 3, 3, 1, 1, 1, 3, 7, 8, 7, 7, 7, 7, 7, 8, 1, 2, 6, 1, 1, 2, 2, 2, 2, 6, 2, 2, 3, 2, 2, 5, 1, 1, 1, 3, 3, 2, 4, 4, 4, 10, 9, 2, 2, 2, 2, 1, 2, 2, 1, 1, 2, 31, 2, 2, 2, 1, 1, 2, 6, 2, 1, 1, 2, 3, 1, 3, 2, 2, 2, 3, 3, 2, 2, 3, 2, 2, 2, 1, 2, 2, 15, 4, 2, 3, 15, 10, 10, 10, 10, 10, 11, 10, 10, 10, 2, 1, 1, 1, 1, 1, 1, 28, 28, 28, 28, 28, 28, 28, 28, 28, 28, 28, 28, 28, 28, 28, 28, 28, 28, 28, 28, 28, 28, 28, 28, 28, 28, 28, 28, 30, 4, 5, 5, 4, 4, 5, 1, 2, 2, 3, 1, 3, 1, 5, 2, 2, 1, 2, 3, 3, 3, 2, 4, 4, 2, 2, 8, 8, 1, 8, 9, 10, 7, 8, 10, 1, 2, 1, 1, 1, 1, 1, 6, 1, 1, 3, 2, 1, 1, 2, 2, 1, 9, 3, 19, 9, 9, 9, 9, 3, 12, 12, 11, 1, 2, 2, 3, 2, 3, 4, 9, 8, 8, 8, 8, 8, 3, 3, 9, 7, 8, 8, 7, 7, 7, 7, 2, 18, 17, 17, 20, 18, 20, 18, 16, 18, 18, 19, 18, 18, 18, 18, 18, 18, 18, 9, 8, 8, 8, 8, 8, 8, 8, 8, 1, 16, 3, 12, 3, 3, 3, 5, 2, 6, 2, 2, 2, 2, 1, 1, 1, 1, 2, 2, 2, 1, 3, 1, 3, 3, 4, 3, 2, 2, 1, 4, 3, 9, 3, 2, 5, 1, 1, 2, 3, 3, 8, 4, 5, 1, 19, 10, 11, 2, 2, 1, 1, 6, 19, 18, 17, 17, 17, 17, 17, 17, 17, 17, 17, 17, 17, 17, 19, 19, 2, 2, 19, 17, 2, 2, 1, 7, 7, 7, 7, 7, 7, 9, 9, 3, 3, 2, 3, 2, 1, 1, 1, 2, 7, 1, 2, 1, 5, 6, 4, 5, 5, 4, 4, 4, 4, 1, 5, 8, 5, 5, 5, 5, 3, 1, 1, 1, 1, 2, 3, 3, 3, 3, 3, 4, 4, 1, 1, 1, 1, 3, 1, 1, 3, 2, 10, 1, 5, 1, 3, 2, 8, 1, 3, 3, 17, 2, 1, 11, 13, 2, 17, 2, 3, 2, 2, 8, 2, 2, 4, 2, 14, 11, 11, 1, 2, 2, 1, 3, 1, 2, 17, 19, 28, 17, 16, 2, 18, 20, 15, 18, 16, 26, 15, 3, 1, 2, 1, 1, 1, 1, 3, 2, 2, 1, 1, 1, 1, 4, 4, 2, 2, 7, 2, 2, 7, 4, 4, 2, 2, 2, 1, 2, 2, 2, 1, 1, 1, 3, 10, 3, 10, 11, 13, 9, 9, 9, 10, 9, 9, 7, 3, 3, 4, 1, 1, 1, 1, 2, 1, 1, 1, 3, 1, 3, 1, 2, 1, 2, 1, 1, 2, 1, 1, 1, 1, 1, 6, 2, 12, 2, 2, 2, 2, 1, 1, 1, 1, 1, 1, 1, 1, 1, 1, 1, 1, 3, 3, 1, 1, 1, 2, 3, 1, 1, 1, 4, 1, 1, 1, 2, 3, 2, 10, 3, 3, 5, 5, 6, 2, 7, 2, 8, 2, 3, 2, 1, 1, 1, 1, 1, 1, 3, 1, 2, 7, 3, 2, 2, 1, 2, 1, 1, 1, 1, 3, 2, 1, 2, 1, 1, 1, 1, 5, 2, 7, 2, 2, 1, 2, 1, 7, 1, 6, 13, 3, 5, 2, 3, 2, 9, 2, 1, 1, 1, 1, 1, 1, 1, 1, 1, 3, 1, 1, 1, 2, 5, 1, 2, 4, 2, 2, 2, 2, 3, 2, 1, 1, 3, 2, 13, 1, 3, 2, 3, 2, 1, 1, 3, 2, 1, 2, 3, 2, 1, 2, 2, 6, 1, 1, 1, 1, 1, 1, 1, 1, 1, 1, 1, 3, 1, 2, 1, 2, 2, 6, 2, 2, 2, 2, 1, 2, 2, 2, 2, 1, 5, 5, 5, 3, 3, 6, 1, 2, 2, 4, 2, 1, 2, 4, 1, 4, 7, 6, 5, 4, 3, 1, 1, 1, 3, 3, 1, 1, 2, 2, 2, 1, 1, 1, 1, 2, 1, 1, 1, 2, 1, 1, 2, 1, 2, 2, 1, 1, 1, 4, 3, 2, 2, 2, 5, 58, 3, 57, 58, 58, 58, 57, 57, 57, 57, 57, 57, 57, 57, 57, 57, 57, 57, 57, 57, 58, 57, 57, 57, 57, 57, 57, 57, 57, 57, 57, 57, 57, 57, 57, 57, 57, 57, 57, 57, 57, 57, 57, 57, 57, 57, 57, 57, 57, 57, 57, 57, 57, 57, 57, 57, 57, 57, 57, 8, 2, 1, 1, 2, 13, 1, 1, 1, 2, 1, 1, 1, 1, 1, 1, 1, 1, 1, 1, 1, 1, 3, 3, 5, 4, 2, 3, 2, 3, 2, 3, 1, 4, 1, 2, 2, 1, 1, 1, 7, 8, 1, 2, 2, 8, 2, 2, 3, 4, 1, 5, 3, 1, 5, 3, 5, 7, 1, 8, 2, 2, 4, 5, 2, 2, 6, 5, 7, 1, 7, 2, 2, 4, 3, 2, 2, 10, 3, 2, 6, 5, 2, 10, 2, 4, 5, 4, 3, 8, 1, 7, 2, 4, 10, 4, 5, 4, 4, 6, 5, 4, 5, 5, 6, 4, 7, 3, 3, 10, 4, 10, 10, 5, 10, 10, 4, 1, 11, 6, 4, 1, 5, 2, 2, 2, 2, 1, 2, 2, 1, 2, 2, 2, 2, 2, 2, 2, 2, 1, 2, 2, 2, 2, 2, 2, 2, 1, 2, 1, 2, 2, 2, 2, 1, 2, 3, 2, 3, 2, 2, 2, 2, 1, 2, 1, 2, 1, 1, 1, 1, 3, 3, 3, 3, 7, 2, 4, 21, 18, 5, 2, 1, 1, 1, 2, 6, 1, 8, 1, 2, 2, 5, 5, 5, 5, 8, 3, 5, 3, 3, 1, 2, 2, 4, 2, 1, 3, 2, 8, 6, 6, 1, 1, 4, 5, 4, 4, 5, 1, 2, 3, 4, 2, 1, 2, 1, 3, 2, 1, 3, 1, 7, 22, 22, 6, 6, 3, 3, 3, 5, 13, 13, 15, 13, 13, 15, 14, 14, 14, 1, 8, 1, 1, 1, 1, 3, 5, 12, 1, 10, 1, 1, 1, 3, 1, 3, 2, 1, 1, 1, 1, 1, 2, 1, 2, 4, 1, 1, 1, 1, 1, 3, 1, 2, 2, 1, 1, 1, 3, 1, 3, 1, 1, 2, 1, 2, 2, 1, 35, 1, 1, 1, 1, 1, 1, 1, 1, 1, 1, 1, 1, 1, 1, 1, 1, 1, 1, 1, 1, 1, 1, 1, 1, 1, 1, 1, 1, 1, 1, 1, 1, 1, 1, 1, 10, 1, 3, 1, 1, 1, 1, 1, 8, 1, 8, 6, 1, 4, 1, 1, 3, 5, 4, 1, 1, 6, 8, 1, 1, 1, 1, 1, 4, 1, 1, 8, 1, 5, 1, 1, 1, 1, 1, 6, 2, 1, 1, 8, 4, 6, 6, 5, 5, 1, 1, 4, 3, 1, 6, 3, 4, 3, 17, 18, 4, 4, 4, 4, 2, 4, 2, 2, 2, 4, 4, 4, 4, 4, 3, 4, 1, 5, 7, 6, 8, 8, 7, 5, 2, 2, 2, 2, 2, 2, 3, 3, 2, 1, 1, 1, 1, 2, 1, 2, 2, 2, 5, 1, 2, 6, 6, 6, 6, 6, 14, 6, 1, 7, 2, 18, 17, 2, 2, 2, 3, 2, 1, 2, 2, 2, 2, 2, 2, 2, 2, 2, 1, 2, 4, 3, 1, 1, 1, 1, 2, 3, 1, 3, 1, 4, 4, 1, 1, 1, 1, 2, 1, 2, 1, 2, 1, 4, 2, 4, 1, 6, 6, 2, 7, 6, 2, 1, 3, 6, 5, 4, 5, 6, 4, 4, 14, 14, 3, 2, 4, 10, 7, 19, 6, 5, 8, 2, 4, 1, 6, 1, 4, 1, 4, 1, 7, 2, 1, 3, 1, 11, 1, 14, 1, 3, 1, 19, 1, 4, 1, 4, 1, 10, 16, 10, 10, 10, 10, 10, 10, 10, 2, 2, 12, 25, 35, 35, 13, 13, 13, 13, 36, 13, 13, 14, 13, 13, 9, 9, 9, 9, 9, 9, 4, 2, 7, 2, 2, 32, 21, 9, 3, 11, 11, 11, 11, 11, 11, 11, 11, 1, 2, 2, 1, 3, 1, 3, 2, 3, 7, 30, 3, 7, 1, 7, 27, 2, 15, 14, 1, 32, 2, 15, 25, 2, 2, 2, 8, 2, 2, 4, 2, 10, 2, 31, 11, 7, 2, 2, 2, 18, 18, 36, 18, 18, 18, 39, 18, 18, 18, 41, 37, 37, 18, 18, 39, 18, 18, 19, 3, 19, 19, 19, 19, 19, 19, 19, 19, 19, 19, 19, 19, 19, 19, 13, 2, 2, 8, 36, 10, 19, 2, 20, 14, 2, 2, 20, 13, 13, 13, 13, 13, 13, 13, 13, 2, 13, 2, 14, 2, 13, 2, 14, 2, 2, 26, 2, 33, 27, 22, 22, 22, 22, 4, 26, 2, 2, 3, 3, 2, 2, 22, 22, 22, 22, 22, 22, 22, 22, 22, 22, 22, 22, 22, 2, 29, 5, 2, 3, 6, 2, 3, 31, 2, 2, 15, 2, 3, 2, 3, 3, 20, 2, 11, 11, 11, 11, 11, 11, 11, 11, 11, 13, 13, 13, 13, 13, 13, 13, 13, 13, 13, 13, 2, 3, 3, 7, 2, 3, 3, 2, 2, 2, 2, 6, 16, 2, 2, 2, 2, 8, 2, 3, 3, 3, 2, 2, 2, 2, 26, 4, 1, 2, 2, 9, 11, 3, 2, 8, 3, 7, 26, 3, 22, 2, 2, 3, 2, 11, 9, 9, 9, 9, 9, 9, 9, 8, 8, 8, 8, 8, 8, 6, 2, 2, 2, 26, 6, 2, 2, 3, 3, 3, 2, 13, 8, 8, 8, 2, 2, 2, 2, 8, 8, 8, 8, 1, 3, 2, 2, 16, 7, 7, 7, 7, 11, 11, 11, 11, 11, 11, 11, 11, 10, 10, 10, 10, 10, 10, 10, 2, 2, 2, 2, 2, 2, 3, 2, 8, 2, 2, 8, 2, 2, 2, 2, 7, 11, 10, 12, 7, 13, 7, 7, 2, 2, 2, 2, 2, 2, 2, 2, 2, 7, 7, 7, 8, 7, 7, 1, 2, 10, 10, 10, 3, 10, 10, 10, 10, 10, 2, 2, 2, 3, 2, 7, 9, 4, 2, 3, 3, 3, 3, 2, 3, 6, 6, 6, 6, 3, 3, 2, 2, 2, 4, 4, 4, 2, 6, 6, 8, 12, 12, 12, 12, 12, 12, 8, 8, 2, 2, 2, 2, 2, 2, 2, 2, 2, 8, 8, 8, 12, 12, 12, 12, 2, 10, 2, 3, 2, 13, 12, 7, 2, 2, 2, 2, 5, 6, 2, 6, 6, 6, 6, 9, 2, 3, 2, 2, 2, 2, 2, 2, 3, 2, 2, 2, 2, 2, 2, 3, 4, 4, 3, 2, 2, 2, 1, 1, 2, 1, 2, 2, 2, 2, 8, 2, 1, 12, 16, 1, 3, 7, 2, 2, 3, 4, 4, 4, 2, 4, 4, 4, 5, 4, 2, 2, 2, 3, 2, 2, 2, 2, 2, 2, 2, 1, 1, 2, 3, 1, 1, 1, 2, 1, 1, 5, 2, 4, 3, 1, 2, 1, 1, 1, 2, 3, 1, 1, 2, 2, 2, 1, 1, 2, 2, 2, 2, 2, 2, 3, 1, 3, 3, 5, 1, 3, 1, 5, 2, 4, 3, 4, 2, 2, 1, 1, 2, 1, 1, 2, 19, 19, 18, 18, 18, 18, 18, 18, 18, 18, 18, 18, 18, 18, 18, 18, 18, 18, 18, 2, 3, 2, 2, 4, 1, 9, 3, 2, 3, 6, 1, 6, 6, 1, 4, 3, 4, 7, 7, 3, 18, 2, 2, 4, 6, 2, 2, 10, 2, 1, 3, 2, 7, 3, 1, 12, 1, 2, 3, 2, 3, 2, 2, 1, 1, 1, 1, 1, 3, 1, 2, 2, 2, 6, 1, 4, 5, 1, 1, 1, 1, 1, 1, 1, 1, 1, 1, 1, 1, 1, 1, 1, 1, 1, 1, 1, 1, 1, 1, 1, 1, 1, 1, 3, 5, 2, 2, 1, 1, 1, 1, 8, 2, 1, 3, 1, 1, 1, 1, 1, 1, 1, 1, 1, 5, 1, 1, 1, 1, 5, 1, 3, 2, 1, 1, 7, 6, 7, 1, 1, 1, 1, 2, 1, 1, 1, 3, 1, 2, 2, 2, 3, 2, 2, 1, 1, 5, 3, 2, 3, 2, 1, 3, 1, 1, 1, 1, 1, 1, 1, 2, 1, 1, 1, 1, 2, 1, 2, 2, 1, 2, 8, 7, 7, 7, 7, 7, 7, 7, 1, 1, 4, 2, 2, 1, 9, 7, 6, 6, 6, 6, 7, 2, 1, 5, 1, 1, 5, 1, 2, 2, 1, 17, 1, 12, 7, 7, 7, 7, 16, 20, 11, 11, 11, 11, 11, 11, 15, 11, 9, 2, 4, 1, 1, 2, 4, 1, 4, 3, 1, 1, 1, 10, 8, 1, 1, 1, 1, 1, 1, 1, 1, 1, 1, 1, 1, 1, 1, 1, 2, 3, 2, 5, 2, 1, 5, 1, 3, 5, 6, 1, 3, 1, 2, 4, 1, 3, 3, 3, 1, 1, 8, 5, 3, 6, 5, 5, 5, 5, 1, 1, 2, 1, 1, 3, 1, 1, 4, 4, 4, 4, 1, 1, 4, 1, 2, 4, 4, 5, 5, 4, 2, 10, 10, 4, 1, 10, 1, 12, 1, 1, 1, 6, 1, 9, 1, 1, 1, 2, 6, 44, 20, 11, 5, 5, 5, 4, 29, 29, 29, 16, 8, 8, 16, 16, 16, 5, 16, 16, 16, 16, 16, 16, 16, 16, 16, 16, 16, 16, 16, 16, 16, 16, 16, 16, 16, 16, 16, 16, 3, 2, 3, 6, 6, 6, 17, 13, 2, 2, 1, 6, 5, 6, 8, 4, 20, 2, 18, 21, 6, 6, 6, 6, 6, 6, 6, 6, 6, 6, 6, 6, 9, 7, 7, 4, 20, 5, 5, 2, 4, 5, 5, 5, 5, 9, 5, 5, 5, 5, 8, 8, 4, 4, 4, 4, 4, 4, 3, 6, 1, 31, 41, 3, 18, 25, 12, 3, 27, 3, 3, 4, 3, 2, 21, 43, 1, 26, 25, 12, 31, 4, 1, 7, 14, 3, 3, 1, 11, 1, 3, 3, 8, 15, 33, 20, 33, 2, 1, 15, 7, 12, 4, 45, 1, 28, 28, 15, 15, 15, 15, 15, 15, 15, 15, 15, 15, 15, 15, 15, 15, 15, 15, 15, 15, 15, 15, 15, 15, 15, 15, 15, 15, 6, 10, 10, 6, 5, 2, 5, 5, 2, 5, 5, 5, 5, 5, 9, 9, 9, 9, 10, 10, 5, 5, 5, 5, 5, 7, 7, 6, 6, 9, 6, 9, 2, 3, 3, 6, 3, 3, 2, 2, 5, 5, 5, 5, 5, 5, 5, 5, 5, 5, 1, 2, 2, 1, 1, 1, 1, 1, 1, 1, 1, 1, 1, 1, 2, 2, 2, 2, 2, 8, 8, 8, 8, 8, 8, 8, 8, 8, 8, 8, 8, 8, 8, 2, 2, 2, 2, 8, 24, 24, 24, 14, 8, 8, 5, 6, 6, 6, 14, 14, 14, 14, 14, 14, 14, 14, 14, 14, 14, 14, 14, 14, 5, 14, 14, 14, 14, 14, 8, 4, 2, 4, 5, 7, 7, 7, 7, 7, 7, 7, 7, 7, 7, 7, 7, 7, 7, 1, 2, 2, 2, 2, 2, 2, 2, 1, 1, 12, 5, 5, 5, 5, 5, 5, 5, 5, 5, 5, 5, 5, 12, 1, 2, 2, 2, 2, 18, 18, 18, 18, 18, 18, 18, 18, 18, 18, 18, 18, 18, 18, 18, 18, 18, 18, 18, 18, 18, 18, 18, 18, 18, 12, 5, 5, 5, 5, 2, 18, 2, 31, 31, 31, 31, 2, 12, 2, 4, 4, 4, 2, 25, 25, 25, 15, 15, 15, 15, 15, 15, 15, 15, 15, 15, 15, 14, 14, 14, 14, 14, 14, 14, 14, 14, 14, 4, 6, 6, 6, 6, 10, 6, 6, 6, 6, 12, 10, 10, 12, 4, 7, 9, 9, 8, 8, 4, 7, 2, 6, 6, 6, 6, 6, 6, 6, 6, 6, 6, 5, 5, 5, 5, 5, 5, 6, 6, 6, 6, 6, 6, 6, 6, 6, 6, 6, 6, 6, 6, 6, 6, 6, 6, 6, 6, 1, 2, 14, 2, 14, 9, 8, 7, 7, 6, 6, 6, 6, 6, 6, 2, 2, 2, 2, 2, 2, 1, 4, 4, 4, 4, 4, 4, 1, 1, 1, 4, 40, 15, 3, 40, 52, 41, 2, 2, 2, 2, 3, 2, 41, 41, 41, 41, 41, 41, 41, 41, 41, 41, 41, 41, 41, 41, 41, 41, 41, 41, 41, 41, 41, 41, 41, 41, 41, 41, 41, 41, 41, 41, 41, 51, 41, 41, 41, 41, 4, 39, 39, 44, 44, 2, 2, 1, 2, 16, 39, 33, 35, 35, 35, 9, 9, 40, 37, 37, 31, 37, 37, 37, 37, 33, 37, 35, 37, 37, 37, 37, 37, 37, 37, 37, 37, 37, 37, 37, 37, 37, 37, 37, 37, 37, 35, 35, 37, 33, 2, 5, 2, 2, 2, 3, 4, 13, 11, 11, 2, 16, 11, 13, 11, 11, 11, 11, 11, 11, 11, 15, 15, 14, 15, 10, 7, 7, 14, 19, 21, 11, 7, 54, 3, 38, 38, 4, 32, 32, 30, 33, 2, 2, 2, 2, 31, 31, 31, 31, 31, 31, 31, 31, 31, 31, 31, 31, 31, 31, 31, 31, 31, 31, 31, 31, 31, 31, 31, 31, 31, 2, 32, 2, 21, 24, 20, 1, 20, 20, 20, 20, 20, 20, 20, 20, 20, 20, 20, 20, 20, 20, 20, 20, 20, 24, 18, 17, 17, 17, 17, 17, 17, 18, 20, 17, 17, 21, 17, 17, 17, 17, 2, 17, 17, 2, 2, 2, 2, 2, 2, 2, 15, 13, 13, 13, 14, 2, 13, 13, 13, 13, 13, 13, 13, 13, 13, 2, 2, 2, 2, 2, 23, 23, 2, 2, 2, 2, 2, 2, 47, 47, 50, 45, 45, 45, 45, 45, 45, 45, 45, 45, 45, 45, 45, 45, 45, 45, 42, 45, 45, 45, 45, 45, 45, 2, 45, 43, 43, 9, 2, 43, 42, 43, 50, 1, 43, 45, 45, 45, 45, 45, 45, 45, 45, 45, 45, 45, 45, 45, 45, 45, 2, 1, 2, 37, 37, 41, 41, 41, 41, 38, 38, 38, 38, 41, 41, 41, 41, 41, 41, 41, 41, 41, 42, 41, 41, 41, 41, 41, 41, 41, 41, 41, 41, 41, 41, 41, 41, 41, 41, 38, 38, 38, 38, 15, 2, 2, 3, 3, 36, 35, 35, 35, 35, 35, 35, 35, 29, 35, 35, 35, 35, 35, 35, 35, 35, 35, 36, 34, 34, 35, 35, 39, 39, 34, 34, 34, 34, 1, 35, 35, 35, 35, 35, 35, 35, 1, 1, 2, 1, 1, 3, 2, 2, 2, 3, 2, 2, 11, 11, 2, 2, 40, 29, 32, 32, 32, 32, 32, 32, 32, 32, 32, 32, 32, 32, 32, 32, 32, 32, 32, 32, 32, 32, 32, 32, 29, 32, 32, 30, 29, 40, 2, 2, 34, 33, 2, 2, 29, 3, 4, 2, 2, 2, 2, 2, 2, 1, 22, 19, 20, 2, 2, 2, 2, 22, 18, 18, 18, 18, 18, 18, 18, 18, 18, 18, 18, 18, 18, 18, 18, 37, 31, 31, 31, 31, 31, 31, 31, 31, 31, 31, 34, 34, 31, 1, 1, 1, 1, 1, 1, 31, 31, 31, 31, 31, 31, 31, 31, 31, 31, 31, 31, 31, 31, 31, 31, 9, 10, 10, 8, 8, 8, 8, 8, 8, 1, 2, 10, 2, 2, 2, 2, 5, 2, 2, 15, 13, 13, 13, 13, 13, 13, 13, 13, 13, 13, 13, 13, 2, 14, 12, 12, 12, 12, 12, 12, 12, 12, 12, 12, 12, 2, 2, 2, 19, 2, 17, 17, 17, 17, 17, 17, 17, 17, 17, 16, 15, 15, 15, 15, 16, 17, 2, 14, 12, 12, 12, 12, 12, 12, 12, 12, 12, 12, 13, 2, 12, 2, 1, 7, 6, 4, 9, 10, 11, 9, 10, 4, 11, 3, 10, 8, 8, 8, 2, 8, 8, 8, 8, 2, 4, 36, 3, 36, 33, 2, 30, 28, 33, 30, 30, 33, 27, 33, 31, 29, 33, 29, 33, 33, 33, 33, 33, 33, 33, 33, 33, 33, 33, 33, 33, 33, 33, 31, 31, 33, 33, 9, 9, 9, 9, 9, 9, 9, 2, 9, 4, 3, 26, 26, 22, 22, 22, 22, 22, 22, 22, 22, 22, 22, 22, 22, 22, 22, 22, 22, 22, 22, 22, 2, 2, 11, 2, 9, 9, 9, 9, 9, 9, 9, 9, 2, 9, 9, 9, 9, 9, 9, 9, 9, 1, 1, 1, 1, 1, 1, 1, 3, 1, 2, 1, 2, 2, 2, 1, 3, 1, 1, 2, 2, 3, 1, 3, 1, 1, 4, 12, 13, 4, 7, 8, 3, 2, 2, 2, 2, 2, 2, 2, 2, 2, 1, 1, 4, 1, 9, 10, 1, 2, 4, 7, 1, 4, 3, 1, 1, 4, 1, 1, 1, 2, 3, 2, 4, 2, 1, 1, 3, 1, 10, 1, 11, 9, 9, 9, 9, 9, 9, 9, 9, 1, 1, 24, 1, 20, 18, 16, 1, 18, 1, 1, 1, 17, 16, 16, 1, 17, 15, 18, 17, 15, 1, 16, 1, 1, 16, 18, 1, 1, 1, 1, 1, 1, 1, 1, 1, 4, 1, 6, 1, 1, 4, 3, 5, 3, 2, 1, 3, 1, 2, 1, 8, 1, 2, 3, 1, 1, 2, 1, 1, 1, 1, 4, 4, 1, 3, 1, 1, 1, 1, 1, 1, 1, 1, 1, 2, 1, 1, 3, 2, 3, 3, 1, 2, 1, 2, 2, 1, 1, 3, 3, 1, 1, 1, 1, 1, 3, 1, 3, 1, 1, 1, 1, 1, 12, 1, 1, 1, 1, 1, 1, 1, 1, 1, 2, 1, 2, 19, 1, 1, 1, 1, 1, 1, 1, 1, 1, 1, 1, 1, 1, 1, 1, 1, 1, 1, 5, 1, 1, 1, 1, 1, 1, 1, 1, 3, 7, 3, 6, 2, 2, 1, 1, 1, 1, 1, 1, 1, 5, 7, 1, 1, 1, 1, 1, 2, 3, 2, 2, 1, 1, 2, 6, 1, 1, 2, 1, 1, 7, 3, 1, 2, 9, 1, 1, 15, 1, 16, 1, 1, 1, 1, 1, 1, 1, 3, 1, 2, 1, 1, 1, 1, 2, 7, 2, 1, 1, 1, 2, 1, 1, 1, 1, 1, 1, 1, 1, 1, 1, 1, 2, 1, 1, 1, 1, 1, 2, 2, 3, 4, 2, 1, 1, 2, 3, 1, 3, 3, 2, 2, 3, 1, 3, 8, 4, 4, 3, 2, 6, 9, 2, 6, 1, 2, 3, 3, 8, 1, 2, 3, 9, 6, 6, 6, 10, 6, 6, 11, 9, 13, 8, 8, 1, 8, 2, 12, 8, 8, 7, 7, 6, 3, 2, 4, 5, 1, 2, 2, 8, 2, 2, 6, 2, 6, 3, 3, 7, 10, 1, 1, 3, 2, 2, 4, 3, 9, 1, 3, 5, 3, 9, 6, 8, 8, 10, 9, 11, 9, 5, 1, 2, 2, 2, 2, 3, 1, 2, 2, 1, 1, 1, 1, 1, 1, 37, 29, 29, 29, 29, 29, 29, 29, 29, 29, 29, 29, 29, 29, 29, 29, 29, 29, 29, 29, 29, 29, 29, 29, 8, 8, 8, 8, 8, 9, 9, 9, 29, 29, 29, 29, 29, 29, 2, 2, 4, 8, 8, 5, 3, 1, 14, 9, 1, 6, 6, 5, 1, 9, 6, 3, 1, 12, 1, 1, 2, 3, 7, 4, 3, 4, 1, 1, 1, 3, 1, 1, 2, 2, 2, 1, 3, 1, 1, 1, 1, 1, 1, 1, 2, 2, 2, 2, 1, 4, 3, 1, 1, 1, 1, 6, 4, 4, 4, 2, 1, 1, 3, 1, 2, 1, 1, 3, 1, 2, 1, 2, 1, 1, 1, 1, 1, 3, 2, 2, 1, 1, 1, 2, 9, 6, 6, 6, 6, 6, 1, 3, 6, 1, 1, 1, 2, 2, 3, 1, 2, 1, 1, 1, 1, 6, 3, 3, 3, 1, 2, 1, 1, 2, 1, 1, 1, 3, 3, 6, 2, 2, 2, 2, 2, 1, 7, 2, 3, 3, 1, 6, 1, 2, 3, 2, 1, 1, 2, 5, 4, 3, 2, 3, 4, 9, 1, 2, 3, 2, 1, 1, 1, 2, 1, 1, 1, 1, 8, 1, 2, 7, 7, 6, 5, 1, 2, 2, 3, 2, 1, 2, 1, 1, 4, 1, 1, 4, 1, 2, 2, 1, 2, 4, 1, 8, 7, 7, 8, 7, 3, 3, 2, 4, 2, 2, 2, 5, 3, 7, 1, 1, 1, 2, 9, 2, 1, 1, 2, 1, 1, 2, 1, 1, 2, 1, 4, 4, 5, 1, 3, 5, 5, 5, 1, 1, 1, 1, 2, 1, 2, 1, 9, 7, 1, 1, 1, 1, 1, 2, 2, 1, 4, 2, 2, 1, 2, 1, 2, 1, 3, 2, 4, 2, 4, 3, 4, 5, 2, 2, 2, 2, 1, 2, 1, 1, 5, 2, 5, 4, 5, 1, 1, 2, 1, 2, 1, 2, 2, 5, 3, 2, 5, 1, 5, 1, 1, 1, 8, 2, 12, 5, 7, 5, 2, 1, 2, 7, 10, 1, 6, 1, 2, 1, 2, 1, 2, 2, 1, 1, 1, 1, 2, 1, 2, 1, 1, 2, 1, 1, 1, 1, 1, 1, 2, 2, 2, 4, 6, 5, 4, 5, 1, 3, 1, 3, 2, 5, 2, 2, 4, 12, 2, 2, 3, 6, 3, 4, 3, 3, 3, 1, 4, 1, 3, 1, 3, 8, 4, 2, 2, 3, 2, 2, 4, 1, 2, 2, 1, 2, 1, 2, 3, 2, 5, 1, 1, 2, 2, 2, 1, 3, 1, 4, 1, 12, 2, 1, 4, 1, 1, 1, 3, 3, 1, 11, 1, 1, 2, 4, 1, 5, 4, 1, 3, 1, 1, 3, 1, 1, 2, 2, 1, 5, 2, 4, 2, 1, 1, 8, 3, 2, 2, 1, 3, 6, 6, 6, 6, 6, 7, 1, 1, 1, 1, 4, 1, 1, 3, 2, 1, 9, 7, 9, 3, 2, 1, 3, 6, 1, 8, 3, 2, 4, 5, 2, 2, 3, 2, 1, 2, 3, 1, 2, 2, 1, 6, 5, 3, 1, 3, 3, 4, 3, 6, 1, 1, 1, 1, 1, 2, 4, 2, 4, 2, 5, 1, 1, 2, 2, 6, 3, 1, 5, 3, 2, 2, 2, 1, 1, 4, 1, 3, 1, 2, 1, 1, 1, 1, 3, 2, 1, 6, 6, 5, 5, 1, 1, 1, 4, 4, 3, 1, 1, 1, 2, 2, 1, 1, 2, 4, 1, 1, 1, 1, 3, 1, 1, 1, 1, 1, 1, 3, 3, 2, 1, 1, 1, 1, 1, 2, 3, 2, 3, 6, 7, 2, 6, 4, 4, 4, 4, 1, 4, 4, 4, 3, 7, 4, 4, 2, 2, 2, 1, 1, 1, 4, 8, 5, 3, 1, 2, 1, 2, 1, 3, 4, 2, 6, 7, 11, 6, 8, 6, 6, 1, 1, 2, 1, 1, 1, 1, 1, 1, 2, 3, 2, 1, 3, 5, 1, 1, 1, 9, 9, 9, 9, 9, 9, 9, 9, 9, 7, 4, 2, 10, 4, 5, 3, 3, 1, 2, 41, 45, 5, 3, 4, 5, 1, 1, 3, 4, 1, 3, 4, 1, 3, 2, 3, 3, 3, 1, 1, 2, 2, 1, 1, 3, 3, 3, 1, 1, 1, 8, 8, 7, 8, 8, 8, 7, 8, 1, 2, 1, 1, 1, 2, 1, 1, 4, 1, 6, 5, 4, 4, 4, 4, 1, 1, 1, 1, 1, 1, 1, 1, 1, 2, 1, 1, 1, 2, 1, 2, 2, 3, 4, 1, 8, 7, 5, 1, 5, 11, 2, 1, 2, 2, 1, 1, 3, 2, 1, 1, 3, 3, 1, 2, 2, 1, 2, 1, 1, 1, 1, 8, 7, 8, 7, 7, 8, 8, 4, 7, 5, 5, 5, 3, 4, 3, 5, 2, 2, 5, 4, 3, 3, 3, 4, 4, 2, 2, 6, 1, 5, 3, 5, 3, 4, 9, 3, 2, 4, 6, 1, 2, 3, 3, 8, 4, 5, 5, 5, 5, 5, 2, 2, 1, 1, 2, 1, 3, 1, 2, 1, 5, 3, 3, 2, 1, 2, 2, 1, 4, 2, 4, 8, 2, 3, 2, 1, 3, 3, 3, 2, 3, 3, 4, 3, 2, 3, 2, 7, 1, 12, 2, 1, 3, 2, 2, 3, 2, 2, 2, 2, 8, 9, 3, 2, 2, 2, 1, 2, 1, 7, 6, 6, 6, 6, 7, 24, 6, 2, 5, 6, 13, 5, 12, 12, 12, 12, 12, 12, 12, 12, 12, 14, 12, 13, 6, 7, 4, 4, 4, 7, 8, 7, 7, 7, 7, 7, 9, 7, 6, 5, 5, 5, 5, 32, 9, 25, 25, 25, 27, 27, 5, 4, 2, 2, 3, 2, 2, 3, 3, 4, 2, 19, 25, 25, 25, 25, 5, 25, 25, 25, 25, 25, 25, 25, 25, 25, 20, 4, 15, 3, 3, 3, 15, 15, 18, 3, 17, 15, 10, 6, 5, 15, 15, 3, 11, 5, 5, 15, 14, 15, 14, 14, 14, 14, 14, 14, 14, 14, 14, 14, 14, 14, 14, 6, 5, 8, 18, 17, 5, 5, 5, 5, 8, 1, 2, 13, 12, 12, 12, 13, 12, 12, 12, 12, 13, 12, 12, 12, 14, 13, 13, 13, 13, 6, 13, 13, 13, 13, 13, 13, 13, 15, 3, 7, 3, 8, 6, 6, 6, 6, 6, 5, 2, 8, 6, 6, 8, 6, 6, 6, 31, 10, 5, 12, 3, 3, 2, 4, 8, 7, 7, 7, 7, 8, 7, 4, 7, 14, 4, 4, 4, 4, 10, 10, 10, 10, 10, 10, 10, 10, 10, 14, 5, 4, 4, 4, 5, 5, 3, 5, 3, 4, 3, 6, 3, 4, 1, 3, 4, 2, 3, 2, 21, 3, 5, 1, 3, 3, 2, 2, 2, 2, 3, 4, 2, 2, 2, 3, 14, 3, 3, 3, 2, 2, 6, 3, 6, 1, 6, 4, 31, 10, 11, 6, 8, 2, 3, 6, 4, 3, 3, 4, 3, 5, 4, 52, 7, 5, 4, 5, 4, 2, 3, 3, 5, 2, 3, 10, 9, 9, 9, 9, 9, 9, 9, 9, 16, 36, 37, 4, 39, 27, 27, 27, 27, 27, 3, 30, 27, 27, 27, 29, 27, 28, 27, 21, 27, 27, 27, 27, 21, 25, 25, 25, 25, 25, 25, 27, 27, 17, 4, 17, 3, 3, 18, 17, 17, 17, 17, 17, 17, 17, 17, 6, 21, 4, 6, 28, 22, 21, 21, 23, 21, 6, 21, 21, 21, 21, 21, 26, 23, 21, 21, 21, 21, 21, 21, 21, 21, 21, 14, 13, 14, 13, 13, 13, 13, 13, 13, 13, 13, 13, 14, 13, 12, 11, 11, 11, 11, 12, 11, 11, 11, 11, 11, 4, 11, 11, 11, 10, 10, 10, 10, 10, 10, 10, 10, 10, 17, 17, 17, 17, 17, 17, 17, 17, 17, 17, 17, 17, 17, 17, 17, 17, 20, 15, 16, 16, 16, 16, 16, 16, 17, 28, 16, 28, 16, 16, 16, 16, 16, 6, 4, 4, 4, 7, 6, 6, 8, 6, 6, 6, 6, 7, 5, 6, 5, 5, 5, 15, 15, 15, 15, 15, 15, 15, 15, 15, 14, 14, 15, 15, 15, 2, 4, 16, 3, 2, 4, 4, 4, 7, 8, 7, 7, 7, 8, 3, 2, 4, 17, 7, 1, 7, 7, 14, 7, 7, 7, 7, 2, 42, 44, 33, 21, 14, 14, 14, 17, 17, 17, 17, 17, 17, 17, 17, 17, 20, 14, 14, 14, 6, 7, 7, 8, 6, 7, 1, 2, 8, 8, 8, 8, 8, 8, 8, 2, 21, 19, 2, 19, 17, 17, 17, 17, 19, 19, 19, 19, 19, 19, 19, 19, 16, 16, 18, 18, 2, 2, 2, 14, 2, 2, 2, 2, 2, 3, 3, 6, 2, 2, 2, 2, 4, 2, 3, 2, 6, 2, 6, 2, 1, 2, 2, 2, 2, 3, 4, 2, 1, 2, 2, 2, 2, 2, 5, 6, 2, 2, 2, 2, 2, 2, 2, 2, 2, 2, 2, 2, 2, 2, 2, 2, 7, 1, 2, 7, 2, 1, 2, 2, 1, 7, 2, 2, 2, 2, 2, 2, 4, 4, 3, 3, 1, 1, 2, 2, 2, 5, 2, 2, 2, 2, 2, 2, 2, 1, 2, 2, 2, 2, 1, 2, 2, 2, 2, 1, 2, 1, 2, 2, 1, 4, 2, 2, 2, 1, 1, 1, 3, 2, 2, 1, 4, 4, 5, 4, 2, 2, 1, 1, 5, 6, 5, 5, 5, 5, 2, 4, 4, 2, 5, 3, 1, 3, 1, 2, 2, 5, 3, 2, 2, 2, 1, 1, 3, 1, 1, 1, 3, 1, 1, 2, 2, 1, 2, 1, 5, 3, 4, 1, 2, 1, 3, 1, 2, 1, 3, 4, 3, 5, 6, 4, 1, 1, 2, 4, 1, 1, 1, 1, 7, 3, 1, 1, 1, 1, 1, 2, 2, 3, 4, 6, 1, 1, 1, 1, 1, 2, 2, 1, 6, 1, 7, 1, 2, 4, 1, 1, 3, 3, 2, 5, 2, 4, 2, 4, 2, 2, 1, 1, 2, 1, 2, 1, 1, 1, 1, 1, 1, 1, 1, 1, 1, 1, 1, 1, 1, 1, 1, 1, 1, 1, 1, 1, 1, 1, 6, 4, 2, 6, 3, 7, 1, 3, 2, 4, 6, 1, 1, 1, 1, 1, 1, 1, 2, 7, 2, 1, 3, 2, 1, 1, 1, 1, 1, 1, 1, 1, 1, 1, 1, 1, 1, 1, 4, 2, 1, 5, 1, 3, 1, 3, 1, 1, 1, 6, 3, 2, 1, 2, 2, 3, 6, 1, 1, 1, 2, 1, 6, 2, 2, 3, 2, 8, 2, 7, 3, 3, 3, 2, 2, 7, 1, 1, 1, 1, 2, 1, 7, 1, 3, 2, 3, 7, 2, 1, 1, 3, 1, 2, 2, 2, 4, 3, 5, 1, 2, 6, 1, 1, 1, 4, 1, 2, 2, 1, 2, 1, 1, 4, 2, 3, 3, 2, 4, 2, 1, 1, 2, 3, 4, 1, 1, 1, 2, 10, 2, 1, 1, 1, 2, 2, 2, 3, 1, 1, 2, 1, 1, 2, 1, 2, 2, 1, 1, 1, 1, 1, 1, 2, 2, 6, 3, 7, 1, 1, 2, 1, 5, 3, 1, 1, 3, 1, 2, 1, 2, 1, 2, 2, 2, 3, 17, 1, 16, 1, 2, 2, 2, 2, 3, 2, 3, 2, 1, 15, 3, 4, 4, 3, 3, 3, 2, 2, 2, 2, 3, 1, 1, 4, 1, 14, 1, 2, 11, 4, 2, 10, 2, 2, 5, 12, 2, 4, 1, 2, 2, 2, 2, 2, 3, 2, 2, 12, 3, 1, 2, 1, 2, 3, 3, 1, 1, 2, 1, 1, 4, 1, 2, 2, 14, 1, 12, 2, 3, 2, 2, 2, 3, 2, 3, 1, 1, 2, 1, 1, 1, 1, 2, 2, 1, 1, 1, 2, 1, 1, 2, 3, 1, 2, 2, 3, 2, 2, 1, 1, 1, 1, 1, 1, 1, 1, 3, 2, 1, 4, 1, 1, 2, 1, 1, 1, 3, 4, 2, 1, 2, 1, 1, 1, 1, 1, 2, 4, 1, 2, 2, 4, 3, 3, 1, 2, 1, 1, 1, 1, 1, 3, 4, 3, 4, 4, 5, 3, 4, 3, 4, 3, 4, 3, 3, 3, 5, 6, 4, 3, 3, 4, 5, 3, 4, 3, 4, 4, 4, 3, 4, 3, 4, 3, 3, 3, 3, 4, 1, 1, 1, 6, 1, 2, 2, 1, 1, 2, 2, 1, 3, 3, 1, 4, 10, 1, 4, 1, 1, 7, 7, 7, 7, 7, 7, 7, 4, 4, 4, 4, 1, 4, 1, 2, 1, 3, 7, 8, 1, 2, 2, 1, 1, 2, 1, 2, 5, 4, 1, 1, 1, 3, 2, 4, 1, 1, 1, 3, 2, 1, 1, 2, 3, 2, 3, 1, 1, 4, 1, 1, 1, 1, 1, 1, 5, 1, 1, 1, 3, 1, 1, 1, 1, 1, 2, 5, 2, 1, 3, 13, 1, 3, 2, 2, 6, 3, 3, 4, 2, 3, 2, 13, 9, 13, 9, 9, 9, 9, 9, 9, 9, 10, 10, 6, 8, 7, 7, 7, 7, 7, 8, 8, 4, 1, 5, 2, 3, 2, 2, 6, 6, 6, 6, 6, 6, 3, 8, 1, 2, 4, 4, 3, 7, 3, 4, 1, 3, 4, 2, 1, 1, 1, 2, 8, 1, 2, 4, 5, 2, 3, 3, 3, 3, 4, 4, 7, 2, 2, 6, 3, 8, 8, 8, 9, 9, 9, 8, 8, 1, 4, 3, 2, 2, 7, 1, 2, 6, 6, 6, 6, 1, 2, 3, 3, 3, 1, 1, 1, 1, 1, 1, 1, 1, 4, 4, 3, 3, 5, 3, 4, 3, 4, 3, 4, 3, 4, 2, 5, 5, 5, 5, 5, 5, 4, 6, 6, 4, 4, 2, 4, 4, 2, 4, 4, 6, 4, 4, 5, 5, 4, 4, 10, 10, 5, 9, 3, 6, 5, 4, 4, 5, 4, 12, 4, 3, 7, 3, 3, 4, 5, 5, 4, 5, 5, 4, 4, 4, 4, 4, 4, 3, 3, 6, 5, 12, 4, 5, 12, 9, 9, 9, 9, 9, 9, 9, 4, 4, 4, 5, 5, 2, 2, 2, 4, 12, 3, 3, 3, 3, 4, 3, 3, 4, 3, 3, 4, 4, 4, 7, 7, 3, 3, 2, 1, 2, 1, 2, 2, 2, 2, 2, 1, 9, 2, 2, 2, 1, 2, 1, 1, 4, 2, 5, 4, 5, 3, 1, 2, 1, 1, 1, 1, 1, 1, 1, 11, 9, 2, 1, 1, 2, 2, 1, 4, 1, 2, 1, 1, 5, 1, 1, 3, 1, 2, 4, 1, 4, 1, 2, 2, 1, 1, 1, 1, 5, 4, 6, 3, 1, 1, 1, 1, 4, 1, 2, 3, 3, 4, 1, 3, 2, 3, 2, 3, 4, 3, 1, 5, 2, 3, 14, 1, 2, 2, 5, 3, 4, 1, 1, 2, 3, 5, 2, 1, 2, 6, 3, 3, 2, 2, 2, 2, 1, 2, 1, 2, 2, 2, 2, 2, 2, 2, 1, 3, 3, 4, 3, 3, 3, 4, 2, 5, 5, 2, 2, 2, 2, 2, 3, 1, 2, 11, 1, 12, 4, 4, 5, 3, 4, 3, 3, 5, 8, 7, 7, 7, 7, 7, 7, 2, 9, 2, 1, 2, 2, 2, 3, 9, 8, 1, 6, 2, 2, 2, 2, 9, 3, 3, 2, 3, 5, 2, 2, 3, 2, 6, 5, 2, 6, 3, 1, 3, 3, 3, 2, 3, 2, 4, 1, 2, 2, 3, 2, 3, 2, 1, 2, 2, 2, 2, 1, 11, 3, 3, 3, 3, 4, 4, 4, 9, 6, 2, 2, 2, 4, 4, 4, 4, 3, 4, 7, 6, 2, 3, 3, 5, 14, 2, 4, 4, 4, 4, 4, 4, 2, 6, 12, 5, 4, 2, 4, 4, 4, 3, 2, 3, 5, 8, 2, 3, 4, 3, 3, 5, 4, 4, 2, 3, 2, 3, 3, 3, 4, 3, 2, 3, 4, 4, 3, 4, 4, 2, 2, 5, 4, 3, 1, 1, 1, 1, 2, 3, 2, 1, 1, 3, 5, 6, 4, 4, 6, 1, 3, 3, 1, 1, 1, 1, 1, 2, 2, 2, 2, 12, 12, 12, 12, 13, 12, 13, 12, 12, 12, 12, 12, 2, 2, 3, 2, 2, 2, 2, 2, 2, 10, 1, 2, 3, 3, 5, 4, 10, 2, 3, 5, 2, 2, 3, 7, 8, 2, 2, 5, 1, 2, 1, 1, 7, 8, 6, 6, 1, 6, 2, 2, 2, 8, 4, 7, 3, 2, 4, 6, 5, 5, 4, 3, 6, 3, 4, 2, 2, 1, 3, 2, 1, 2, 2, 2, 3, 1, 3, 2, 3, 3, 2, 5, 5, 2, 2, 2, 3, 1, 1, 1, 4, 7, 7, 3, 4, 4, 3, 4, 3, 4, 3, 7, 2, 3, 4, 3, 6, 4, 4, 2, 1, 6, 2, 6, 5, 5, 5, 6, 1, 2, 2, 3, 1, 2, 8, 8, 8, 8, 8, 8, 8, 10, 11, 10, 10, 10, 10, 10, 10, 10, 10, 12, 2, 2, 5, 3, 2, 2, 2, 2, 2, 2, 2, 2, 2, 2, 2, 2, 2, 2, 3, 3, 1, 2, 2, 1, 1, 2, 2, 2, 1, 1, 1, 2, 2, 1, 1, 2, 1, 11, 11, 11, 11, 11, 11, 12, 11, 11, 11, 11, 1, 2, 1, 1, 1, 2, 2, 2, 2, 2, 2, 1, 7, 4, 1, 1, 5, 2, 10, 4, 1, 6, 1, 1, 1, 1, 1, 3, 1, 1, 1, 1, 1, 1, 1, 1, 3, 1, 1, 1, 1, 1, 1, 1, 7, 6, 7, 1, 7, 6, 7, 1, 1, 1, 1, 3, 1, 1, 1, 1, 4, 1, 1, 1, 3, 5, 5, 5, 5, 6, 6, 6, 6, 6, 1, 3, 3, 2, 3, 2, 3, 3, 3, 2, 3, 3, 12, 12, 11, 11, 11, 12, 11, 11, 12, 11, 11, 1, 8, 8, 8, 8, 8, 10, 10, 10, 10, 10, 10, 10, 10, 10, 10, 10, 10, 10, 1, 4, 4, 4, 1, 1, 1, 1, 1, 1, 3, 1, 1, 1, 1, 4, 1, 2, 1, 2, 2, 4, 2, 3, 1, 4, 2, 2, 2, 1, 1, 2, 3, 51, 43, 43, 43, 43, 44, 43, 43, 44, 50, 50, 50, 50, 50, 50, 50, 50, 50, 50, 50, 50, 50, 42, 50, 50, 50, 50, 50, 50, 50, 50, 50, 50, 50, 50, 50, 50, 50, 50, 50, 50, 50, 43, 43, 44, 42, 44, 43, 50, 43, 1, 1, 3, 3, 1, 1, 5, 6, 2, 2, 2, 1, 4, 4, 4, 4, 2, 7, 1, 5, 4, 2, 3, 2, 2, 3, 3, 1, 2, 1, 2, 1, 2, 4, 2, 3, 2, 2, 2, 3, 7, 1, 3, 3, 2, 2, 3, 4, 5, 4, 4, 2, 2, 3, 2, 2, 2, 2, 3, 2, 1, 1, 1, 1, 7, 2, 10, 8, 2, 10, 9, 2, 6, 5, 2, 7, 6, 2, 4, 5, 2, 5, 3, 1, 1, 4, 1, 4, 2, 9, 10, 2, 2, 3, 2, 5, 1, 1, 1, 4, 2, 2, 7, 6, 2, 2, 1, 2, 4, 3, 5, 5, 4, 7, 4, 5, 5, 6, 2, 2, 6, 6, 2, 5, 4, 4, 1, 2, 4, 4, 3, 5, 5, 4, 4, 4, 4, 5, 3, 3, 3, 2, 1, 1, 2, 1, 1, 2, 3, 1, 1, 1, 2, 1, 1, 1, 1, 2, 1, 2, 1, 2, 2, 15, 13, 15, 16, 15, 16, 16, 16, 16, 15, 15, 16, 16, 16, 17, 16, 12, 1, 1, 1, 2, 2, 12, 12, 12, 12, 12, 12, 12, 12, 12, 12, 12, 2, 2, 2, 2, 2, 2, 4, 2, 4, 3, 16, 6, 13, 4, 4, 4, 2, 9, 11, 5, 2, 2, 2, 2, 2, 2, 6, 6, 6, 6, 5, 1, 2, 2, 1, 2, 1, 3, 3, 1, 3, 4, 4, 4, 2, 2, 1, 1, 2, 2, 2, 1, 1, 1, 4, 4, 4, 4, 3, 3, 3, 3, 1, 2, 1, 4, 4, 4, 4, 4, 3, 3, 4, 3, 1, 3, 1, 2, 9, 7, 3, 3, 7, 2, 6, 6, 6, 5, 5, 5, 2, 1, 3, 5, 2, 3, 3, 29, 29, 29, 29, 29, 29, 29, 29, 29, 29, 29, 29, 29, 29, 25, 29, 29, 29, 28, 28, 28, 29, 29, 29, 29, 29, 11, 11, 11, 11, 11, 11, 11, 11, 11, 11, 4, 6, 4, 4, 4, 4, 3, 3, 11, 11, 11, 11, 11, 11, 11, 11, 11, 11, 3, 3, 3, 2, 5, 5, 5, 5, 5, 1, 4, 11, 10, 10, 10, 10, 10, 10, 10, 10, 10, 21, 1, 1, 5, 5, 3, 31, 26, 22, 26, 26, 26, 22, 22, 22, 22, 22, 26, 27, 3, 22, 3, 26, 26, 26, 2, 26, 3, 26, 26, 26, 19, 19, 19, 19, 26, 3, 3, 3, 1, 2, 2, 3, 3, 4, 2, 4, 2, 4, 4, 4, 47, 3, 33, 33, 47, 47, 47, 47, 33, 47, 33, 33, 33, 33, 53, 33, 33, 47, 47, 33, 33, 33, 34, 47, 47, 47, 47, 47, 47, 47, 34, 34, 34, 34, 34, 34, 34, 34, 34, 47, 34, 34, 47, 34, 34, 2, 2, 47, 47, 3, 33, 3, 5, 3, 3, 1, 1, 1, 3, 2, 2, 3, 3, 2, 3, 2, 3, 14, 5, 18, 16, 16, 16, 16, 16, 3, 2, 2, 23, 23, 23, 23, 23, 3, 23, 3, 5, 2, 3, 3, 3, 14, 3, 3, 3, 2, 23, 23, 23, 33, 33, 33, 33, 33, 23, 33, 33, 33, 33, 33, 33, 33, 23, 33, 33, 23, 27, 27, 27, 27, 33, 27, 27, 27, 27, 27, 27, 33, 2, 2, 1, 1, 1, 2, 1, 3, 2, 2, 1, 3, 1, 3, 1, 1, 3, 1, 1, 3, 1, 1, 1, 2, 2, 1, 1, 1, 1, 2, 2, 1, 3, 2, 2, 1, 3, 1, 1, 2, 2, 3, 3, 3, 1, 2, 2, 3, 3, 3, 3, 3, 3, 1, 2, 2, 3, 3, 2, 2, 3, 3, 3, 2, 2, 4, 4, 4, 4, 1, 2, 2, 3, 3, 3, 2, 3, 3, 3, 2, 1, 3, 3, 3, 2, 2, 2, 2, 3, 4, 5, 5, 2, 1, 4, 3, 3, 3, 1, 1, 3, 3, 2, 2, 2, 2, 1, 7, 13, 13, 13, 13, 13, 7, 11, 11, 11, 11, 11, 11, 13, 13, 13, 13, 13, 13, 13, 13, 13, 13, 13, 13, 13, 2, 13, 14, 13, 13, 13, 13, 13, 13, 13, 13, 13, 13, 13, 3, 3, 3, 4, 4, 5, 1, 2, 3, 3, 2, 1, 2, 2, 2, 2, 4, 3, 3, 2, 3, 2, 3, 3, 2, 1, 2, 2, 2, 2, 3, 2, 2, 2, 3, 2, 2, 2, 2, 2, 2, 1, 3, 2, 2, 2, 2, 3, 2, 2, 3, 2, 2, 2, 2, 2, 1, 2, 2, 3, 2, 2, 2, 2, 2, 2, 3, 3, 2, 2, 2, 2, 2, 2, 2, 2, 2, 1, 1, 2, 1, 2, 2, 2, 1, 3, 2, 1, 2, 3, 2, 3, 4, 3, 2, 2, 2, 2, 2, 2, 2, 1, 12, 12, 12, 12, 12, 2, 2, 2, 1, 1, 1, 1, 1, 1, 11, 3, 7, 6, 3, 3, 2, 3, 3, 2, 2, 10, 2, 2, 7, 3, 2, 3, 3, 3, 3, 3, 3, 2, 3, 2, 2, 2, 2, 2, 2]\n"
     ]
    }
   ],
   "source": [
    "inet_degree_sequence = find_degree_sequence(inet_graph)\n",
    "print(\"Degree Sequence:\", inet_degree_sequence)"
   ]
  },
  {
   "cell_type": "code",
   "execution_count": 102,
   "metadata": {},
   "outputs": [],
   "source": [
    "degree_sequence = inet_degree_sequence\n",
    "inet_configuration_model = configuration_model_with_deletion(degree_sequence)"
   ]
  },
  {
   "cell_type": "markdown",
   "metadata": {},
   "source": [
    "### Question 10\n",
    "\n",
    "For both CAIDA and INET graphs:\n",
    "\n",
    "* Compare the initial degree distribution to the configuration model degree distribution. To do so, compute the fraction of nodes which degree in the model is different from their degree in the original distribution: $ \\frac{n_{mod}}{n} $.\n",
    "\n",
    "* Compare the number of triangles of the configuration model to the one of the original graph. In which case does it correspond to the result of the course? In the other case, can you propose an explanation?"
   ]
  },
  {
   "cell_type": "code",
   "execution_count": 103,
   "metadata": {},
   "outputs": [],
   "source": [
    "def compare_degree_distributions(original_degree_sequence, model_degree_sequence):\n",
    "    \"\"\"\n",
    "    Compare the degree distributions of an original graph and a model.\n",
    "\n",
    "    Parameters:\n",
    "    - original_degree_sequence: List containing the degree of each node in the original graph\n",
    "    - model_degree_sequence: List containing the degree of each node in the generated model graph\n",
    "\n",
    "    Returns:\n",
    "    - fraction_different: Fraction of nodes with different degrees between the original and model graphs\n",
    "    \"\"\"\n",
    "    # Calculate the number of nodes with different degrees\n",
    "    n_total = len(original_degree_sequence)\n",
    "    n_diff = sum(1 for orig, model in zip(original_degree_sequence, model_degree_sequence) if orig != model)\n",
    "    \n",
    "    # Calculate the fraction of nodes with different degrees\n",
    "    fraction_different = n_diff / n_total\n",
    "    return fraction_different"
   ]
  },
  {
   "cell_type": "markdown",
   "metadata": {},
   "source": [
    "If fraction_different is close to 0, it means that the configuration model has preserved the degree distribution of the original graph well, and the two distributions are similar.\n",
    "\n",
    "If fraction_different is close to 1, it indicates a significant difference between the original degree distribution and the configuration model. This could happen if the model deviates substantially from the original distribution.\n",
    "\n",
    "For example, if fraction_different is 0.2, it means that 20% of the nodes in your configuration model have degrees different from their degrees in the original graph."
   ]
  },
  {
   "cell_type": "code",
   "execution_count": 104,
   "metadata": {},
   "outputs": [
    {
     "name": "stdout",
     "output_type": "stream",
     "text": [
      "Fraction of nodes with different degrees: 0.019414542020774316\n"
     ]
    }
   ],
   "source": [
    "original_degree_sequence = caida_degree_sequence\n",
    "model_degree_sequence = [len(neighbors) for neighbors in caida_configuration_model.values()]\n",
    "\n",
    "fraction_different = compare_degree_distributions(original_degree_sequence, model_degree_sequence)\n",
    "\n",
    "print(\"Fraction of nodes with different degrees:\", fraction_different)"
   ]
  },
  {
   "cell_type": "markdown",
   "metadata": {},
   "source": [
    "If the number of triangles is similar:  \n",
    "If the number of triangles in the configuration model is close to the number in the original graph, it indicates that the configuration model has preserved the triangle structure well.  \n",
    "If the number of triangles is significantly different:  \n",
    "If the number of triangles in the configuration model is substantially different from the original graph, it suggests that the configuration model may not accurately capture the triangle relationships present in the original graph.  \n",
    "Comparison:  \n",
    "If the number of triangles in the configuration model is higher, it might imply that the model has introduced more triangles than what was present in the original graph.\n",
    "If the number of triangles in the configuration model is lower, it might indicate a loss of triangle relationships during the configuration model generation.  \n",
    "In summary, a close match in the number of triangles suggests a good preservation of the triangle structure, while a significant difference may indicate limitations or alterations introduced by the configuration model. Keep in mind that comparing specific structural properties can provide a nuanced understanding of how well the model captures the characteristics of the original graph."
   ]
  },
  {
   "cell_type": "code",
   "execution_count": 105,
   "metadata": {},
   "outputs": [
    {
     "name": "stdout",
     "output_type": "stream",
     "text": [
      "Number of triangles: 36365\n",
      "Calculating triangle done in 1.13431 seconds\n"
     ]
    }
   ],
   "source": [
    "graph = caida_graph\n",
    "result = test_improved_triangle_count(graph)"
   ]
  },
  {
   "cell_type": "code",
   "execution_count": 106,
   "metadata": {},
   "outputs": [
    {
     "name": "stdout",
     "output_type": "stream",
     "text": [
      "Number of triangles: 50939\n",
      "Calculating triangle done in 0.45819 seconds\n"
     ]
    }
   ],
   "source": [
    "graph = caida_configuration_model\n",
    "result = test_improved_triangle_count(graph)"
   ]
  },
  {
   "cell_type": "markdown",
   "metadata": {},
   "source": [
    "answer\n"
   ]
  },
  {
   "cell_type": "code",
   "execution_count": 107,
   "metadata": {},
   "outputs": [
    {
     "name": "stdout",
     "output_type": "stream",
     "text": [
      "Fraction of nodes with different degrees: 0.00995893223819302\n"
     ]
    }
   ],
   "source": [
    "original_degree_sequence = inet_degree_sequence\n",
    "model_degree_sequence = [len(neighbors) for neighbors in inet_configuration_model.values()]\n",
    "\n",
    "fraction_different = compare_degree_distributions(original_degree_sequence, model_degree_sequence)\n",
    "\n",
    "print(\"Fraction of nodes with different degrees:\", fraction_different)"
   ]
  },
  {
   "cell_type": "code",
   "execution_count": 108,
   "metadata": {},
   "outputs": [
    {
     "name": "stdout",
     "output_type": "stream",
     "text": [
      "Number of triangles: 206909\n",
      "Calculating triangle done in 0.17853 seconds\n"
     ]
    }
   ],
   "source": [
    "graph = inet_graph\n",
    "result = test_improved_triangle_count(graph)"
   ]
  },
  {
   "cell_type": "code",
   "execution_count": 109,
   "metadata": {},
   "outputs": [
    {
     "name": "stdout",
     "output_type": "stream",
     "text": [
      "Number of triangles: 1327\n",
      "Calculating triangle done in 0.06848 seconds\n"
     ]
    }
   ],
   "source": [
    "graph = inet_configuration_model\n",
    "result = test_improved_triangle_count(graph)"
   ]
  },
  {
   "cell_type": "markdown",
   "metadata": {},
   "source": [
    "answer"
   ]
  }
 ],
 "metadata": {
  "kernelspec": {
   "display_name": "Python 3",
   "language": "python",
   "name": "python3"
  },
  "language_info": {
   "codemirror_mode": {
    "name": "ipython",
    "version": 3
   },
   "file_extension": ".py",
   "mimetype": "text/x-python",
   "name": "python",
   "nbconvert_exporter": "python",
   "pygments_lexer": "ipython3",
   "version": "3.8.6"
  }
 },
 "nbformat": 4,
 "nbformat_minor": 2
}
