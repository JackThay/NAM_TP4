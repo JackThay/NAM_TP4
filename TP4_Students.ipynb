{
 "cells": [
  {
   "cell_type": "markdown",
   "metadata": {},
   "source": [
    "# Lab Work 4 (student version): standard graph models\n",
    "\n",
    "We can use the following libraries."
   ]
  },
  {
   "cell_type": "code",
   "execution_count": 1,
   "metadata": {},
   "outputs": [
    {
     "name": "stdout",
     "output_type": "stream",
     "text": [
      "3.9.6 (default, Sep 19 2022, 09:09:38) \n",
      "[GCC 10.2.1 20210110]\n"
     ]
    }
   ],
   "source": [
    "import numpy as np\n",
    "import matplotlib.pyplot as plt\n",
    "import math\n",
    "import sys\n",
    "import random\n",
    "import time\n",
    "\n",
    "from collections import deque # Used as queue\n",
    "print(sys.version)"
   ]
  },
  {
   "cell_type": "markdown",
   "metadata": {},
   "source": [
    "This lab work will spread over sessions 5 and 6. "
   ]
  },
  {
   "cell_type": "markdown",
   "metadata": {},
   "source": [
    "## Exercise 1: Preliminary work"
   ]
  },
  {
   "cell_type": "markdown",
   "metadata": {},
   "source": [
    "### Question 1\n",
    "\n",
    "Download the graph as_caida.txt (CAIDA) on Moodle and load it in memory as a dictionary of lists (as usual). This graph is a partial map of the Internet at the AS level as obtained using BGP tables during the CAIDA project in 2007. \n",
    "\n",
    "Download also the graph ip_inet.txt (INET) on Moodle and load it in memory as a dictionary of lists. This graph is a partial map of the Internet at the IP level. \n",
    "\n",
    "Both will be used during the rest of this practical work. \n",
    "\n",
    "Apply the codes seen in the previous labs to:\n",
    "- count its number of nodes and links, \n",
    "- plot its degree distribution,\n",
    "- compute its number of triangles,\n",
    "- give an approximation of its diameter.\n"
   ]
  },
  {
   "cell_type": "code",
   "execution_count": 2,
   "metadata": {},
   "outputs": [],
   "source": [
    "# Code taken from our TP1\n",
    "\n",
    "def load_graph(filename):\n",
    "    # Initialize an empty dictionary for the adjacency list.\n",
    "    adjacency_list = {}\n",
    "    \n",
    "    # Open the specified file for reading.\n",
    "    with open(filename, 'r') as file:\n",
    "        # Loop through each line in the file.\n",
    "        for line in file:\n",
    "            # Check if the line does not start with '#' (comments)\n",
    "            if not line.startswith('#'):\n",
    "                # Split the line into two nodes representing an edge.\n",
    "                edge_info = line.strip().split()\n",
    "                node1, node2 = edge_info[0], edge_info[1]\n",
    "                # Check if node1 is not already in the adjacency list.\n",
    "                if node1 not in adjacency_list:\n",
    "                    # Initialize an empty list for node1 in the adjacency list.\n",
    "                    adjacency_list[node1] = []\n",
    "                # Check if node2 is not already in the adjacency list.\n",
    "                if node2 not in adjacency_list:\n",
    "                    # Initialize an empty list for node2 in the adjacency list.\n",
    "                    adjacency_list[node2] = []\n",
    "                # Add node2 to the adjacency list of node1 (representing an undirected edge).\n",
    "                adjacency_list[node1].append(node2)\n",
    "                # Add node1 to the adjacency list of node2 (since it's an undirected edge).\n",
    "                adjacency_list[node2].append(node1)\n",
    "\n",
    "    # Return the adjacency list representing the undirected graph.\n",
    "    return adjacency_list"
   ]
  },
  {
   "cell_type": "code",
   "execution_count": 3,
   "metadata": {},
   "outputs": [],
   "source": [
    "# Code taken from our TP1\n",
    "\n",
    "def count_nodes_edges(filename):\n",
    "    # Initialize an empty set to store unique nodes\n",
    "    nodes = set()\n",
    "    # Initialize a variable to count the number of edges\n",
    "    edges = 0\n",
    "\n",
    "    # Open the specified file in read ('read only') mode\n",
    "    with open(filename, 'r') as file:\n",
    "        # Iterate through each line in the file\n",
    "        for line in file:\n",
    "            # Remove leading and trailing whitespace and split the line into parts\n",
    "            edge_info = line.strip().split()\n",
    "            # Check if the line does not contain exactly two values (node identifiers)\n",
    "            if len(edge_info) != 2:\n",
    "                # Skip lines that don't have two values, they might be comments or errors\n",
    "                continue\n",
    "            # Add both node identifiers to the 'nodes' set\n",
    "            nodes.update(edge_info)\n",
    "            # Increment the edge count\n",
    "            edges += 1\n",
    "\n",
    "    # Calculate the number of unique nodes by finding the length of the 'nodes' set\n",
    "    num_nodes = len(nodes)\n",
    "    # final count for edges\n",
    "    num_edges = edges\n",
    "\n",
    "    # Return the counts of nodes and edges as a tuple\n",
    "    return num_nodes, num_edges"
   ]
  },
  {
   "cell_type": "code",
   "execution_count": 4,
   "metadata": {},
   "outputs": [],
   "source": [
    "# Code taken from our TP1\n",
    "\n",
    "def test_count_nodes_edges(filename):\n",
    "    start_time = time.time()\n",
    "    num_nodes, num_edges = count_nodes_edges(filename)\n",
    "    print(f\"Number of nodes: {num_nodes}\")\n",
    "    print(f\"Number of edges: {num_edges}\")\n",
    "    print(f\"Nodes and edges counted in {time.time() - start_time:.5f} seconds\")"
   ]
  },
  {
   "cell_type": "code",
   "execution_count": 5,
   "metadata": {},
   "outputs": [],
   "source": [
    "# Code taken from our TP1\n",
    "\n",
    "def compute_degree_distribution(adjacency_list):\n",
    "    # Initialize an empty dictionary to store the degree distribution.\n",
    "    degree_distribution = {}\n",
    "    \n",
    "    # Iterate through each node in the adjacency list along with its neighbors.\n",
    "    for node, neighbors in adjacency_list.items():\n",
    "        # Calculate the degree of the current node by finding the number of its neighbors.\n",
    "        degree = len(neighbors)\n",
    "        # Check if the degree already exists as a key in the degree_distribution dictionary.\n",
    "        if degree in degree_distribution:\n",
    "            # If it exists, increment the count for that degree by 1.\n",
    "            degree_distribution[degree] += 1\n",
    "        else:\n",
    "            # If it doesn't exist, add it to the degree_distribution dictionary with a count of 1.\n",
    "            degree_distribution[degree] = 1\n",
    "    \n",
    "    # Return the degree_distribution dictionary, which represents the degree distribution of nodes\n",
    "    # in the input graph, where keys are degrees, and values are the number of nodes with that degree.\n",
    "    return degree_distribution"
   ]
  },
  {
   "cell_type": "code",
   "execution_count": 6,
   "metadata": {},
   "outputs": [],
   "source": [
    "def plot_degree_distribution(adjacency_list):\n",
    "    degree_distribution = compute_degree_distribution(adjacency_list)\n",
    "\n",
    "    # Extract degrees and counts for plotting.\n",
    "    degrees = list(degree_distribution.keys())\n",
    "    counts = list(degree_distribution.values())\n",
    "    \n",
    "    # Set the y-axis to a logarithmic scale for better visualization.\n",
    "    plt.yscale('log')\n",
    "    # Set the x-axis to a logarithmic scale for better visualization.\n",
    "    plt.xscale('log')\n",
    "\n",
    "    # Plot the degree distribution with adjusted axis limits.\n",
    "    plt.scatter(degrees, counts, color='skyblue')\n",
    "    plt.xlabel('Degree')\n",
    "    plt.ylabel('Number of Nodes')\n",
    "    plt.title('Degree Distribution of the Graph')\n",
    "\n",
    "    plt.show()"
   ]
  },
  {
   "cell_type": "code",
   "execution_count": 7,
   "metadata": {},
   "outputs": [],
   "source": [
    "# Code taken from our TP2\n",
    "\n",
    "def improved_triangle_counting(graph):\n",
    "    # Initialize a counter for the number of triangles\n",
    "    nb = 0\n",
    "\n",
    "    # Iterate over all edges (u, v) where u < v\n",
    "    for u in set(graph):\n",
    "        for v in set(graph[u]):\n",
    "            # Ensure u is less than v to avoid duplicate counts\n",
    "            if u < v:\n",
    "                # Find common neighbors of u and v\n",
    "                common_neighbors = set(graph[u]) & set(graph[v])\n",
    "                # Iterate over common neighbors (w) where v < w\n",
    "                for w in common_neighbors:\n",
    "                    if v < w:\n",
    "                        # Increment the triangle counter\n",
    "                        nb += 1\n",
    "\n",
    "    # Return the total count of triangles\n",
    "    return nb"
   ]
  },
  {
   "cell_type": "code",
   "execution_count": 8,
   "metadata": {},
   "outputs": [],
   "source": [
    "# Code taken from our TP2\n",
    "\n",
    "def test_improved_triangle_count(graph):\n",
    "    start_time = time.time()\n",
    "    result = improved_triangle_counting(graph)\n",
    "    print(\"Number of triangles:\", result)\n",
    "    print(f\"Calculating triangle done in {time.time() - start_time:.5f} seconds\")"
   ]
  },
  {
   "cell_type": "code",
   "execution_count": 9,
   "metadata": {},
   "outputs": [],
   "source": [
    "def compute_distances(graph, start_node):\n",
    "    # Check if the starting node exists in the graph\n",
    "    if start_node not in graph: # In case someone decides to be funny and use a non-existing node\n",
    "        print(f\"<!>Error<!>: The starting node '{start_node}' not found in the graph.\")\n",
    "        print(f\"<!>Error<!>: Are you sure you didn't make a typo?\")\n",
    "        return\n",
    "    \n",
    "    # Initialize a dictionary to store distances from the start node to other nodes\n",
    "    distances = {}\n",
    "    # Initialize a deque (double-ended queue) and add the starting node\n",
    "    queue = deque()\n",
    "    queue.append(start_node)\n",
    "    # Set the distance from the start node to itself to be 0\n",
    "    distances[start_node] = 0\n",
    "\n",
    "    # Main BFS loop to compute distances\n",
    "    while queue:\n",
    "        # Get the current node from the front of the queue\n",
    "        current_node = queue.popleft()\n",
    "        # Iterate through neighbors of the current node\n",
    "        for neighbor in graph[current_node]:\n",
    "            # Check if the neighbor has not been assigned a distance\n",
    "            if neighbor not in distances:\n",
    "                # Add the neighbor to the queue\n",
    "                queue.append(neighbor)\n",
    "                # Set the distance from the start node to the neighbor\n",
    "                distances[neighbor] = distances[current_node] + 1\n",
    "\n",
    "    # Return the computed distances\n",
    "    return distances"
   ]
  },
  {
   "cell_type": "code",
   "execution_count": 10,
   "metadata": {},
   "outputs": [],
   "source": [
    "def lower_bound_diameter(graph, sample_size=None):\n",
    "    # Initialize the lower bound to 0\n",
    "    lower_bound = 0\n",
    "\n",
    "    # If sample_size is None, use all nodes for BFS, otherwise, use a sample\n",
    "    nodes_to_sample = list(graph.keys())\n",
    "\n",
    "    # If a sample size is specified and greater than 0\n",
    "    if sample_size is not None and sample_size > 0:\n",
    "        # Ensure that the sample size is not greater than the population size\n",
    "        sample_size = min(sample_size, len(nodes_to_sample))\n",
    "        # Randomly sample nodes for BFS\n",
    "        nodes_to_sample = random.sample(nodes_to_sample, sample_size)\n",
    "\n",
    "    # Compute distances for sampled nodes in a single BFS traversal\n",
    "    all_distances = {}\n",
    "    for start_node in nodes_to_sample:\n",
    "        # Use a BFS to compute distances from the start node to all other nodes\n",
    "        distances = compute_distances(graph, start_node)\n",
    "        all_distances[start_node] = distances\n",
    "\n",
    "    # Iterate over each node to determine eccentricity\n",
    "    for start_node, distances in all_distances.items():\n",
    "        # Find the maximum distance, representing the eccentricity of the node\n",
    "        eccentricity = max(distances.values())\n",
    "        # Update the lower bound if the eccentricity is greater\n",
    "        lower_bound = max(lower_bound, eccentricity)\n",
    "\n",
    "    # Return the computed lower bound for the diameter\n",
    "    return lower_bound"
   ]
  },
  {
   "cell_type": "code",
   "execution_count": 11,
   "metadata": {},
   "outputs": [],
   "source": [
    "def test_lower_bound_diameter(graph, sample_size=None):\n",
    "    start_time = time.time()\n",
    "    lower_bound = lower_bound_diameter(graph, sample_size=sample_size)\n",
    "    print(f\"Lower bound for diameter: {lower_bound}\")\n",
    "    print(f\"Calculating lower bound done in {time.time() - start_time:.5f} seconds\")"
   ]
  },
  {
   "cell_type": "code",
   "execution_count": 12,
   "metadata": {},
   "outputs": [
    {
     "name": "stdout",
     "output_type": "stream",
     "text": [
      "Number of nodes: 26475\n",
      "Number of edges: 53381\n",
      "Nodes and edges counted in 0.04443 seconds\n"
     ]
    }
   ],
   "source": [
    "filename = 'as_caida.txt'\n",
    "result = test_count_nodes_edges(filename)"
   ]
  },
  {
   "cell_type": "code",
   "execution_count": 13,
   "metadata": {},
   "outputs": [
    {
     "name": "stdout",
     "output_type": "stream",
     "text": [
      "Graph loaded in 0.06550 seconds\n"
     ]
    }
   ],
   "source": [
    "filename = 'as_caida.txt'\n",
    "start_time = time.time()\n",
    "caida_graph = load_graph(filename)\n",
    "print(f\"Graph loaded in {time.time() - start_time:.5f} seconds\")"
   ]
  },
  {
   "cell_type": "code",
   "execution_count": 14,
   "metadata": {},
   "outputs": [
    {
     "name": "stdout",
     "output_type": "stream",
     "text": [
      "{3: 2509, 227: 1, 2: 10465, 913: 1, 518: 1, 1631: 1, 2628: 1, 999: 1, 271: 1, 176: 1, 47: 6, 239: 1, 14: 62, 42: 8, 9: 129, 59: 2, 1: 9937, 50: 3, 7: 237, 30: 11, 4: 1028, 6: 341, 36: 7, 11: 98, 5: 535, 49: 6, 34: 7, 13: 60, 8: 171, 16: 40, 19: 35, 12: 75, 564: 2, 26: 14, 405: 1, 497: 1, 1699: 1, 2052: 1, 113: 1, 290: 1, 292: 1, 89: 2, 615: 1, 498: 1, 1677: 1, 220: 1, 308: 1, 319: 1, 177: 1, 311: 1, 695: 1, 20: 32, 61: 3, 124: 1, 40: 7, 222: 1, 169: 2, 72: 2, 233: 2, 95: 1, 135: 1, 540: 1, 10: 128, 156: 2, 143: 1, 327: 2, 417: 1, 142: 1, 487: 1, 52: 7, 159: 1, 38: 8, 45: 9, 31: 10, 96: 2, 17: 44, 35: 11, 102: 1, 128: 1, 23: 21, 71: 6, 99: 2, 24: 19, 21: 21, 15: 41, 27: 11, 469: 1, 129: 1, 198: 2, 426: 1, 437: 1, 111: 2, 37: 6, 68: 2, 88: 2, 182: 1, 109: 2, 51: 6, 56: 5, 104: 2, 67: 4, 127: 1, 190: 1, 53: 3, 282: 1, 22: 24, 32: 9, 33: 4, 25: 13, 28: 14, 94: 1, 65: 2, 44: 3, 82: 2, 78: 1, 18: 36, 43: 8, 83: 5, 29: 13, 58: 2, 91: 2, 184: 1, 1272: 1, 63: 4, 114: 1, 41: 8, 60: 2, 77: 2, 66: 1, 106: 1, 39: 13, 48: 1, 87: 2, 126: 1, 166: 1, 193: 1, 55: 4, 80: 2, 123: 1, 154: 1, 57: 2, 376: 1, 62: 2, 69: 2, 54: 3, 140: 1, 194: 1, 64: 2, 174: 1, 125: 1, 107: 1, 155: 2, 133: 1, 76: 1, 108: 1, 122: 1, 84: 1, 101: 1}\n"
     ]
    }
   ],
   "source": [
    "degree_distribution = compute_degree_distribution(caida_graph)\n",
    "print(degree_distribution)"
   ]
  },
  {
   "cell_type": "code",
   "execution_count": 15,
   "metadata": {},
   "outputs": [
    {
     "data": {
      "image/png": "[encoded data removed]",
      "text/plain": [
       "<Figure size 640x480 with 1 Axes>"
      ]
     },
     "metadata": {},
     "output_type": "display_data"
    }
   ],
   "source": [
    "plot_degree_distribution(caida_graph)"
   ]
  },
  {
   "cell_type": "code",
   "execution_count": 16,
   "metadata": {},
   "outputs": [
    {
     "name": "stdout",
     "output_type": "stream",
     "text": [
      "Number of triangles: 36365\n",
      "Calculating triangle done in 0.81859 seconds\n"
     ]
    }
   ],
   "source": [
    "graph = caida_graph\n",
    "result = test_improved_triangle_count(graph)"
   ]
  },
  {
   "cell_type": "code",
   "execution_count": 17,
   "metadata": {},
   "outputs": [
    {
     "name": "stdout",
     "output_type": "stream",
     "text": [
      "Lower bound for diameter: 17\n",
      "Calculating lower bound done in 14.88453 seconds\n"
     ]
    }
   ],
   "source": [
    "graph = caida_graph\n",
    "sample_size = 1500\n",
    "result = test_lower_bound_diameter(graph, sample_size=sample_size)"
   ]
  },
  {
   "cell_type": "code",
   "execution_count": 18,
   "metadata": {},
   "outputs": [
    {
     "name": "stdout",
     "output_type": "stream",
     "text": [
      "Number of nodes: 9740\n",
      "Number of edges: 35567\n",
      "Nodes and edges counted in 0.01680 seconds\n"
     ]
    }
   ],
   "source": [
    "filename = 'ip_inet.txt'\n",
    "result = test_count_nodes_edges(filename)"
   ]
  },
  {
   "cell_type": "code",
   "execution_count": 19,
   "metadata": {},
   "outputs": [
    {
     "name": "stdout",
     "output_type": "stream",
     "text": [
      "Graph loaded in 0.02119 seconds\n"
     ]
    }
   ],
   "source": [
    "filename = 'ip_inet.txt'\n",
    "start_time = time.time()\n",
    "inet_graph = load_graph(filename)\n",
    "print(f\"Graph loaded in {time.time() - start_time:.5f} seconds\")"
   ]
  },
  {
   "cell_type": "code",
   "execution_count": 20,
   "metadata": {},
   "outputs": [
    {
     "name": "stdout",
     "output_type": "stream",
     "text": [
      "{4: 740, 7: 326, 20: 40, 1: 1963, 3: 1121, 5: 466, 2: 2093, 11: 167, 6: 412, 9: 217, 8: 273, 27: 37, 17: 98, 16: 88, 14: 111, 10: 191, 12: 141, 13: 158, 15: 126, 19: 51, 22: 53, 40: 6, 39: 10, 23: 17, 26: 25, 24: 8, 32: 31, 18: 106, 28: 40, 31: 68, 30: 8, 58: 5, 57: 53, 21: 31, 35: 34, 25: 30, 36: 8, 41: 68, 37: 33, 33: 60, 29: 63, 44: 8, 43: 16, 45: 39, 52: 2, 51: 2, 54: 1, 38: 10, 47: 21, 50: 35, 42: 6, 34: 23, 53: 1}\n"
     ]
    }
   ],
   "source": [
    "degree_distribution = compute_degree_distribution(inet_graph)\n",
    "print(degree_distribution)"
   ]
  },
  {
   "cell_type": "code",
   "execution_count": 21,
   "metadata": {},
   "outputs": [
    {
     "data": {
      "image/png": "[encoded data removed]",
      "text/plain": [
       "<Figure size 640x480 with 1 Axes>"
      ]
     },
     "metadata": {},
     "output_type": "display_data"
    }
   ],
   "source": [
    "plot_degree_distribution(inet_graph)"
   ]
  },
  {
   "cell_type": "code",
   "execution_count": 22,
   "metadata": {},
   "outputs": [
    {
     "name": "stdout",
     "output_type": "stream",
     "text": [
      "Number of triangles: 206909\n",
      "Calculating triangle done in 0.08954 seconds\n"
     ]
    }
   ],
   "source": [
    "graph = inet_graph\n",
    "result = test_improved_triangle_count(graph)"
   ]
  },
  {
   "cell_type": "code",
   "execution_count": 23,
   "metadata": {},
   "outputs": [
    {
     "name": "stdout",
     "output_type": "stream",
     "text": [
      "Lower bound for diameter: 34\n",
      "Calculating lower bound done in 9.59550 seconds\n"
     ]
    }
   ],
   "source": [
    "graph = inet_graph\n",
    "sample_size = 3000\n",
    "result = test_lower_bound_diameter(graph, sample_size=sample_size)"
   ]
  },
  {
   "cell_type": "markdown",
   "metadata": {},
   "source": [
    "## Exercise 2: Erdös-Rényi model"
   ]
  },
  {
   "cell_type": "markdown",
   "metadata": {},
   "source": [
    "### Question 2\n",
    "\n",
    "Create an Erdös-Rényi graph with the same number of nodes and links as the CAIDA graph. Same for the INET graph."
   ]
  },
  {
   "cell_type": "code",
   "execution_count": 24,
   "metadata": {},
   "outputs": [],
   "source": [
    "def erdos_renyi_graph(node_count, link_count):\n",
    "    graph = {}\n",
    "    for node_index in range(node_count):\n",
    "        graph[node_index] = []\n",
    "    while link_count > 0:\n",
    "        node1, node2 = random.randint(0, node_count - 1), random.randint(0, node_count - 1)\n",
    "        if node1 != node2 and node1 not in graph[node2]:\n",
    "            graph[node1].append(node2)\n",
    "            graph[node2].append(node1)\n",
    "            link_count -= 1\n",
    "    \n",
    "    return graph"
   ]
  },
  {
   "cell_type": "code",
   "execution_count": 25,
   "metadata": {},
   "outputs": [],
   "source": [
    "def erdos_renyi(node_count, link_count, filename):\n",
    "    graph = {}\n",
    "    for node_index in range(node_count):\n",
    "        graph[node_index] = []\n",
    "    while link_count > 0:\n",
    "        node1, node2 = random.randint(0, node_count - 1), random.randint(0, node_count - 1)\n",
    "        if node1 != node2 and node1 not in graph[node2]:\n",
    "            graph[node1].append(node2)\n",
    "            graph[node2].append(node1)\n",
    "            link_count -= 1\n",
    "    \n",
    "    # Save the graph to a text file\n",
    "    with open(filename, 'w') as file:\n",
    "        for node, neighbors in graph.items():\n",
    "            file.write(f\"{node}: {', '.join(map(str, neighbors))}\\n\")"
   ]
  },
  {
   "cell_type": "markdown",
   "metadata": {},
   "source": [
    "### Sidenote:\n",
    "\n",
    "We updated our count_nodes_edges() function to suits our need in this lab"
   ]
  },
  {
   "cell_type": "code",
   "execution_count": 26,
   "metadata": {},
   "outputs": [],
   "source": [
    "def count_nodes_edges_v2(filename):\n",
    "    # Initialize an empty set to store unique nodes\n",
    "    nodes = set()\n",
    "    # Initialize a set to store unique edges\n",
    "    unique_edges = set()\n",
    "\n",
    "    # Open the specified file in read ('read only') mode\n",
    "    with open(filename, 'r') as file:\n",
    "        # Iterate through each line in the file\n",
    "        for line in file:\n",
    "            # Remove leading and trailing whitespace and split the line into parts\n",
    "            parts = line.strip().split(':')\n",
    "            \n",
    "            # Check if the line does not contain exactly two values (node and its adjacents)\n",
    "            if len(parts) != 2:\n",
    "                # Skip lines that don't have two values, they might be comments or errors\n",
    "                continue\n",
    "\n",
    "            # Extract the node and its adjacent nodes\n",
    "            node = int(parts[0])\n",
    "            adjacents = [int(adj) for adj in parts[1].split(',') if adj.strip()]\n",
    "\n",
    "            # Add the node to the 'nodes' set\n",
    "            nodes.add(node)\n",
    "\n",
    "            # Iterate through adjacent nodes and add unique edges to the 'unique_edges' set\n",
    "            for adjacent in adjacents:\n",
    "                edge = (min(node, adjacent), max(node, adjacent))\n",
    "                unique_edges.add(edge)\n",
    "\n",
    "    # Calculate the number of unique nodes by finding the length of the 'nodes' set\n",
    "    num_nodes = len(nodes)\n",
    "    # Calculate the number of unique edges by finding the length of the 'unique_edges' set\n",
    "    num_edges = len(unique_edges)\n",
    "\n",
    "    # Return the counts of nodes and edges as a tuple\n",
    "    return num_nodes, num_edges"
   ]
  },
  {
   "cell_type": "code",
   "execution_count": 27,
   "metadata": {},
   "outputs": [],
   "source": [
    "def test_count_nodes_edges_v2(filename):\n",
    "    start_time = time.time()\n",
    "    num_nodes, num_edges = count_nodes_edges_v2(filename)\n",
    "    print(f\"Number of nodes: {num_nodes}\")\n",
    "    print(f\"Number of edges: {num_edges}\")\n",
    "    print(f\"Nodes and edges counted in {time.time() - start_time:.5f} seconds\")"
   ]
  },
  {
   "cell_type": "code",
   "execution_count": 28,
   "metadata": {},
   "outputs": [],
   "source": [
    "# Example usage\n",
    "node_count = 26475\n",
    "link_count = 53381\n",
    "filename = 'erdos_renyi_caida_graph.txt'\n",
    "erdos_renyi(node_count, link_count, filename)"
   ]
  },
  {
   "cell_type": "code",
   "execution_count": 29,
   "metadata": {},
   "outputs": [
    {
     "name": "stdout",
     "output_type": "stream",
     "text": [
      "Number of nodes: 26475\n",
      "Number of edges: 53381\n",
      "Nodes and edges counted in 0.08473 seconds\n"
     ]
    }
   ],
   "source": [
    "filename = 'erdos_renyi_caida_graph.txt'\n",
    "result = test_count_nodes_edges_v2(filename)"
   ]
  },
  {
   "cell_type": "code",
   "execution_count": 30,
   "metadata": {},
   "outputs": [],
   "source": [
    "# Example usage\n",
    "node_count = 9740\n",
    "link_count = 35567\n",
    "filename = 'erdos_renyi_inet_graph.txt'\n",
    "erdos_renyi(node_count, link_count, filename)"
   ]
  },
  {
   "cell_type": "code",
   "execution_count": 31,
   "metadata": {},
   "outputs": [
    {
     "name": "stdout",
     "output_type": "stream",
     "text": [
      "Number of nodes: 9740\n",
      "Number of edges: 35567\n",
      "Nodes and edges counted in 0.04850 seconds\n"
     ]
    }
   ],
   "source": [
    "filename = 'erdos_renyi_inet_graph.txt'\n",
    "result = test_count_nodes_edges_v2(filename)"
   ]
  },
  {
   "cell_type": "markdown",
   "metadata": {},
   "source": [
    "### Question 3\n",
    "\n",
    "For both graphs, compare the degree distribution, the number of triangles, the approximate diameter (of the largest component) of the model to the ones of the original graph."
   ]
  },
  {
   "cell_type": "code",
   "execution_count": 32,
   "metadata": {},
   "outputs": [],
   "source": [
    "node_count = 26475\n",
    "link_count = 53381\n",
    "er_caida_graph = erdos_renyi_graph(node_count,link_count)"
   ]
  },
  {
   "cell_type": "code",
   "execution_count": 33,
   "metadata": {},
   "outputs": [
    {
     "name": "stdout",
     "output_type": "stream",
     "text": [
      "{2: 3791, 1: 1939, 4: 5173, 3: 5073, 11: 60, 8: 773, 5: 4238, 7: 1605, 6: 2829, 9: 357, 0: 457, 13: 8, 10: 149, 12: 21, 14: 2}\n"
     ]
    }
   ],
   "source": [
    "degree_distribution = compute_degree_distribution(er_caida_graph)\n",
    "print(degree_distribution)"
   ]
  },
  {
   "cell_type": "code",
   "execution_count": 34,
   "metadata": {},
   "outputs": [
    {
     "data": {
      "image/png": "[encoded data removed]",
      "text/plain": [
       "<Figure size 640x480 with 1 Axes>"
      ]
     },
     "metadata": {},
     "output_type": "display_data"
    }
   ],
   "source": [
    "plot_degree_distribution(er_caida_graph)"
   ]
  },
  {
   "cell_type": "code",
   "execution_count": 35,
   "metadata": {},
   "outputs": [
    {
     "name": "stdout",
     "output_type": "stream",
     "text": [
      "Number of triangles: 11\n",
      "Calculating triangle done in 0.05374 seconds\n"
     ]
    }
   ],
   "source": [
    "graph = er_caida_graph\n",
    "result = test_improved_triangle_count(graph)"
   ]
  },
  {
   "cell_type": "code",
   "execution_count": 36,
   "metadata": {},
   "outputs": [
    {
     "name": "stdout",
     "output_type": "stream",
     "text": [
      "Lower bound for diameter: 15\n",
      "Calculating lower bound done in 18.21364 seconds\n"
     ]
    }
   ],
   "source": [
    "graph = er_caida_graph\n",
    "sample_size = 1500\n",
    "result = test_lower_bound_diameter(graph, sample_size=sample_size)"
   ]
  },
  {
   "cell_type": "code",
   "execution_count": 37,
   "metadata": {},
   "outputs": [],
   "source": [
    "node_count = 9740\n",
    "link_count = 35567\n",
    "er_inet_graph = erdos_renyi_graph(node_count,link_count)"
   ]
  },
  {
   "cell_type": "code",
   "execution_count": 38,
   "metadata": {},
   "outputs": [
    {
     "name": "stdout",
     "output_type": "stream",
     "text": [
      "{10: 773, 6: 1356, 3: 433, 9: 1069, 5: 1205, 8: 1367, 4: 755, 7: 1367, 12: 326, 11: 522, 1: 46, 14: 92, 2: 174, 13: 152, 15: 48, 17: 11, 18: 4, 16: 28, 0: 9, 19: 1, 20: 2}\n"
     ]
    }
   ],
   "source": [
    "degree_distribution = compute_degree_distribution(er_inet_graph)\n",
    "print(degree_distribution)"
   ]
  },
  {
   "cell_type": "code",
   "execution_count": 39,
   "metadata": {},
   "outputs": [
    {
     "data": {
      "image/png": "[encoded data removed]",
      "text/plain": [
       "<Figure size 640x480 with 1 Axes>"
      ]
     },
     "metadata": {},
     "output_type": "display_data"
    }
   ],
   "source": [
    "plot_degree_distribution(er_inet_graph)"
   ]
  },
  {
   "cell_type": "code",
   "execution_count": 40,
   "metadata": {},
   "outputs": [
    {
     "name": "stdout",
     "output_type": "stream",
     "text": [
      "Number of triangles: 80\n",
      "Calculating triangle done in 0.03986 seconds\n"
     ]
    }
   ],
   "source": [
    "graph = er_inet_graph\n",
    "result = test_improved_triangle_count(graph)"
   ]
  },
  {
   "cell_type": "code",
   "execution_count": 41,
   "metadata": {},
   "outputs": [
    {
     "name": "stdout",
     "output_type": "stream",
     "text": [
      "Lower bound for diameter: 9\n",
      "Calculating lower bound done in 7.99188 seconds\n"
     ]
    }
   ],
   "source": [
    "graph = er_inet_graph\n",
    "sample_size = 1500\n",
    "result = test_lower_bound_diameter(graph, sample_size=sample_size)"
   ]
  },
  {
   "cell_type": "markdown",
   "metadata": {},
   "source": [
    "### Answer:\n",
    "\n",
    "Sadly, even though the Erdös-Rényi model can replicate the exact number of nodes and links, it's not able to do the same for the number of triangles present in the generated graph, as we can see from the comparison just above."
   ]
  },
  {
   "cell_type": "markdown",
   "metadata": {},
   "source": [
    "## Exercise 3: Barabasi-Albert model\n"
   ]
  },
  {
   "cell_type": "markdown",
   "metadata": {},
   "source": [
    "### Question 4\n",
    "\n",
    "Create a Barabasi-Albert graph with a number of links and nodes comparable to the CAIDA graph. We remind that in a BA model with $n$ nodes, the number of links $m$ is (approximately) equal to $\\alpha n$ where $ \\alpha $ is the parameter of the model. \n",
    "\n",
    "Same question for the INET graph."
   ]
  },
  {
   "cell_type": "code",
   "execution_count": 42,
   "metadata": {},
   "outputs": [],
   "source": [
    "def barabasi_albert_graph(n, m, filename):\n",
    "    \"\"\"\n",
    "    Generate a Barabasi-Albert graph and save it to a text file.\n",
    "\n",
    "    Parameters:\n",
    "    - n: Number of nodes\n",
    "    - m: Number of edges to attach from a new node to existing nodes\n",
    "    - filename: Name of the text file to save the graph\n",
    "\n",
    "    Example:\n",
    "    >>> barabasi_albert_graph(100, 3, 'barabasi_albert_graph.txt')\n",
    "    \"\"\"\n",
    "    # Initialize the graph with a fully connected initial small graph (m0 nodes)\n",
    "    graph = {i: set(range(i)) - {i} for i in range(m)}\n",
    "\n",
    "    # Generate the Barabasi-Albert graph\n",
    "    for new_node in range(m, n):\n",
    "        # Calculate probabilities for attaching edges to existing nodes\n",
    "        probabilities = [len(neighbors) for neighbors in graph.values()]\n",
    "        total_prob = sum(probabilities)\n",
    "        probabilities = [prob / total_prob for prob in probabilities]\n",
    "\n",
    "        # Attach m edges to existing nodes based on probabilities\n",
    "        selected_nodes = random.choices(list(graph.keys()), weights=probabilities, k=m)\n",
    "        graph[new_node] = set(selected_nodes)\n",
    "        for selected_node in selected_nodes:\n",
    "            graph[selected_node].add(new_node)\n",
    "\n",
    "    # Save the graph to a text file\n",
    "    with open(filename, 'w') as file:\n",
    "        for node, neighbors in graph.items():\n",
    "            neighbors_str = ' '.join(map(str, neighbors))\n",
    "            file.write(f\"{node} {neighbors_str}\\n\")"
   ]
  },
  {
   "cell_type": "code",
   "execution_count": 43,
   "metadata": {},
   "outputs": [],
   "source": [
    "barabasi_albert_graph(100, 3, 'barabasi_albert_graph.txt')"
   ]
  },
  {
   "cell_type": "code",
   "execution_count": 44,
   "metadata": {},
   "outputs": [
    {
     "name": "stdout",
     "output_type": "stream",
     "text": [
      "Number of nodes: 0\n",
      "Number of edges: 0\n",
      "Nodes and edges counted in 0.00067 seconds\n"
     ]
    }
   ],
   "source": [
    "filename = 'barabasi_albert_graph.txt'\n",
    "result = test_count_nodes_edges(filename)"
   ]
  },
  {
   "cell_type": "markdown",
   "metadata": {},
   "source": [
    "### Question 5\n",
    "\n",
    "For both graphs, compare the degree distribution, the number of triangles, the approximate diameter (of the largest component) of the model to the ones of the original graph."
   ]
  },
  {
   "cell_type": "code",
   "execution_count": null,
   "metadata": {},
   "outputs": [],
   "source": []
  },
  {
   "cell_type": "markdown",
   "metadata": {},
   "source": [
    "## Exercise 4: Watts-Strogatz model"
   ]
  },
  {
   "cell_type": "markdown",
   "metadata": {},
   "source": [
    "### Question 6\n",
    "\n",
    "Create a regular graph with a number of nodes $n$ equals to the one of the initial CAIDA graph. We have these constraints:\n",
    "\n",
    "* all nodes of a regular graph have the same degree $k$, choose $k$ so that the number $m$ of edges is close to the one of the CAIDA graph,\n",
    "\n",
    "* each node is connected to the nodes with the closest index, for example, if $k=6$, node $i$ will be connected to nodes $ i-1 $, $ i-2 $, $ i-3$ and $ i+1 $, $ i+2 $, $ i+3 $.\n",
    "\n",
    "Same question for the INET graph."
   ]
  },
  {
   "cell_type": "code",
   "execution_count": null,
   "metadata": {},
   "outputs": [],
   "source": []
  },
  {
   "cell_type": "markdown",
   "metadata": {},
   "source": [
    "### Question 7\n",
    "\n",
    "Starting from the graph created in the previous question, generate Watts-Strogatz models with several values of the parameter $p$: 0.01, 0.1, 0.3."
   ]
  },
  {
   "cell_type": "code",
   "execution_count": null,
   "metadata": {},
   "outputs": [],
   "source": []
  },
  {
   "cell_type": "markdown",
   "metadata": {},
   "source": [
    "### Question 8\n",
    "\n",
    "For both graphs, compare the degree distribution, the number of triangles, the approximate diameter (of the largest component) of the model to the ones of the original graph."
   ]
  },
  {
   "cell_type": "code",
   "execution_count": null,
   "metadata": {},
   "outputs": [],
   "source": []
  },
  {
   "cell_type": "code",
   "execution_count": null,
   "metadata": {},
   "outputs": [],
   "source": []
  },
  {
   "cell_type": "code",
   "execution_count": null,
   "metadata": {},
   "outputs": [],
   "source": []
  },
  {
   "cell_type": "markdown",
   "metadata": {},
   "source": [
    "## Exercise 5: configuration model"
   ]
  },
  {
   "cell_type": "markdown",
   "metadata": {},
   "source": [
    "### Question 9\n",
    "\n",
    "For both graphs, create a Configuration Model of the graph with the same degree sequence as the original graph.\n",
    "\n",
    "Unfortunately, the version \"with rejection\" runs too slowly to be used here, so implement the version \"with loops and multi-edges deletion\" seen in the course."
   ]
  },
  {
   "cell_type": "markdown",
   "metadata": {},
   "source": [
    "### Question 10\n",
    "\n",
    "For both CAIDA and INET graphs:\n",
    "\n",
    "* Compare the initial degree distribution to the configuration model degree distribution. To do so, compute the fraction of nodes which degree in the model is different from their degree in the original distribution: $ \\frac{n_{mod}}{n} $.\n",
    "\n",
    "* Compare the number of triangles of the configuration model to the one of the original graph. In which case does it correspond to the result of the course? In the other case, can you propose an explanation?"
   ]
  },
  {
   "cell_type": "code",
   "execution_count": null,
   "metadata": {},
   "outputs": [],
   "source": []
  },
  {
   "cell_type": "code",
   "execution_count": null,
   "metadata": {},
   "outputs": [],
   "source": []
  }
 ],
 "metadata": {
  "kernelspec": {
   "display_name": "Python 3",
   "language": "python",
   "name": "python3"
  },
  "language_info": {
   "codemirror_mode": {
    "name": "ipython",
    "version": 3
   },
   "file_extension": ".py",
   "mimetype": "text/x-python",
   "name": "python",
   "nbconvert_exporter": "python",
   "pygments_lexer": "ipython3",
   "version": "3.9.6"
  }
 },
 "nbformat": 4,
 "nbformat_minor": 2
}
